{
  "cells": [
    {
      "cell_type": "markdown",
      "metadata": {
        "id": "YNg5xjrGD4b3"
      },
      "source": [
        "Hi Veronika, I've written notes where need to add images, Please feel free to add any data analysis charts and model codes as you want"
      ]
    },
    {
      "cell_type": "markdown",
      "source": [
        "## Imports"
      ],
      "metadata": {
        "id": "igUkD2qDLITW"
      }
    },
    {
      "cell_type": "code",
      "source": [
        "%%capture\n",
        "! pip install --upgrade medcat\n",
        "! pip install https://s3-us-west-2.amazonaws.com/ai2-s2-scispacy/releases/v0.2.4/en_core_sci_md-0.2.4.tar.gz"
      ],
      "metadata": {
        "id": "EQlPxMKeQoql"
      },
      "execution_count": null,
      "outputs": []
    },
    {
      "cell_type": "code",
      "execution_count": null,
      "metadata": {
        "id": "_NpHT3WED4b6"
      },
      "outputs": [],
      "source": [
        "import pandas as pd\n",
        "import csv\n",
        "import os\n",
        "import numpy as np\n",
        "from tqdm import tqdm\n",
        "import matplotlib.pyplot as plt\n",
        "import seaborn as sns\n",
        "\n",
        "from medcat.vocab import Vocab\n",
        "from medcat.cdb import CDB\n",
        "from medcat.cat import CAT\n",
        "\n",
        "from medcat.meta_cat import MetaCAT\n",
        "import pickle\n",
        "\n",
        "from tqdm.notebook import tqdm\n",
        "import tensorflow as tf\n",
        "from sklearn.model_selection import train_test_split\n",
        "\n",
        "from scipy.stats import mode\n",
        "import spacy\n",
        "from ast import literal_eval\n",
        "\n",
        "from sklearn.preprocessing import LabelEncoder\n",
        "from sklearn.preprocessing import OneHotEncoder\n",
        "from sklearn.preprocessing import MultiLabelBinarizer\n",
        "from sklearn.model_selection import train_test_split, cross_val_score\n",
        "from sklearn.naive_bayes import GaussianNB\n",
        "\n",
        "from sklearn.neighbors import KNeighborsClassifier\n",
        "from sklearn.ensemble import RandomForestClassifier\n",
        "from sklearn.linear_model import LogisticRegression\n",
        "from sklearn.svm import SVC\n",
        "from sklearn.dummy import DummyClassifier\n",
        "\n",
        "from sklearn.metrics import accuracy_score, confusion_matrix\n",
        "from sklearn.metrics import classification_report\n",
        "\n",
        "import warnings\n",
        "import time\n",
        "warnings.filterwarnings('ignore')"
      ]
    },
    {
      "cell_type": "code",
      "source": [
        "%%capture\n",
        "! pip install catboost\n",
        "from catboost import CatBoostClassifier\n",
        "from catboost import CatBoostRegressor"
      ],
      "metadata": {
        "id": "OHLESjf3Q1lj"
      },
      "execution_count": null,
      "outputs": []
    },
    {
      "cell_type": "code",
      "source": [
        "%%capture\n",
        "! pip install optuna\n",
        "import optuna\n",
        "from optuna import Trial, visualization\n",
        "from optuna.samplers import TPESampler"
      ],
      "metadata": {
        "id": "Arv0BXfsQ3Q1"
      },
      "execution_count": null,
      "outputs": []
    },
    {
      "cell_type": "markdown",
      "source": [
        "## Working with Medcat"
      ],
      "metadata": {
        "id": "omcZ2IHaLWOO"
      }
    },
    {
      "cell_type": "markdown",
      "source": [
        "### Data Loading"
      ],
      "metadata": {
        "id": "t4HomYwhygKi"
      }
    },
    {
      "cell_type": "markdown",
      "metadata": {
        "id": "fdRlf_VPD4b8"
      },
      "source": [
        "Loading Medcat"
      ]
    },
    {
      "cell_type": "code",
      "source": [
        "! unzip \"Medcat.zip\""
      ],
      "metadata": {
        "colab": {
          "base_uri": "https://localhost:8080/"
        },
        "id": "SzyZVxWGSRG8",
        "outputId": "4ab679ec-81e9-478a-f779-284d313ea62f"
      },
      "execution_count": null,
      "outputs": [
        {
          "output_type": "stream",
          "name": "stdout",
          "text": [
            "Archive:  Medcat.zip\n",
            "  inflating: cdb-medmen-v1.dat       \n",
            "   creating: Status/\n",
            "  inflating: Status/bbpe-merges.txt  \n",
            "  inflating: Status/bbpe-vocab.json  \n",
            "  inflating: Status/config.json      \n",
            "  inflating: Status/model.dat        \n",
            "  inflating: vocab.dat               \n"
          ]
        }
      ]
    },
    {
      "cell_type": "code",
      "execution_count": null,
      "metadata": {
        "id": "I2TUqxa8D4b8"
      },
      "outputs": [],
      "source": [
        "#medcat model path\n",
        "vocab_path = r\"vocab.dat\"\n",
        "cdb_path = r\"cdb-medmen-v1.dat\"\n",
        "status_path = r\"Status\"\n",
        "\n",
        "vocab=None\n",
        "cdb=None\n",
        "cat=None\n",
        "\n",
        "\n",
        "model_loaded = False\n",
        "\n",
        "def loadmodel():\n",
        "    global vocab, cdb, cat\n",
        "    if vocab is None or cdb is None or cat is None:\n",
        "        print(\"**load model\")\n",
        "        # Load the vocab model you downloaded\n",
        "        vocab = Vocab.load(vocab_path)\n",
        "        # Load the cdb model you downloaded\n",
        "        cdb = CDB.load(cdb_path)\n",
        "        # Create cat - each cdb comes with a config that was used\n",
        "        #to train it. You can change that config in any way you want, before or after creating cat.\n",
        "        cat = CAT(cdb=cdb, config=cdb.config, vocab=vocab)\n",
        "        # Assume we have a CDB and Vocab object from before\n",
        "        mc_status = MetaCAT.load(status_path)\n",
        "        cat = CAT(cdb=cdb, config=cdb.config, vocab=vocab, meta_cats=[mc_status])\n",
        "\n",
        "def med_analysis(text):\n",
        "    global cat\n",
        "    if cat is None:\n",
        "        # print(\"load model\")\n",
        "        loadmodel()\n",
        "    doc = cat.get_entities(text)\n",
        "    #print(doc)\n",
        "    return doc\n"
      ]
    },
    {
      "cell_type": "markdown",
      "metadata": {
        "id": "59lCQiV3D4b9"
      },
      "source": [
        "Read mimic-iii dataset"
      ]
    },
    {
      "cell_type": "code",
      "execution_count": null,
      "metadata": {
        "id": "azZZjF6tD4b9"
      },
      "outputs": [],
      "source": [
        "input_file_name = r\"NOTEEVENTS.csv\"\n",
        "icd_file_name=r\"DIAGNOSES_ICD.csv\"\n",
        "\n",
        "notefile=pd.read_csv(input_file_name)\n",
        "icdfile=pd.read_csv(icd_file_name)"
      ]
    },
    {
      "cell_type": "code",
      "execution_count": null,
      "metadata": {
        "colab": {
          "base_uri": "https://localhost:8080/",
          "height": 293
        },
        "id": "heM8EXK8D4b9",
        "outputId": "d34696a3-fff8-48bd-bf30-ed4b7d297c9a"
      },
      "outputs": [
        {
          "output_type": "execute_result",
          "data": {
            "text/plain": [
              "   ROW_ID  SUBJECT_ID   HADM_ID   CHARTDATE  CHARTTIME  STORETIME  \\\n",
              "0     174       22532  167853.0  2151-08-04        NaN        NaN   \n",
              "1     175       13702  107527.0  2118-06-14        NaN        NaN   \n",
              "2     176       13702  167118.0  2119-05-25        NaN        NaN   \n",
              "3     177       13702  196489.0  2124-08-18        NaN        NaN   \n",
              "4     178       26880  135453.0  2162-03-25        NaN        NaN   \n",
              "\n",
              "            CATEGORY DESCRIPTION  CGID  ISERROR  \\\n",
              "0  Discharge summary      Report   NaN      NaN   \n",
              "1  Discharge summary      Report   NaN      NaN   \n",
              "2  Discharge summary      Report   NaN      NaN   \n",
              "3  Discharge summary      Report   NaN      NaN   \n",
              "4  Discharge summary      Report   NaN      NaN   \n",
              "\n",
              "                                                TEXT  \n",
              "0  Admission Date:  [**2151-7-16**]       Dischar...  \n",
              "1  Admission Date:  [**2118-6-2**]       Discharg...  \n",
              "2  Admission Date:  [**2119-5-4**]              D...  \n",
              "3  Admission Date:  [**2124-7-21**]              ...  \n",
              "4  Admission Date:  [**2162-3-3**]              D...  "
            ],
            "text/html": [
              "\n",
              "  <div id=\"df-e87a245a-9cf5-448f-9dab-d589338899cc\" class=\"colab-df-container\">\n",
              "    <div>\n",
              "<style scoped>\n",
              "    .dataframe tbody tr th:only-of-type {\n",
              "        vertical-align: middle;\n",
              "    }\n",
              "\n",
              "    .dataframe tbody tr th {\n",
              "        vertical-align: top;\n",
              "    }\n",
              "\n",
              "    .dataframe thead th {\n",
              "        text-align: right;\n",
              "    }\n",
              "</style>\n",
              "<table border=\"1\" class=\"dataframe\">\n",
              "  <thead>\n",
              "    <tr style=\"text-align: right;\">\n",
              "      <th></th>\n",
              "      <th>ROW_ID</th>\n",
              "      <th>SUBJECT_ID</th>\n",
              "      <th>HADM_ID</th>\n",
              "      <th>CHARTDATE</th>\n",
              "      <th>CHARTTIME</th>\n",
              "      <th>STORETIME</th>\n",
              "      <th>CATEGORY</th>\n",
              "      <th>DESCRIPTION</th>\n",
              "      <th>CGID</th>\n",
              "      <th>ISERROR</th>\n",
              "      <th>TEXT</th>\n",
              "    </tr>\n",
              "  </thead>\n",
              "  <tbody>\n",
              "    <tr>\n",
              "      <th>0</th>\n",
              "      <td>174</td>\n",
              "      <td>22532</td>\n",
              "      <td>167853.0</td>\n",
              "      <td>2151-08-04</td>\n",
              "      <td>NaN</td>\n",
              "      <td>NaN</td>\n",
              "      <td>Discharge summary</td>\n",
              "      <td>Report</td>\n",
              "      <td>NaN</td>\n",
              "      <td>NaN</td>\n",
              "      <td>Admission Date:  [**2151-7-16**]       Dischar...</td>\n",
              "    </tr>\n",
              "    <tr>\n",
              "      <th>1</th>\n",
              "      <td>175</td>\n",
              "      <td>13702</td>\n",
              "      <td>107527.0</td>\n",
              "      <td>2118-06-14</td>\n",
              "      <td>NaN</td>\n",
              "      <td>NaN</td>\n",
              "      <td>Discharge summary</td>\n",
              "      <td>Report</td>\n",
              "      <td>NaN</td>\n",
              "      <td>NaN</td>\n",
              "      <td>Admission Date:  [**2118-6-2**]       Discharg...</td>\n",
              "    </tr>\n",
              "    <tr>\n",
              "      <th>2</th>\n",
              "      <td>176</td>\n",
              "      <td>13702</td>\n",
              "      <td>167118.0</td>\n",
              "      <td>2119-05-25</td>\n",
              "      <td>NaN</td>\n",
              "      <td>NaN</td>\n",
              "      <td>Discharge summary</td>\n",
              "      <td>Report</td>\n",
              "      <td>NaN</td>\n",
              "      <td>NaN</td>\n",
              "      <td>Admission Date:  [**2119-5-4**]              D...</td>\n",
              "    </tr>\n",
              "    <tr>\n",
              "      <th>3</th>\n",
              "      <td>177</td>\n",
              "      <td>13702</td>\n",
              "      <td>196489.0</td>\n",
              "      <td>2124-08-18</td>\n",
              "      <td>NaN</td>\n",
              "      <td>NaN</td>\n",
              "      <td>Discharge summary</td>\n",
              "      <td>Report</td>\n",
              "      <td>NaN</td>\n",
              "      <td>NaN</td>\n",
              "      <td>Admission Date:  [**2124-7-21**]              ...</td>\n",
              "    </tr>\n",
              "    <tr>\n",
              "      <th>4</th>\n",
              "      <td>178</td>\n",
              "      <td>26880</td>\n",
              "      <td>135453.0</td>\n",
              "      <td>2162-03-25</td>\n",
              "      <td>NaN</td>\n",
              "      <td>NaN</td>\n",
              "      <td>Discharge summary</td>\n",
              "      <td>Report</td>\n",
              "      <td>NaN</td>\n",
              "      <td>NaN</td>\n",
              "      <td>Admission Date:  [**2162-3-3**]              D...</td>\n",
              "    </tr>\n",
              "  </tbody>\n",
              "</table>\n",
              "</div>\n",
              "    <div class=\"colab-df-buttons\">\n",
              "\n",
              "  <div class=\"colab-df-container\">\n",
              "    <button class=\"colab-df-convert\" onclick=\"convertToInteractive('df-e87a245a-9cf5-448f-9dab-d589338899cc')\"\n",
              "            title=\"Convert this dataframe to an interactive table.\"\n",
              "            style=\"display:none;\">\n",
              "\n",
              "  <svg xmlns=\"http://www.w3.org/2000/svg\" height=\"24px\" viewBox=\"0 -960 960 960\">\n",
              "    <path d=\"M120-120v-720h720v720H120Zm60-500h600v-160H180v160Zm220 220h160v-160H400v160Zm0 220h160v-160H400v160ZM180-400h160v-160H180v160Zm440 0h160v-160H620v160ZM180-180h160v-160H180v160Zm440 0h160v-160H620v160Z\"/>\n",
              "  </svg>\n",
              "    </button>\n",
              "\n",
              "  <style>\n",
              "    .colab-df-container {\n",
              "      display:flex;\n",
              "      gap: 12px;\n",
              "    }\n",
              "\n",
              "    .colab-df-convert {\n",
              "      background-color: #E8F0FE;\n",
              "      border: none;\n",
              "      border-radius: 50%;\n",
              "      cursor: pointer;\n",
              "      display: none;\n",
              "      fill: #1967D2;\n",
              "      height: 32px;\n",
              "      padding: 0 0 0 0;\n",
              "      width: 32px;\n",
              "    }\n",
              "\n",
              "    .colab-df-convert:hover {\n",
              "      background-color: #E2EBFA;\n",
              "      box-shadow: 0px 1px 2px rgba(60, 64, 67, 0.3), 0px 1px 3px 1px rgba(60, 64, 67, 0.15);\n",
              "      fill: #174EA6;\n",
              "    }\n",
              "\n",
              "    .colab-df-buttons div {\n",
              "      margin-bottom: 4px;\n",
              "    }\n",
              "\n",
              "    [theme=dark] .colab-df-convert {\n",
              "      background-color: #3B4455;\n",
              "      fill: #D2E3FC;\n",
              "    }\n",
              "\n",
              "    [theme=dark] .colab-df-convert:hover {\n",
              "      background-color: #434B5C;\n",
              "      box-shadow: 0px 1px 3px 1px rgba(0, 0, 0, 0.15);\n",
              "      filter: drop-shadow(0px 1px 2px rgba(0, 0, 0, 0.3));\n",
              "      fill: #FFFFFF;\n",
              "    }\n",
              "  </style>\n",
              "\n",
              "    <script>\n",
              "      const buttonEl =\n",
              "        document.querySelector('#df-e87a245a-9cf5-448f-9dab-d589338899cc button.colab-df-convert');\n",
              "      buttonEl.style.display =\n",
              "        google.colab.kernel.accessAllowed ? 'block' : 'none';\n",
              "\n",
              "      async function convertToInteractive(key) {\n",
              "        const element = document.querySelector('#df-e87a245a-9cf5-448f-9dab-d589338899cc');\n",
              "        const dataTable =\n",
              "          await google.colab.kernel.invokeFunction('convertToInteractive',\n",
              "                                                    [key], {});\n",
              "        if (!dataTable) return;\n",
              "\n",
              "        const docLinkHtml = 'Like what you see? Visit the ' +\n",
              "          '<a target=\"_blank\" href=https://colab.research.google.com/notebooks/data_table.ipynb>data table notebook</a>'\n",
              "          + ' to learn more about interactive tables.';\n",
              "        element.innerHTML = '';\n",
              "        dataTable['output_type'] = 'display_data';\n",
              "        await google.colab.output.renderOutput(dataTable, element);\n",
              "        const docLink = document.createElement('div');\n",
              "        docLink.innerHTML = docLinkHtml;\n",
              "        element.appendChild(docLink);\n",
              "      }\n",
              "    </script>\n",
              "  </div>\n",
              "\n",
              "\n",
              "<div id=\"df-f0ff5168-a0b4-4d76-ae50-ea3ab7831a57\">\n",
              "  <button class=\"colab-df-quickchart\" onclick=\"quickchart('df-f0ff5168-a0b4-4d76-ae50-ea3ab7831a57')\"\n",
              "            title=\"Suggest charts\"\n",
              "            style=\"display:none;\">\n",
              "\n",
              "<svg xmlns=\"http://www.w3.org/2000/svg\" height=\"24px\"viewBox=\"0 0 24 24\"\n",
              "     width=\"24px\">\n",
              "    <g>\n",
              "        <path d=\"M19 3H5c-1.1 0-2 .9-2 2v14c0 1.1.9 2 2 2h14c1.1 0 2-.9 2-2V5c0-1.1-.9-2-2-2zM9 17H7v-7h2v7zm4 0h-2V7h2v10zm4 0h-2v-4h2v4z\"/>\n",
              "    </g>\n",
              "</svg>\n",
              "  </button>\n",
              "\n",
              "<style>\n",
              "  .colab-df-quickchart {\n",
              "      --bg-color: #E8F0FE;\n",
              "      --fill-color: #1967D2;\n",
              "      --hover-bg-color: #E2EBFA;\n",
              "      --hover-fill-color: #174EA6;\n",
              "      --disabled-fill-color: #AAA;\n",
              "      --disabled-bg-color: #DDD;\n",
              "  }\n",
              "\n",
              "  [theme=dark] .colab-df-quickchart {\n",
              "      --bg-color: #3B4455;\n",
              "      --fill-color: #D2E3FC;\n",
              "      --hover-bg-color: #434B5C;\n",
              "      --hover-fill-color: #FFFFFF;\n",
              "      --disabled-bg-color: #3B4455;\n",
              "      --disabled-fill-color: #666;\n",
              "  }\n",
              "\n",
              "  .colab-df-quickchart {\n",
              "    background-color: var(--bg-color);\n",
              "    border: none;\n",
              "    border-radius: 50%;\n",
              "    cursor: pointer;\n",
              "    display: none;\n",
              "    fill: var(--fill-color);\n",
              "    height: 32px;\n",
              "    padding: 0;\n",
              "    width: 32px;\n",
              "  }\n",
              "\n",
              "  .colab-df-quickchart:hover {\n",
              "    background-color: var(--hover-bg-color);\n",
              "    box-shadow: 0 1px 2px rgba(60, 64, 67, 0.3), 0 1px 3px 1px rgba(60, 64, 67, 0.15);\n",
              "    fill: var(--button-hover-fill-color);\n",
              "  }\n",
              "\n",
              "  .colab-df-quickchart-complete:disabled,\n",
              "  .colab-df-quickchart-complete:disabled:hover {\n",
              "    background-color: var(--disabled-bg-color);\n",
              "    fill: var(--disabled-fill-color);\n",
              "    box-shadow: none;\n",
              "  }\n",
              "\n",
              "  .colab-df-spinner {\n",
              "    border: 2px solid var(--fill-color);\n",
              "    border-color: transparent;\n",
              "    border-bottom-color: var(--fill-color);\n",
              "    animation:\n",
              "      spin 1s steps(1) infinite;\n",
              "  }\n",
              "\n",
              "  @keyframes spin {\n",
              "    0% {\n",
              "      border-color: transparent;\n",
              "      border-bottom-color: var(--fill-color);\n",
              "      border-left-color: var(--fill-color);\n",
              "    }\n",
              "    20% {\n",
              "      border-color: transparent;\n",
              "      border-left-color: var(--fill-color);\n",
              "      border-top-color: var(--fill-color);\n",
              "    }\n",
              "    30% {\n",
              "      border-color: transparent;\n",
              "      border-left-color: var(--fill-color);\n",
              "      border-top-color: var(--fill-color);\n",
              "      border-right-color: var(--fill-color);\n",
              "    }\n",
              "    40% {\n",
              "      border-color: transparent;\n",
              "      border-right-color: var(--fill-color);\n",
              "      border-top-color: var(--fill-color);\n",
              "    }\n",
              "    60% {\n",
              "      border-color: transparent;\n",
              "      border-right-color: var(--fill-color);\n",
              "    }\n",
              "    80% {\n",
              "      border-color: transparent;\n",
              "      border-right-color: var(--fill-color);\n",
              "      border-bottom-color: var(--fill-color);\n",
              "    }\n",
              "    90% {\n",
              "      border-color: transparent;\n",
              "      border-bottom-color: var(--fill-color);\n",
              "    }\n",
              "  }\n",
              "</style>\n",
              "\n",
              "  <script>\n",
              "    async function quickchart(key) {\n",
              "      const quickchartButtonEl =\n",
              "        document.querySelector('#' + key + ' button');\n",
              "      quickchartButtonEl.disabled = true;  // To prevent multiple clicks.\n",
              "      quickchartButtonEl.classList.add('colab-df-spinner');\n",
              "      try {\n",
              "        const charts = await google.colab.kernel.invokeFunction(\n",
              "            'suggestCharts', [key], {});\n",
              "      } catch (error) {\n",
              "        console.error('Error during call to suggestCharts:', error);\n",
              "      }\n",
              "      quickchartButtonEl.classList.remove('colab-df-spinner');\n",
              "      quickchartButtonEl.classList.add('colab-df-quickchart-complete');\n",
              "    }\n",
              "    (() => {\n",
              "      let quickchartButtonEl =\n",
              "        document.querySelector('#df-f0ff5168-a0b4-4d76-ae50-ea3ab7831a57 button');\n",
              "      quickchartButtonEl.style.display =\n",
              "        google.colab.kernel.accessAllowed ? 'block' : 'none';\n",
              "    })();\n",
              "  </script>\n",
              "</div>\n",
              "\n",
              "    </div>\n",
              "  </div>\n"
            ],
            "application/vnd.google.colaboratory.intrinsic+json": {
              "type": "dataframe",
              "variable_name": "notefile",
              "summary": "{\n  \"name\": \"notefile\",\n  \"rows\": 100,\n  \"fields\": [\n    {\n      \"column\": \"ROW_ID\",\n      \"properties\": {\n        \"dtype\": \"number\",\n        \"std\": 87,\n        \"min\": 1,\n        \"max\": 249,\n        \"num_unique_values\": 100,\n        \"samples\": [\n          8,\n          200,\n          217\n        ],\n        \"semantic_type\": \"\",\n        \"description\": \"\"\n      }\n    },\n    {\n      \"column\": \"SUBJECT_ID\",\n      \"properties\": {\n        \"dtype\": \"number\",\n        \"std\": 25999,\n        \"min\": 710,\n        \"max\": 99091,\n        \"num_unique_values\": 60,\n        \"samples\": [\n          22532,\n          42130,\n          4127\n        ],\n        \"semantic_type\": \"\",\n        \"description\": \"\"\n      }\n    },\n    {\n      \"column\": \"HADM_ID\",\n      \"properties\": {\n        \"dtype\": \"number\",\n        \"std\": 28695.888231871486,\n        \"min\": 103786.0,\n        \"max\": 199586.0,\n        \"num_unique_values\": 93,\n        \"samples\": [\n          132347.0,\n          185175.0,\n          129387.0\n        ],\n        \"semantic_type\": \"\",\n        \"description\": \"\"\n      }\n    },\n    {\n      \"column\": \"CHARTDATE\",\n      \"properties\": {\n        \"dtype\": \"object\",\n        \"num_unique_values\": 97,\n        \"samples\": [\n          \"2159-04-10\",\n          \"2147-07-01\",\n          \"2178-12-09\"\n        ],\n        \"semantic_type\": \"\",\n        \"description\": \"\"\n      }\n    },\n    {\n      \"column\": \"CHARTTIME\",\n      \"properties\": {\n        \"dtype\": \"number\",\n        \"std\": null,\n        \"min\": null,\n        \"max\": null,\n        \"num_unique_values\": 0,\n        \"samples\": [],\n        \"semantic_type\": \"\",\n        \"description\": \"\"\n      }\n    },\n    {\n      \"column\": \"STORETIME\",\n      \"properties\": {\n        \"dtype\": \"number\",\n        \"std\": null,\n        \"min\": null,\n        \"max\": null,\n        \"num_unique_values\": 0,\n        \"samples\": [],\n        \"semantic_type\": \"\",\n        \"description\": \"\"\n      }\n    },\n    {\n      \"column\": \"CATEGORY\",\n      \"properties\": {\n        \"dtype\": \"category\",\n        \"num_unique_values\": 1,\n        \"samples\": [],\n        \"semantic_type\": \"\",\n        \"description\": \"\"\n      }\n    },\n    {\n      \"column\": \"DESCRIPTION\",\n      \"properties\": {\n        \"dtype\": \"category\",\n        \"num_unique_values\": 1,\n        \"samples\": [],\n        \"semantic_type\": \"\",\n        \"description\": \"\"\n      }\n    },\n    {\n      \"column\": \"CGID\",\n      \"properties\": {\n        \"dtype\": \"number\",\n        \"std\": null,\n        \"min\": null,\n        \"max\": null,\n        \"num_unique_values\": 0,\n        \"samples\": [],\n        \"semantic_type\": \"\",\n        \"description\": \"\"\n      }\n    },\n    {\n      \"column\": \"ISERROR\",\n      \"properties\": {\n        \"dtype\": \"number\",\n        \"std\": null,\n        \"min\": null,\n        \"max\": null,\n        \"num_unique_values\": 0,\n        \"samples\": [],\n        \"semantic_type\": \"\",\n        \"description\": \"\"\n      }\n    },\n    {\n      \"column\": \"TEXT\",\n      \"properties\": {\n        \"dtype\": \"string\",\n        \"num_unique_values\": 100,\n        \"samples\": [],\n        \"semantic_type\": \"\",\n        \"description\": \"\"\n      }\n    }\n  ]\n}"
            }
          },
          "metadata": {},
          "execution_count": 9
        }
      ],
      "source": [
        "notefile.head()"
      ]
    },
    {
      "cell_type": "markdown",
      "metadata": {
        "id": "xGBq55vFD4b-"
      },
      "source": [
        "### Medcat Processing"
      ]
    },
    {
      "cell_type": "code",
      "execution_count": null,
      "metadata": {
        "colab": {
          "base_uri": "https://localhost:8080/"
        },
        "id": "0hLefylPD4b-",
        "outputId": "2b152853-4f35-4535-d90c-95ce2f9cd6d8"
      },
      "outputs": [
        {
          "output_type": "stream",
          "name": "stdout",
          "text": [
            "the number of records are: 100\n",
            "The number of patients are: 60\n"
          ]
        }
      ],
      "source": [
        "#show the number of records and patients\n",
        "patient_id=notefile['SUBJECT_ID'].unique()\n",
        "print(\"the number of records are:\",notefile['SUBJECT_ID'].count())\n",
        "print(\"The number of patients are:\",len(patient_id))"
      ]
    },
    {
      "cell_type": "code",
      "execution_count": null,
      "metadata": {
        "id": "gzIbiBuFD4b-"
      },
      "outputs": [],
      "source": [
        "notefile['SUBJECT_ID'].value_counts()"
      ]
    },
    {
      "cell_type": "markdown",
      "metadata": {
        "id": "Lda7IixBD4b-"
      },
      "source": [
        "Data processed by Medcat:"
      ]
    },
    {
      "cell_type": "code",
      "execution_count": null,
      "metadata": {
        "id": "d1q1eBkAD4b_"
      },
      "outputs": [],
      "source": [
        "def med_extract(Subject_ID,HADM_ID):\n",
        "    target_types = ['Sign or Symptom', 'Disease or Syndrome',\n",
        "                    'Pathologic Function',\n",
        "                    'Body Part, Organ, or Organ Component',\n",
        "                    'CRANIOCEREBRAL INJ']\n",
        "\n",
        "    target_status = 'Affirmed'\n",
        "    symptoms_dict = []\n",
        "    note_dict = notefile[(notefile['SUBJECT_ID']==Subject_ID) &\n",
        "                        (notefile['HADM_ID']==HADM_ID)]['TEXT']\n",
        "    note_num = len(note_dict)\n",
        "    for note in note_dict:\n",
        "        note_with_spaces = note.replace('\\n',' ')\n",
        "        med_data = med_analysis(note_with_spaces)\n",
        "        if 'entities' in med_data and med_data['entities']:\n",
        "            for i in med_data['entities'].keys():\n",
        "                entity = med_data['entities'][i]\n",
        "                if any(target in entity['types'] for target in target_types) :\n",
        "                    #print(entity)\n",
        "                    symptoms_dict.append(entity['pretty_name'])\n",
        "\n",
        "    return list(set(symptoms_dict)),note_num"
      ]
    },
    {
      "cell_type": "code",
      "execution_count": null,
      "metadata": {
        "id": "jq2l03ViD4b_"
      },
      "outputs": [],
      "source": [
        "def get_id():\n",
        "    patient_id=notefile['SUBJECT_ID'].unique()\n",
        "    dict={id: notefile[(notefile['SUBJECT_ID'] == id)\n",
        "                    ]['HADM_ID'].unique() for id in patient_id }\n",
        "    return dict"
      ]
    },
    {
      "cell_type": "code",
      "execution_count": null,
      "metadata": {
        "id": "mhYhMgevD4b_"
      },
      "outputs": [],
      "source": [
        "def get_icd(Subject_ID,HADM_ID):\n",
        "    return list(icdfile[(icdfile['SUBJECT_ID']==Subject_ID)\n",
        "                & (icdfile['HADM_ID']==HADM_ID)]['ICD9_CODE'])"
      ]
    },
    {
      "cell_type": "code",
      "execution_count": null,
      "metadata": {
        "id": "GiPTyts9vexD",
        "outputId": "969f94b4-9700-4049-f636-fe353d4e3fed"
      },
      "outputs": [
        {
          "name": "stdout",
          "output_type": "stream",
          "text": [
            "**load model\n"
          ]
        },
        {
          "name": "stderr",
          "output_type": "stream",
          "text": [
            "e:\\Environment\\Python\\Lib\\site-packages\\spacy\\language.py:2141: FutureWarning: Possible set union at position 6328\n",
            "  deserializers[\"tokenizer\"] = lambda p: self.tokenizer.from_disk(  # type: ignore[union-attr]\n"
          ]
        },
        {
          "data": {
            "text/plain": [
              "(['Leg',\n",
              "  'Coughing',\n",
              "  'Hip structure',\n",
              "  'Heart',\n",
              "  'Left Ventricular Hypertrophy',\n",
              "  'Congestive heart failure',\n",
              "  'anatomical layer',\n",
              "  'Bleeding, Intracranial',\n",
              "  'Thickening of pleura',\n",
              "  'Tuberculosis',\n",
              "  'Ear structure',\n",
              "  'Hypertensive disease',\n",
              "  'Pulmonary Hypertension',\n",
              "  'lobe',\n",
              "  'Vasculitis',\n",
              "  'Bone structure of sacrum',\n",
              "  'Left ventricular structure',\n",
              "  'Infectious disease of lung',\n",
              "  'acute infection',\n",
              "  'Structure of upper lobe of lung',\n",
              "  'Structure of lobe of lung',\n",
              "  'Pericardial sac structure',\n",
              "  'Thoracic spine structure',\n",
              "  'Hypoventilation',\n",
              "  'Haemodynamic instability',\n",
              "  'Right ventricular structure',\n",
              "  'Urinary Bladder',\n",
              "  'Parietal Lobe',\n",
              "  'Eye',\n",
              "  'Aortic Valve Insufficiency',\n",
              "  'Osteoporosis',\n",
              "  'Nose',\n",
              "  'Ulcerative Colitis',\n",
              "  'Aorta',\n",
              "  'Bronchioles',\n",
              "  'Stomach',\n",
              "  'Chronic constipation',\n",
              "  'Vertebral column',\n",
              "  'Lymphadenopathy',\n",
              "  'Tuberculosis, Spinal',\n",
              "  'All extremities',\n",
              "  'parenchyma',\n",
              "  'Sore to touch',\n",
              "  'Infection',\n",
              "  'Hypertension, systolic',\n",
              "  'Heart failure',\n",
              "  'Signs and Symptoms',\n",
              "  'Aspiration Pneumonia',\n",
              "  'Kidney',\n",
              "  'Pupil',\n",
              "  'Abscess',\n",
              "  'Aortic valve disorder',\n",
              "  'Diabetic Retinopathy',\n",
              "  'Structure of profunda femoris artery',\n",
              "  'Intestines, Small',\n",
              "  'Apical Periodontitides',\n",
              "  'Left lung',\n",
              "  'Consumption, Pulmonary',\n",
              "  'body upper',\n",
              "  'Liver',\n",
              "  'Adrenal Glands',\n",
              "  'Alveolar wall',\n",
              "  'Hemorrhage',\n",
              "  'Brain',\n",
              "  'Iron deficiency',\n",
              "  'Left Bundle-Branch Block',\n",
              "  'Illness (finding)',\n",
              "  'Heart Septum',\n",
              "  'Atelectasis',\n",
              "  'Uterus',\n",
              "  'Lung',\n",
              "  'Pericardial effusion',\n",
              "  'frontal lobe',\n",
              "  'Endocarditis',\n",
              "  'Body of vertebra',\n",
              "  'Throat',\n",
              "  'Communicable Diseases',\n",
              "  'CALCIUM BLOOD INCREASED',\n",
              "  'Aortic Aneurysm',\n",
              "  'Blood Vessel',\n",
              "  'Pneumonia',\n",
              "  'Atrial Fibrillation',\n",
              "  'Anemia',\n",
              "  'Cyst',\n",
              "  'Myocardial Infarction',\n",
              "  'Myasthenia Gravis',\n",
              "  'Gallbladder',\n",
              "  'Spleen',\n",
              "  'Occipital lobe',\n",
              "  'Left kidney',\n",
              "  'Multiple Sclerosis',\n",
              "  'Pulmonary artery structure',\n",
              "  'Hand',\n",
              "  'diseases granulomatous',\n",
              "  'Tricuspid Valve Insufficiency',\n",
              "  'Respiratory Failure',\n",
              "  'Wheezing',\n",
              "  'Corpus striatum ventrale',\n",
              "  'Infective endocarditis',\n",
              "  'Peripheral Arterial Diseases',\n",
              "  'Mitral Valve Insufficiency',\n",
              "  'Malaise',\n",
              "  'Skeletal bone',\n",
              "  'Arthralgia (hip)',\n",
              "  'Appendix',\n",
              "  'artery pulmonary',\n",
              "  'Pulmonary Embolism',\n",
              "  'Degenerative polyarthritis',\n",
              "  'Pancreas',\n",
              "  'Pleural effusion disorder',\n",
              "  'Pelvis',\n",
              "  'Cortex of bone',\n",
              "  'Disease',\n",
              "  'Left temporal lobe structure',\n",
              "  'Cerebrovascular accident',\n",
              "  'Chest Pain',\n",
              "  'Constipation',\n",
              "  'Malnutrition',\n",
              "  'Lower Extremity',\n",
              "  'Cellulitis',\n",
              "  'Body part',\n",
              "  'Complication',\n",
              "  'Pneumothorax',\n",
              "  'Pain',\n",
              "  'Cholelithiasis',\n",
              "  'Edema',\n",
              "  'Right atrial structure',\n",
              "  'Right colon',\n",
              "  'Left atrial structure',\n",
              "  'Chronic venous insufficiency',\n",
              "  'Dehydration',\n",
              "  'lymph nodes',\n",
              "  'Airway structure',\n",
              "  'Right ventricular segment',\n",
              "  'Cardiac chamber structure',\n",
              "  'Hypersensitivity',\n",
              "  'Pulmonary aspiration',\n",
              "  'Infarction',\n",
              "  'Ischemia',\n",
              "  'Cardiomyopathies',\n",
              "  'Dyspnea',\n",
              "  'Deep Vein Thrombosis',\n",
              "  'Fever',\n",
              "  'Acidosis',\n",
              "  'Right kidney',\n",
              "  'meningitides',\n",
              "  'Myocardial Ischemia',\n",
              "  'Cardiovascular Diseases',\n",
              "  'Dermatitis',\n",
              "  'Mitral Valve'],\n",
              " 32)"
            ]
          },
          "execution_count": 21,
          "metadata": {},
          "output_type": "execute_result"
        }
      ],
      "source": [
        "#one example for med_extract function\n",
        "med_extract(22532,167853)"
      ]
    },
    {
      "cell_type": "code",
      "execution_count": null,
      "metadata": {
        "id": "cpOrNCgdD4b_"
      },
      "outputs": [],
      "source": [
        "from concurrent.futures import ThreadPoolExecutor\n",
        "\n",
        "subject_hadm_dict=get_id()\n",
        "def process_subject(subject):\n",
        "    hadm_id_list = subject_hadm_dict[subject]\n",
        "    hadm_id_list = hadm_id_list[~np.isnan(hadm_id_list)]\n",
        "    results = []\n",
        "    for hadm_id in hadm_id_list:\n",
        "        icd9 = get_icd(subject, hadm_id)\n",
        "        symptoms, note_num = med_extract(subject, hadm_id)\n",
        "        results.append([subject, hadm_id, icd9, symptoms, note_num])\n",
        "    return results\n",
        "\n",
        "def output():\n",
        "    file_path=os.path.join(\"medcat_mimiciii.csv\")\n",
        "\n",
        "    subject_id=list(subject_hadm_dict.keys())\n",
        "\n",
        "\n",
        "\n",
        "    with ThreadPoolExecutor(max_workers=5) as executor:\n",
        "            future_to_subject = {executor.submit(process_subject, subject): subject for subject in subject_id}\n",
        "\n",
        "            with open(file_path, 'w', newline='', encoding='utf-8') as file:\n",
        "                writer = csv.writer(file)\n",
        "                writer.writerow(['SUBJECT_ID', 'HADM_ID', 'ICD9-CODE', 'MED_SYMPTOMS', 'NUM_NOTES'])\n",
        "\n",
        "                for future in tqdm(concurrent.futures.as_completed(future_to_subject), desc=\"Processing subjects\"):\n",
        "                    subject = future_to_subject[future]\n",
        "                    try:\n",
        "                        results = future.result()\n",
        "                        for result in results:\n",
        "                            writer.writerow(result)\n",
        "                    except Exception as exc:\n",
        "                        print(f\"{subject} generated an exception: {exc}\")\n"
      ]
    },
    {
      "cell_type": "code",
      "execution_count": null,
      "metadata": {
        "id": "oyqmze_XD4b_"
      },
      "outputs": [],
      "source": [
        "output()"
      ]
    },
    {
      "cell_type": "markdown",
      "source": [
        "## Data Analysis"
      ],
      "metadata": {
        "id": "9vXm2ZMjy8Gm"
      }
    },
    {
      "cell_type": "markdown",
      "source": [
        "### Symptom Frequencies"
      ],
      "metadata": {
        "id": "Qg1LJaKj9sWV"
      }
    },
    {
      "cell_type": "code",
      "execution_count": null,
      "metadata": {
        "id": "HXMAlvAHD4b_"
      },
      "outputs": [],
      "source": [
        "def string2list(dataset, col):\n",
        "  icd9 = dataset[col].to_numpy()\n",
        "  for i in range(len(icd9)):\n",
        "      icd9[i] = icd9[i].replace(\"[\",'')\n",
        "      icd9[i] = icd9[i].replace(\"]\",'')\n",
        "      icd9[i] = icd9[i].replace(\"'\",'')\n",
        "      icd9[i] = icd9[i].split(', ')\n",
        " # icd9_unique = set([num for ppl in icd9 for num in ppl])\n",
        "  return icd9"
      ]
    },
    {
      "cell_type": "code",
      "execution_count": null,
      "metadata": {
        "colab": {
          "base_uri": "https://localhost:8080/",
          "height": 423
        },
        "id": "UdrxP5RxD4cA",
        "outputId": "dc0f1aba-473e-4feb-f260-a566e12fed28"
      },
      "outputs": [
        {
          "output_type": "execute_result",
          "data": {
            "text/plain": [
              "       Unnamed: 0  SUBJECT_ID   HADM_ID                  ICD9-CODE  \\\n",
              "0               0       22532  167853.0                    [42731]   \n",
              "1               1       13702  107527.0                    [51881]   \n",
              "2               3       13702  196489.0  [5849, 41401, 2724, 4019]   \n",
              "3               4       26880  135453.0              [4280, 42731]   \n",
              "4               5       53181  170490.0                    [53081]   \n",
              "...           ...         ...       ...                        ...   \n",
              "41531       54948       28633  181354.0                     [4019]   \n",
              "41532       54949       29543  101157.0                     [5849]   \n",
              "41533       54950       30037  118816.0              [25000, 4019]   \n",
              "41534       55047       32711  133527.0       [42731, 53081, 4019]   \n",
              "41535       55115       31754  171301.0                     [4019]   \n",
              "\n",
              "                                            MED_SYMPTOMS  NUM_NOTES  \n",
              "0      [Cardiac chamber structure, Body of vertebra, ...         32  \n",
              "1      [Cor pulmonale, Brain, Lung diseases, Angina P...         47  \n",
              "2      [Cardiac chamber structure, Anterior descendin...         26  \n",
              "3      [Benign Prostatic Hyperplasia, Sleep Apnea Syn...         39  \n",
              "4      [Syndrome, capillaries lung, Symptoms, Left ve...          7  \n",
              "...                                                  ...        ...  \n",
              "41531  [Heart, Airway structure, Stiffness, Fever, Kn...         13  \n",
              "41532  [Knee, Chest Pain, Leg, Corpus striatum struct...         12  \n",
              "41533  [artery coronary stenosis, fungal pneumonia, P...          1  \n",
              "41534  [Coronary Arteriosclerosis, Nausea, Pain, Gest...          2  \n",
              "41535  [Foot, Left eye structure, Structure of levato...          2  \n",
              "\n",
              "[41536 rows x 6 columns]"
            ],
            "text/html": [
              "\n",
              "  <div id=\"df-f7fbe2bc-9e74-4473-b023-dd22b4a4090f\" class=\"colab-df-container\">\n",
              "    <div>\n",
              "<style scoped>\n",
              "    .dataframe tbody tr th:only-of-type {\n",
              "        vertical-align: middle;\n",
              "    }\n",
              "\n",
              "    .dataframe tbody tr th {\n",
              "        vertical-align: top;\n",
              "    }\n",
              "\n",
              "    .dataframe thead th {\n",
              "        text-align: right;\n",
              "    }\n",
              "</style>\n",
              "<table border=\"1\" class=\"dataframe\">\n",
              "  <thead>\n",
              "    <tr style=\"text-align: right;\">\n",
              "      <th></th>\n",
              "      <th>Unnamed: 0</th>\n",
              "      <th>SUBJECT_ID</th>\n",
              "      <th>HADM_ID</th>\n",
              "      <th>ICD9-CODE</th>\n",
              "      <th>MED_SYMPTOMS</th>\n",
              "      <th>NUM_NOTES</th>\n",
              "    </tr>\n",
              "  </thead>\n",
              "  <tbody>\n",
              "    <tr>\n",
              "      <th>0</th>\n",
              "      <td>0</td>\n",
              "      <td>22532</td>\n",
              "      <td>167853.0</td>\n",
              "      <td>[42731]</td>\n",
              "      <td>[Cardiac chamber structure, Body of vertebra, ...</td>\n",
              "      <td>32</td>\n",
              "    </tr>\n",
              "    <tr>\n",
              "      <th>1</th>\n",
              "      <td>1</td>\n",
              "      <td>13702</td>\n",
              "      <td>107527.0</td>\n",
              "      <td>[51881]</td>\n",
              "      <td>[Cor pulmonale, Brain, Lung diseases, Angina P...</td>\n",
              "      <td>47</td>\n",
              "    </tr>\n",
              "    <tr>\n",
              "      <th>2</th>\n",
              "      <td>3</td>\n",
              "      <td>13702</td>\n",
              "      <td>196489.0</td>\n",
              "      <td>[5849, 41401, 2724, 4019]</td>\n",
              "      <td>[Cardiac chamber structure, Anterior descendin...</td>\n",
              "      <td>26</td>\n",
              "    </tr>\n",
              "    <tr>\n",
              "      <th>3</th>\n",
              "      <td>4</td>\n",
              "      <td>26880</td>\n",
              "      <td>135453.0</td>\n",
              "      <td>[4280, 42731]</td>\n",
              "      <td>[Benign Prostatic Hyperplasia, Sleep Apnea Syn...</td>\n",
              "      <td>39</td>\n",
              "    </tr>\n",
              "    <tr>\n",
              "      <th>4</th>\n",
              "      <td>5</td>\n",
              "      <td>53181</td>\n",
              "      <td>170490.0</td>\n",
              "      <td>[53081]</td>\n",
              "      <td>[Syndrome, capillaries lung, Symptoms, Left ve...</td>\n",
              "      <td>7</td>\n",
              "    </tr>\n",
              "    <tr>\n",
              "      <th>...</th>\n",
              "      <td>...</td>\n",
              "      <td>...</td>\n",
              "      <td>...</td>\n",
              "      <td>...</td>\n",
              "      <td>...</td>\n",
              "      <td>...</td>\n",
              "    </tr>\n",
              "    <tr>\n",
              "      <th>41531</th>\n",
              "      <td>54948</td>\n",
              "      <td>28633</td>\n",
              "      <td>181354.0</td>\n",
              "      <td>[4019]</td>\n",
              "      <td>[Heart, Airway structure, Stiffness, Fever, Kn...</td>\n",
              "      <td>13</td>\n",
              "    </tr>\n",
              "    <tr>\n",
              "      <th>41532</th>\n",
              "      <td>54949</td>\n",
              "      <td>29543</td>\n",
              "      <td>101157.0</td>\n",
              "      <td>[5849]</td>\n",
              "      <td>[Knee, Chest Pain, Leg, Corpus striatum struct...</td>\n",
              "      <td>12</td>\n",
              "    </tr>\n",
              "    <tr>\n",
              "      <th>41533</th>\n",
              "      <td>54950</td>\n",
              "      <td>30037</td>\n",
              "      <td>118816.0</td>\n",
              "      <td>[25000, 4019]</td>\n",
              "      <td>[artery coronary stenosis, fungal pneumonia, P...</td>\n",
              "      <td>1</td>\n",
              "    </tr>\n",
              "    <tr>\n",
              "      <th>41534</th>\n",
              "      <td>55047</td>\n",
              "      <td>32711</td>\n",
              "      <td>133527.0</td>\n",
              "      <td>[42731, 53081, 4019]</td>\n",
              "      <td>[Coronary Arteriosclerosis, Nausea, Pain, Gest...</td>\n",
              "      <td>2</td>\n",
              "    </tr>\n",
              "    <tr>\n",
              "      <th>41535</th>\n",
              "      <td>55115</td>\n",
              "      <td>31754</td>\n",
              "      <td>171301.0</td>\n",
              "      <td>[4019]</td>\n",
              "      <td>[Foot, Left eye structure, Structure of levato...</td>\n",
              "      <td>2</td>\n",
              "    </tr>\n",
              "  </tbody>\n",
              "</table>\n",
              "<p>41536 rows × 6 columns</p>\n",
              "</div>\n",
              "    <div class=\"colab-df-buttons\">\n",
              "\n",
              "  <div class=\"colab-df-container\">\n",
              "    <button class=\"colab-df-convert\" onclick=\"convertToInteractive('df-f7fbe2bc-9e74-4473-b023-dd22b4a4090f')\"\n",
              "            title=\"Convert this dataframe to an interactive table.\"\n",
              "            style=\"display:none;\">\n",
              "\n",
              "  <svg xmlns=\"http://www.w3.org/2000/svg\" height=\"24px\" viewBox=\"0 -960 960 960\">\n",
              "    <path d=\"M120-120v-720h720v720H120Zm60-500h600v-160H180v160Zm220 220h160v-160H400v160Zm0 220h160v-160H400v160ZM180-400h160v-160H180v160Zm440 0h160v-160H620v160ZM180-180h160v-160H180v160Zm440 0h160v-160H620v160Z\"/>\n",
              "  </svg>\n",
              "    </button>\n",
              "\n",
              "  <style>\n",
              "    .colab-df-container {\n",
              "      display:flex;\n",
              "      gap: 12px;\n",
              "    }\n",
              "\n",
              "    .colab-df-convert {\n",
              "      background-color: #E8F0FE;\n",
              "      border: none;\n",
              "      border-radius: 50%;\n",
              "      cursor: pointer;\n",
              "      display: none;\n",
              "      fill: #1967D2;\n",
              "      height: 32px;\n",
              "      padding: 0 0 0 0;\n",
              "      width: 32px;\n",
              "    }\n",
              "\n",
              "    .colab-df-convert:hover {\n",
              "      background-color: #E2EBFA;\n",
              "      box-shadow: 0px 1px 2px rgba(60, 64, 67, 0.3), 0px 1px 3px 1px rgba(60, 64, 67, 0.15);\n",
              "      fill: #174EA6;\n",
              "    }\n",
              "\n",
              "    .colab-df-buttons div {\n",
              "      margin-bottom: 4px;\n",
              "    }\n",
              "\n",
              "    [theme=dark] .colab-df-convert {\n",
              "      background-color: #3B4455;\n",
              "      fill: #D2E3FC;\n",
              "    }\n",
              "\n",
              "    [theme=dark] .colab-df-convert:hover {\n",
              "      background-color: #434B5C;\n",
              "      box-shadow: 0px 1px 3px 1px rgba(0, 0, 0, 0.15);\n",
              "      filter: drop-shadow(0px 1px 2px rgba(0, 0, 0, 0.3));\n",
              "      fill: #FFFFFF;\n",
              "    }\n",
              "  </style>\n",
              "\n",
              "    <script>\n",
              "      const buttonEl =\n",
              "        document.querySelector('#df-f7fbe2bc-9e74-4473-b023-dd22b4a4090f button.colab-df-convert');\n",
              "      buttonEl.style.display =\n",
              "        google.colab.kernel.accessAllowed ? 'block' : 'none';\n",
              "\n",
              "      async function convertToInteractive(key) {\n",
              "        const element = document.querySelector('#df-f7fbe2bc-9e74-4473-b023-dd22b4a4090f');\n",
              "        const dataTable =\n",
              "          await google.colab.kernel.invokeFunction('convertToInteractive',\n",
              "                                                    [key], {});\n",
              "        if (!dataTable) return;\n",
              "\n",
              "        const docLinkHtml = 'Like what you see? Visit the ' +\n",
              "          '<a target=\"_blank\" href=https://colab.research.google.com/notebooks/data_table.ipynb>data table notebook</a>'\n",
              "          + ' to learn more about interactive tables.';\n",
              "        element.innerHTML = '';\n",
              "        dataTable['output_type'] = 'display_data';\n",
              "        await google.colab.output.renderOutput(dataTable, element);\n",
              "        const docLink = document.createElement('div');\n",
              "        docLink.innerHTML = docLinkHtml;\n",
              "        element.appendChild(docLink);\n",
              "      }\n",
              "    </script>\n",
              "  </div>\n",
              "\n",
              "\n",
              "<div id=\"df-5671dca4-2474-4227-9d04-152c52eae919\">\n",
              "  <button class=\"colab-df-quickchart\" onclick=\"quickchart('df-5671dca4-2474-4227-9d04-152c52eae919')\"\n",
              "            title=\"Suggest charts\"\n",
              "            style=\"display:none;\">\n",
              "\n",
              "<svg xmlns=\"http://www.w3.org/2000/svg\" height=\"24px\"viewBox=\"0 0 24 24\"\n",
              "     width=\"24px\">\n",
              "    <g>\n",
              "        <path d=\"M19 3H5c-1.1 0-2 .9-2 2v14c0 1.1.9 2 2 2h14c1.1 0 2-.9 2-2V5c0-1.1-.9-2-2-2zM9 17H7v-7h2v7zm4 0h-2V7h2v10zm4 0h-2v-4h2v4z\"/>\n",
              "    </g>\n",
              "</svg>\n",
              "  </button>\n",
              "\n",
              "<style>\n",
              "  .colab-df-quickchart {\n",
              "      --bg-color: #E8F0FE;\n",
              "      --fill-color: #1967D2;\n",
              "      --hover-bg-color: #E2EBFA;\n",
              "      --hover-fill-color: #174EA6;\n",
              "      --disabled-fill-color: #AAA;\n",
              "      --disabled-bg-color: #DDD;\n",
              "  }\n",
              "\n",
              "  [theme=dark] .colab-df-quickchart {\n",
              "      --bg-color: #3B4455;\n",
              "      --fill-color: #D2E3FC;\n",
              "      --hover-bg-color: #434B5C;\n",
              "      --hover-fill-color: #FFFFFF;\n",
              "      --disabled-bg-color: #3B4455;\n",
              "      --disabled-fill-color: #666;\n",
              "  }\n",
              "\n",
              "  .colab-df-quickchart {\n",
              "    background-color: var(--bg-color);\n",
              "    border: none;\n",
              "    border-radius: 50%;\n",
              "    cursor: pointer;\n",
              "    display: none;\n",
              "    fill: var(--fill-color);\n",
              "    height: 32px;\n",
              "    padding: 0;\n",
              "    width: 32px;\n",
              "  }\n",
              "\n",
              "  .colab-df-quickchart:hover {\n",
              "    background-color: var(--hover-bg-color);\n",
              "    box-shadow: 0 1px 2px rgba(60, 64, 67, 0.3), 0 1px 3px 1px rgba(60, 64, 67, 0.15);\n",
              "    fill: var(--button-hover-fill-color);\n",
              "  }\n",
              "\n",
              "  .colab-df-quickchart-complete:disabled,\n",
              "  .colab-df-quickchart-complete:disabled:hover {\n",
              "    background-color: var(--disabled-bg-color);\n",
              "    fill: var(--disabled-fill-color);\n",
              "    box-shadow: none;\n",
              "  }\n",
              "\n",
              "  .colab-df-spinner {\n",
              "    border: 2px solid var(--fill-color);\n",
              "    border-color: transparent;\n",
              "    border-bottom-color: var(--fill-color);\n",
              "    animation:\n",
              "      spin 1s steps(1) infinite;\n",
              "  }\n",
              "\n",
              "  @keyframes spin {\n",
              "    0% {\n",
              "      border-color: transparent;\n",
              "      border-bottom-color: var(--fill-color);\n",
              "      border-left-color: var(--fill-color);\n",
              "    }\n",
              "    20% {\n",
              "      border-color: transparent;\n",
              "      border-left-color: var(--fill-color);\n",
              "      border-top-color: var(--fill-color);\n",
              "    }\n",
              "    30% {\n",
              "      border-color: transparent;\n",
              "      border-left-color: var(--fill-color);\n",
              "      border-top-color: var(--fill-color);\n",
              "      border-right-color: var(--fill-color);\n",
              "    }\n",
              "    40% {\n",
              "      border-color: transparent;\n",
              "      border-right-color: var(--fill-color);\n",
              "      border-top-color: var(--fill-color);\n",
              "    }\n",
              "    60% {\n",
              "      border-color: transparent;\n",
              "      border-right-color: var(--fill-color);\n",
              "    }\n",
              "    80% {\n",
              "      border-color: transparent;\n",
              "      border-right-color: var(--fill-color);\n",
              "      border-bottom-color: var(--fill-color);\n",
              "    }\n",
              "    90% {\n",
              "      border-color: transparent;\n",
              "      border-bottom-color: var(--fill-color);\n",
              "    }\n",
              "  }\n",
              "</style>\n",
              "\n",
              "  <script>\n",
              "    async function quickchart(key) {\n",
              "      const quickchartButtonEl =\n",
              "        document.querySelector('#' + key + ' button');\n",
              "      quickchartButtonEl.disabled = true;  // To prevent multiple clicks.\n",
              "      quickchartButtonEl.classList.add('colab-df-spinner');\n",
              "      try {\n",
              "        const charts = await google.colab.kernel.invokeFunction(\n",
              "            'suggestCharts', [key], {});\n",
              "      } catch (error) {\n",
              "        console.error('Error during call to suggestCharts:', error);\n",
              "      }\n",
              "      quickchartButtonEl.classList.remove('colab-df-spinner');\n",
              "      quickchartButtonEl.classList.add('colab-df-quickchart-complete');\n",
              "    }\n",
              "    (() => {\n",
              "      let quickchartButtonEl =\n",
              "        document.querySelector('#df-5671dca4-2474-4227-9d04-152c52eae919 button');\n",
              "      quickchartButtonEl.style.display =\n",
              "        google.colab.kernel.accessAllowed ? 'block' : 'none';\n",
              "    })();\n",
              "  </script>\n",
              "</div>\n",
              "\n",
              "  <div id=\"id_88695778-951f-4fd8-b31e-fe035717e850\">\n",
              "    <style>\n",
              "      .colab-df-generate {\n",
              "        background-color: #E8F0FE;\n",
              "        border: none;\n",
              "        border-radius: 50%;\n",
              "        cursor: pointer;\n",
              "        display: none;\n",
              "        fill: #1967D2;\n",
              "        height: 32px;\n",
              "        padding: 0 0 0 0;\n",
              "        width: 32px;\n",
              "      }\n",
              "\n",
              "      .colab-df-generate:hover {\n",
              "        background-color: #E2EBFA;\n",
              "        box-shadow: 0px 1px 2px rgba(60, 64, 67, 0.3), 0px 1px 3px 1px rgba(60, 64, 67, 0.15);\n",
              "        fill: #174EA6;\n",
              "      }\n",
              "\n",
              "      [theme=dark] .colab-df-generate {\n",
              "        background-color: #3B4455;\n",
              "        fill: #D2E3FC;\n",
              "      }\n",
              "\n",
              "      [theme=dark] .colab-df-generate:hover {\n",
              "        background-color: #434B5C;\n",
              "        box-shadow: 0px 1px 3px 1px rgba(0, 0, 0, 0.15);\n",
              "        filter: drop-shadow(0px 1px 2px rgba(0, 0, 0, 0.3));\n",
              "        fill: #FFFFFF;\n",
              "      }\n",
              "    </style>\n",
              "    <button class=\"colab-df-generate\" onclick=\"generateWithVariable('df_exploded')\"\n",
              "            title=\"Generate code using this dataframe.\"\n",
              "            style=\"display:none;\">\n",
              "\n",
              "  <svg xmlns=\"http://www.w3.org/2000/svg\" height=\"24px\"viewBox=\"0 0 24 24\"\n",
              "       width=\"24px\">\n",
              "    <path d=\"M7,19H8.4L18.45,9,17,7.55,7,17.6ZM5,21V16.75L18.45,3.32a2,2,0,0,1,2.83,0l1.4,1.43a1.91,1.91,0,0,1,.58,1.4,1.91,1.91,0,0,1-.58,1.4L9.25,21ZM18.45,9,17,7.55Zm-12,3A5.31,5.31,0,0,0,4.9,8.1,5.31,5.31,0,0,0,1,6.5,5.31,5.31,0,0,0,4.9,4.9,5.31,5.31,0,0,0,6.5,1,5.31,5.31,0,0,0,8.1,4.9,5.31,5.31,0,0,0,12,6.5,5.46,5.46,0,0,0,6.5,12Z\"/>\n",
              "  </svg>\n",
              "    </button>\n",
              "    <script>\n",
              "      (() => {\n",
              "      const buttonEl =\n",
              "        document.querySelector('#id_88695778-951f-4fd8-b31e-fe035717e850 button.colab-df-generate');\n",
              "      buttonEl.style.display =\n",
              "        google.colab.kernel.accessAllowed ? 'block' : 'none';\n",
              "\n",
              "      buttonEl.onclick = () => {\n",
              "        google.colab.notebook.generateWithVariable('df_exploded');\n",
              "      }\n",
              "      })();\n",
              "    </script>\n",
              "  </div>\n",
              "\n",
              "    </div>\n",
              "  </div>\n"
            ],
            "application/vnd.google.colaboratory.intrinsic+json": {
              "type": "dataframe",
              "variable_name": "df_exploded",
              "summary": "{\n  \"name\": \"df_exploded\",\n  \"rows\": 41536,\n  \"fields\": [\n    {\n      \"column\": \"Unnamed: 0\",\n      \"properties\": {\n        \"dtype\": \"number\",\n        \"std\": 16194,\n        \"min\": 0,\n        \"max\": 55115,\n        \"num_unique_values\": 41536,\n        \"samples\": [\n          28716,\n          13948,\n          38835\n        ],\n        \"semantic_type\": \"\",\n        \"description\": \"\"\n      }\n    },\n    {\n      \"column\": \"SUBJECT_ID\",\n      \"properties\": {\n        \"dtype\": \"number\",\n        \"std\": 28953,\n        \"min\": 3,\n        \"max\": 99999,\n        \"num_unique_values\": 31860,\n        \"samples\": [\n          9661,\n          27429,\n          15440\n        ],\n        \"semantic_type\": \"\",\n        \"description\": \"\"\n      }\n    },\n    {\n      \"column\": \"HADM_ID\",\n      \"properties\": {\n        \"dtype\": \"number\",\n        \"std\": 28911.778716394863,\n        \"min\": 100001.0,\n        \"max\": 199999.0,\n        \"num_unique_values\": 41536,\n        \"samples\": [\n          150148.0,\n          127248.0,\n          152774.0\n        ],\n        \"semantic_type\": \"\",\n        \"description\": \"\"\n      }\n    },\n    {\n      \"column\": \"ICD9-CODE\",\n      \"properties\": {\n        \"dtype\": \"object\",\n        \"semantic_type\": \"\",\n        \"description\": \"\"\n      }\n    },\n    {\n      \"column\": \"MED_SYMPTOMS\",\n      \"properties\": {\n        \"dtype\": \"object\",\n        \"semantic_type\": \"\",\n        \"description\": \"\"\n      }\n    },\n    {\n      \"column\": \"NUM_NOTES\",\n      \"properties\": {\n        \"dtype\": \"number\",\n        \"std\": 51,\n        \"min\": 1,\n        \"max\": 1233,\n        \"num_unique_values\": 479,\n        \"samples\": [\n          64,\n          655,\n          112\n        ],\n        \"semantic_type\": \"\",\n        \"description\": \"\"\n      }\n    }\n  ]\n}"
            }
          },
          "metadata": {},
          "execution_count": 54
        }
      ],
      "source": [
        "df_exploded = pd.read_csv('mimiciii-top10.csv')\n",
        "\n",
        "string2list(df_exploded, 'MED_SYMPTOMS')\n",
        "string2list(df_exploded, 'ICD9-CODE')\n",
        "df_exploded"
      ]
    },
    {
      "cell_type": "code",
      "execution_count": null,
      "metadata": {
        "id": "-O5IAofoD4cA"
      },
      "outputs": [],
      "source": [
        "df_exploded1 = df_exploded.explode('ICD9-CODE')\n",
        "df_exploded2 = df_exploded.explode('MED_SYMPTOMS')"
      ]
    },
    {
      "cell_type": "code",
      "execution_count": null,
      "metadata": {
        "colab": {
          "base_uri": "https://localhost:8080/"
        },
        "id": "LeHtERxoD4cA",
        "outputId": "e6b5a472-5287-483e-9fdc-1a435aec03b8"
      },
      "outputs": [
        {
          "output_type": "execute_result",
          "data": {
            "text/plain": [
              "4019     20562\n",
              "4280     13062\n",
              "42731    12805\n",
              "41401    12383\n",
              "5849      9066\n",
              "25000     9003\n",
              "2724      8630\n",
              "51881     7410\n",
              "5990      6522\n",
              "53081     6292\n",
              "Name: ICD9-CODE, dtype: int64"
            ]
          },
          "metadata": {},
          "execution_count": 56
        }
      ],
      "source": [
        "disease_counts=df_exploded1['ICD9-CODE'].value_counts()\n",
        "disease_counts"
      ]
    },
    {
      "cell_type": "code",
      "execution_count": null,
      "metadata": {
        "colab": {
          "base_uri": "https://localhost:8080/",
          "height": 547
        },
        "id": "FqfOoqNDD4cA",
        "outputId": "0f401ea9-638f-4020-e316-2ccedbc48405"
      },
      "outputs": [
        {
          "output_type": "display_data",
          "data": {
            "text/plain": [
              "<Figure size 1800x800 with 1 Axes>"
            ],
            "image/png": "[encoded data removed]"
          },
          "metadata": {}
        }
      ],
      "source": [
        "temp_df = pd.DataFrame({\"Disease\": disease_counts.index, \"Counts\":disease_counts.values})\n",
        "plt.figure(figsize=(18,8))\n",
        "sns.barplot(x='Disease', y='Counts', data=temp_df)\n",
        "plt.xticks(rotation=90)\n",
        "plt.show()"
      ]
    },
    {
      "cell_type": "code",
      "execution_count": null,
      "metadata": {
        "colab": {
          "base_uri": "https://localhost:8080/"
        },
        "id": "JZm4Ig-LD4cA",
        "outputId": "75785a57-97cf-42b7-a8e7-ff67d1ecd0d4"
      },
      "outputs": [
        {
          "output_type": "execute_result",
          "data": {
            "text/plain": [
              "Illness (finding)                  40126\n",
              "Diabetes Mellitus                  39992\n",
              "Lung                               39864\n",
              "Hypertensive disease               37904\n",
              "Pain                               36052\n",
              "                                   ...  \n",
              "Hypoplastic Left Heart Syndrome        1\n",
              "Warts                                  1\n",
              "hypogammaglobulinaemia                 1\n",
              "infections                             1\n",
              "disorders motility                     1\n",
              "Name: MED_SYMPTOMS, Length: 2339, dtype: int64"
            ]
          },
          "metadata": {},
          "execution_count": 34
        }
      ],
      "source": [
        "symptoms_counts=df_exploded2['MED_SYMPTOMS'].value_counts()\n",
        "symptoms_counts"
      ]
    },
    {
      "cell_type": "code",
      "execution_count": null,
      "metadata": {
        "colab": {
          "base_uri": "https://localhost:8080/",
          "height": 676
        },
        "id": "rhmVhRjbD4cA",
        "outputId": "1b947ae6-0c8f-461a-d43f-bbde9e431734"
      },
      "outputs": [
        {
          "output_type": "display_data",
          "data": {
            "text/plain": [
              "<Figure size 1800x800 with 1 Axes>"
            ],
            "image/png": "[encoded data removed]"
          },
          "metadata": {}
        }
      ],
      "source": [
        "temp_df = pd.DataFrame({\"Disease\": symptoms_counts.index,\n",
        "                        \"Counts\":symptoms_counts.values})\n",
        "temp_df = temp_df.sort_values(by='Counts', ascending=False)[:50]\n",
        "\n",
        "plt.figure(figsize=(18,8))\n",
        "plt.title(\"Frequencies of top 50 most common symptoms\")\n",
        "sns.barplot(x='Disease', y='Counts', data=temp_df)\n",
        "plt.xticks(rotation=90)\n",
        "plt.show()"
      ]
    },
    {
      "cell_type": "code",
      "source": [
        "temp_df = pd.DataFrame({\"Disease\": symptoms_counts.index,\n",
        "                        \"Counts\":symptoms_counts.values})\n",
        "temp_df = temp_df.sample(50).sort_values(by='Counts', ascending=False)\n",
        "\n",
        "plt.figure(figsize=(18,8))\n",
        "plt.title(\"Frequencies of 50 random symptoms\")\n",
        "sns.barplot(x='Disease', y='Counts', data=temp_df)\n",
        "plt.xticks(rotation=90)\n",
        "plt.show()"
      ],
      "metadata": {
        "colab": {
          "base_uri": "https://localhost:8080/",
          "height": 756
        },
        "id": "aTacPn8w4Doo",
        "outputId": "fbbef187-986b-4862-e054-f08f7f45948e"
      },
      "execution_count": null,
      "outputs": [
        {
          "output_type": "display_data",
          "data": {
            "text/plain": [
              "<Figure size 1800x800 with 1 Axes>"
            ],
            "image/png": "[encoded data removed]"
          },
          "metadata": {}
        }
      ]
    },
    {
      "cell_type": "code",
      "source": [
        "temp_df = pd.DataFrame({\"Disease\": np.arange(len(symptoms_counts.index)),\n",
        "                        \"Counts\":symptoms_counts.values})\n",
        "\n",
        "plt.figure(figsize=(18,8))\n",
        "plt.title(\"Frequencies of all 2339 symptoms\")\n",
        "sns.lineplot(x='Disease', y='Counts', data=temp_df)\n",
        "plt.show()"
      ],
      "metadata": {
        "colab": {
          "base_uri": "https://localhost:8080/",
          "height": 738
        },
        "id": "XmRw2LSk4Qfq",
        "outputId": "3f07b3d2-3704-49da-bb90-5922134ae60e"
      },
      "execution_count": null,
      "outputs": [
        {
          "output_type": "display_data",
          "data": {
            "text/plain": [
              "<Figure size 1800x800 with 1 Axes>"
            ],
            "image/png": "[encoded data removed]"
          },
          "metadata": {}
        }
      ]
    },
    {
      "cell_type": "markdown",
      "source": [
        "## Utility"
      ],
      "metadata": {
        "id": "5hL5TRVqREV6"
      }
    },
    {
      "cell_type": "code",
      "source": [
        "def score_model(y_guess, y_true, name='Model'):\n",
        "    print(classification_report(y_guess, y_true))\n",
        "    rep = classification_report(y_guess, y_true, output_dict=True)\n",
        "    rep['correct'] = (y_guess == y_true).mean()\n",
        "    rep['name'] = name\n",
        "    return rep\n",
        "\n",
        "def string_time(elapsed):\n",
        "    return \"%im %is\" %(int(elapsed / 60), int(elapsed % 60))\n",
        "\n",
        "def build_analysis(log_data, feat):\n",
        "    plt.figure(figsize=(24, 7))\n",
        "    log_sorted = log_data.sort_values(by=[feat], ascending=False)\n",
        "    splot = sns.barplot(x='Name', y=feat, data=log_sorted,\n",
        "                        palette=log_sorted['Color'])\n",
        "\n",
        "    for p in splot.patches:\n",
        "        splot.annotate(format(p.get_height(), '.3f'),\n",
        "                    (p.get_x() + p.get_width() / 2., p.get_height()),\n",
        "                    ha = 'center', va = 'center',\n",
        "                    xytext = (0, 9),\n",
        "                    textcoords = 'offset points')\n",
        "\n",
        "    plt.show()"
      ],
      "metadata": {
        "id": "1gMU50TGRFxQ"
      },
      "execution_count": null,
      "outputs": []
    },
    {
      "cell_type": "code",
      "source": [
        "results = []"
      ],
      "metadata": {
        "id": "bnvWgcyVSqa0"
      },
      "execution_count": null,
      "outputs": []
    },
    {
      "cell_type": "markdown",
      "source": [
        "## ML Models"
      ],
      "metadata": {
        "id": "t-nO6MBrFsW4"
      }
    },
    {
      "cell_type": "markdown",
      "source": [
        "### Prepare Data for Training"
      ],
      "metadata": {
        "id": "-o7BSf-MM6EG"
      }
    },
    {
      "cell_type": "code",
      "source": [
        "df = pd.read_csv('mimiciii-top10.csv')\n",
        "df['MED_SYMPTOMS'] = df['MED_SYMPTOMS'].apply(literal_eval)\n",
        "df['ICD9-CODE'] = df['ICD9-CODE'].apply(literal_eval)\n",
        "df.head()"
      ],
      "metadata": {
        "colab": {
          "base_uri": "https://localhost:8080/"
        },
        "id": "kAZ9G8xiMRrM",
        "outputId": "726ba11c-ad2d-4596-8c28-1e8efb97ffa5"
      },
      "execution_count": null,
      "outputs": [
        {
          "output_type": "execute_result",
          "data": {
            "text/plain": [
              "   Unnamed: 0  SUBJECT_ID   HADM_ID                  ICD9-CODE  \\\n",
              "0           0       22532  167853.0                    [42731]   \n",
              "1           1       13702  107527.0                    [51881]   \n",
              "2           3       13702  196489.0  [5849, 41401, 2724, 4019]   \n",
              "3           4       26880  135453.0              [4280, 42731]   \n",
              "4           5       53181  170490.0                    [53081]   \n",
              "\n",
              "                                        MED_SYMPTOMS  NUM_NOTES  \n",
              "0  [Cardiac chamber structure, Body of vertebra, ...         32  \n",
              "1  [Cor pulmonale, Brain, Lung diseases, Angina P...         47  \n",
              "2  [Cardiac chamber structure, Anterior descendin...         26  \n",
              "3  [Benign Prostatic Hyperplasia, Sleep Apnea Syn...         39  \n",
              "4  [Syndrome, capillaries lung, Symptoms, Left ve...          7  "
            ],
            "text/html": [
              "\n",
              "  <div id=\"df-568da10d-16b6-4300-93c7-5c7189ca9d73\" class=\"colab-df-container\">\n",
              "    <div>\n",
              "<style scoped>\n",
              "    .dataframe tbody tr th:only-of-type {\n",
              "        vertical-align: middle;\n",
              "    }\n",
              "\n",
              "    .dataframe tbody tr th {\n",
              "        vertical-align: top;\n",
              "    }\n",
              "\n",
              "    .dataframe thead th {\n",
              "        text-align: right;\n",
              "    }\n",
              "</style>\n",
              "<table border=\"1\" class=\"dataframe\">\n",
              "  <thead>\n",
              "    <tr style=\"text-align: right;\">\n",
              "      <th></th>\n",
              "      <th>Unnamed: 0</th>\n",
              "      <th>SUBJECT_ID</th>\n",
              "      <th>HADM_ID</th>\n",
              "      <th>ICD9-CODE</th>\n",
              "      <th>MED_SYMPTOMS</th>\n",
              "      <th>NUM_NOTES</th>\n",
              "    </tr>\n",
              "  </thead>\n",
              "  <tbody>\n",
              "    <tr>\n",
              "      <th>0</th>\n",
              "      <td>0</td>\n",
              "      <td>22532</td>\n",
              "      <td>167853.0</td>\n",
              "      <td>[42731]</td>\n",
              "      <td>[Cardiac chamber structure, Body of vertebra, ...</td>\n",
              "      <td>32</td>\n",
              "    </tr>\n",
              "    <tr>\n",
              "      <th>1</th>\n",
              "      <td>1</td>\n",
              "      <td>13702</td>\n",
              "      <td>107527.0</td>\n",
              "      <td>[51881]</td>\n",
              "      <td>[Cor pulmonale, Brain, Lung diseases, Angina P...</td>\n",
              "      <td>47</td>\n",
              "    </tr>\n",
              "    <tr>\n",
              "      <th>2</th>\n",
              "      <td>3</td>\n",
              "      <td>13702</td>\n",
              "      <td>196489.0</td>\n",
              "      <td>[5849, 41401, 2724, 4019]</td>\n",
              "      <td>[Cardiac chamber structure, Anterior descendin...</td>\n",
              "      <td>26</td>\n",
              "    </tr>\n",
              "    <tr>\n",
              "      <th>3</th>\n",
              "      <td>4</td>\n",
              "      <td>26880</td>\n",
              "      <td>135453.0</td>\n",
              "      <td>[4280, 42731]</td>\n",
              "      <td>[Benign Prostatic Hyperplasia, Sleep Apnea Syn...</td>\n",
              "      <td>39</td>\n",
              "    </tr>\n",
              "    <tr>\n",
              "      <th>4</th>\n",
              "      <td>5</td>\n",
              "      <td>53181</td>\n",
              "      <td>170490.0</td>\n",
              "      <td>[53081]</td>\n",
              "      <td>[Syndrome, capillaries lung, Symptoms, Left ve...</td>\n",
              "      <td>7</td>\n",
              "    </tr>\n",
              "  </tbody>\n",
              "</table>\n",
              "</div>\n",
              "    <div class=\"colab-df-buttons\">\n",
              "\n",
              "  <div class=\"colab-df-container\">\n",
              "    <button class=\"colab-df-convert\" onclick=\"convertToInteractive('df-568da10d-16b6-4300-93c7-5c7189ca9d73')\"\n",
              "            title=\"Convert this dataframe to an interactive table.\"\n",
              "            style=\"display:none;\">\n",
              "\n",
              "  <svg xmlns=\"http://www.w3.org/2000/svg\" height=\"24px\" viewBox=\"0 -960 960 960\">\n",
              "    <path d=\"M120-120v-720h720v720H120Zm60-500h600v-160H180v160Zm220 220h160v-160H400v160Zm0 220h160v-160H400v160ZM180-400h160v-160H180v160Zm440 0h160v-160H620v160ZM180-180h160v-160H180v160Zm440 0h160v-160H620v160Z\"/>\n",
              "  </svg>\n",
              "    </button>\n",
              "\n",
              "  <style>\n",
              "    .colab-df-container {\n",
              "      display:flex;\n",
              "      gap: 12px;\n",
              "    }\n",
              "\n",
              "    .colab-df-convert {\n",
              "      background-color: #E8F0FE;\n",
              "      border: none;\n",
              "      border-radius: 50%;\n",
              "      cursor: pointer;\n",
              "      display: none;\n",
              "      fill: #1967D2;\n",
              "      height: 32px;\n",
              "      padding: 0 0 0 0;\n",
              "      width: 32px;\n",
              "    }\n",
              "\n",
              "    .colab-df-convert:hover {\n",
              "      background-color: #E2EBFA;\n",
              "      box-shadow: 0px 1px 2px rgba(60, 64, 67, 0.3), 0px 1px 3px 1px rgba(60, 64, 67, 0.15);\n",
              "      fill: #174EA6;\n",
              "    }\n",
              "\n",
              "    .colab-df-buttons div {\n",
              "      margin-bottom: 4px;\n",
              "    }\n",
              "\n",
              "    [theme=dark] .colab-df-convert {\n",
              "      background-color: #3B4455;\n",
              "      fill: #D2E3FC;\n",
              "    }\n",
              "\n",
              "    [theme=dark] .colab-df-convert:hover {\n",
              "      background-color: #434B5C;\n",
              "      box-shadow: 0px 1px 3px 1px rgba(0, 0, 0, 0.15);\n",
              "      filter: drop-shadow(0px 1px 2px rgba(0, 0, 0, 0.3));\n",
              "      fill: #FFFFFF;\n",
              "    }\n",
              "  </style>\n",
              "\n",
              "    <script>\n",
              "      const buttonEl =\n",
              "        document.querySelector('#df-568da10d-16b6-4300-93c7-5c7189ca9d73 button.colab-df-convert');\n",
              "      buttonEl.style.display =\n",
              "        google.colab.kernel.accessAllowed ? 'block' : 'none';\n",
              "\n",
              "      async function convertToInteractive(key) {\n",
              "        const element = document.querySelector('#df-568da10d-16b6-4300-93c7-5c7189ca9d73');\n",
              "        const dataTable =\n",
              "          await google.colab.kernel.invokeFunction('convertToInteractive',\n",
              "                                                    [key], {});\n",
              "        if (!dataTable) return;\n",
              "\n",
              "        const docLinkHtml = 'Like what you see? Visit the ' +\n",
              "          '<a target=\"_blank\" href=https://colab.research.google.com/notebooks/data_table.ipynb>data table notebook</a>'\n",
              "          + ' to learn more about interactive tables.';\n",
              "        element.innerHTML = '';\n",
              "        dataTable['output_type'] = 'display_data';\n",
              "        await google.colab.output.renderOutput(dataTable, element);\n",
              "        const docLink = document.createElement('div');\n",
              "        docLink.innerHTML = docLinkHtml;\n",
              "        element.appendChild(docLink);\n",
              "      }\n",
              "    </script>\n",
              "  </div>\n",
              "\n",
              "\n",
              "<div id=\"df-ef26a420-694e-4e4b-9a4b-e22385539e92\">\n",
              "  <button class=\"colab-df-quickchart\" onclick=\"quickchart('df-ef26a420-694e-4e4b-9a4b-e22385539e92')\"\n",
              "            title=\"Suggest charts\"\n",
              "            style=\"display:none;\">\n",
              "\n",
              "<svg xmlns=\"http://www.w3.org/2000/svg\" height=\"24px\"viewBox=\"0 0 24 24\"\n",
              "     width=\"24px\">\n",
              "    <g>\n",
              "        <path d=\"M19 3H5c-1.1 0-2 .9-2 2v14c0 1.1.9 2 2 2h14c1.1 0 2-.9 2-2V5c0-1.1-.9-2-2-2zM9 17H7v-7h2v7zm4 0h-2V7h2v10zm4 0h-2v-4h2v4z\"/>\n",
              "    </g>\n",
              "</svg>\n",
              "  </button>\n",
              "\n",
              "<style>\n",
              "  .colab-df-quickchart {\n",
              "      --bg-color: #E8F0FE;\n",
              "      --fill-color: #1967D2;\n",
              "      --hover-bg-color: #E2EBFA;\n",
              "      --hover-fill-color: #174EA6;\n",
              "      --disabled-fill-color: #AAA;\n",
              "      --disabled-bg-color: #DDD;\n",
              "  }\n",
              "\n",
              "  [theme=dark] .colab-df-quickchart {\n",
              "      --bg-color: #3B4455;\n",
              "      --fill-color: #D2E3FC;\n",
              "      --hover-bg-color: #434B5C;\n",
              "      --hover-fill-color: #FFFFFF;\n",
              "      --disabled-bg-color: #3B4455;\n",
              "      --disabled-fill-color: #666;\n",
              "  }\n",
              "\n",
              "  .colab-df-quickchart {\n",
              "    background-color: var(--bg-color);\n",
              "    border: none;\n",
              "    border-radius: 50%;\n",
              "    cursor: pointer;\n",
              "    display: none;\n",
              "    fill: var(--fill-color);\n",
              "    height: 32px;\n",
              "    padding: 0;\n",
              "    width: 32px;\n",
              "  }\n",
              "\n",
              "  .colab-df-quickchart:hover {\n",
              "    background-color: var(--hover-bg-color);\n",
              "    box-shadow: 0 1px 2px rgba(60, 64, 67, 0.3), 0 1px 3px 1px rgba(60, 64, 67, 0.15);\n",
              "    fill: var(--button-hover-fill-color);\n",
              "  }\n",
              "\n",
              "  .colab-df-quickchart-complete:disabled,\n",
              "  .colab-df-quickchart-complete:disabled:hover {\n",
              "    background-color: var(--disabled-bg-color);\n",
              "    fill: var(--disabled-fill-color);\n",
              "    box-shadow: none;\n",
              "  }\n",
              "\n",
              "  .colab-df-spinner {\n",
              "    border: 2px solid var(--fill-color);\n",
              "    border-color: transparent;\n",
              "    border-bottom-color: var(--fill-color);\n",
              "    animation:\n",
              "      spin 1s steps(1) infinite;\n",
              "  }\n",
              "\n",
              "  @keyframes spin {\n",
              "    0% {\n",
              "      border-color: transparent;\n",
              "      border-bottom-color: var(--fill-color);\n",
              "      border-left-color: var(--fill-color);\n",
              "    }\n",
              "    20% {\n",
              "      border-color: transparent;\n",
              "      border-left-color: var(--fill-color);\n",
              "      border-top-color: var(--fill-color);\n",
              "    }\n",
              "    30% {\n",
              "      border-color: transparent;\n",
              "      border-left-color: var(--fill-color);\n",
              "      border-top-color: var(--fill-color);\n",
              "      border-right-color: var(--fill-color);\n",
              "    }\n",
              "    40% {\n",
              "      border-color: transparent;\n",
              "      border-right-color: var(--fill-color);\n",
              "      border-top-color: var(--fill-color);\n",
              "    }\n",
              "    60% {\n",
              "      border-color: transparent;\n",
              "      border-right-color: var(--fill-color);\n",
              "    }\n",
              "    80% {\n",
              "      border-color: transparent;\n",
              "      border-right-color: var(--fill-color);\n",
              "      border-bottom-color: var(--fill-color);\n",
              "    }\n",
              "    90% {\n",
              "      border-color: transparent;\n",
              "      border-bottom-color: var(--fill-color);\n",
              "    }\n",
              "  }\n",
              "</style>\n",
              "\n",
              "  <script>\n",
              "    async function quickchart(key) {\n",
              "      const quickchartButtonEl =\n",
              "        document.querySelector('#' + key + ' button');\n",
              "      quickchartButtonEl.disabled = true;  // To prevent multiple clicks.\n",
              "      quickchartButtonEl.classList.add('colab-df-spinner');\n",
              "      try {\n",
              "        const charts = await google.colab.kernel.invokeFunction(\n",
              "            'suggestCharts', [key], {});\n",
              "      } catch (error) {\n",
              "        console.error('Error during call to suggestCharts:', error);\n",
              "      }\n",
              "      quickchartButtonEl.classList.remove('colab-df-spinner');\n",
              "      quickchartButtonEl.classList.add('colab-df-quickchart-complete');\n",
              "    }\n",
              "    (() => {\n",
              "      let quickchartButtonEl =\n",
              "        document.querySelector('#df-ef26a420-694e-4e4b-9a4b-e22385539e92 button');\n",
              "      quickchartButtonEl.style.display =\n",
              "        google.colab.kernel.accessAllowed ? 'block' : 'none';\n",
              "    })();\n",
              "  </script>\n",
              "</div>\n",
              "\n",
              "    </div>\n",
              "  </div>\n"
            ],
            "application/vnd.google.colaboratory.intrinsic+json": {
              "type": "dataframe",
              "variable_name": "df",
              "summary": "{\n  \"name\": \"df\",\n  \"rows\": 41536,\n  \"fields\": [\n    {\n      \"column\": \"Unnamed: 0\",\n      \"properties\": {\n        \"dtype\": \"number\",\n        \"std\": 16194,\n        \"min\": 0,\n        \"max\": 55115,\n        \"num_unique_values\": 41536,\n        \"samples\": [\n          28716,\n          13948,\n          38835\n        ],\n        \"semantic_type\": \"\",\n        \"description\": \"\"\n      }\n    },\n    {\n      \"column\": \"SUBJECT_ID\",\n      \"properties\": {\n        \"dtype\": \"number\",\n        \"std\": 28953,\n        \"min\": 3,\n        \"max\": 99999,\n        \"num_unique_values\": 31860,\n        \"samples\": [\n          9661,\n          27429,\n          15440\n        ],\n        \"semantic_type\": \"\",\n        \"description\": \"\"\n      }\n    },\n    {\n      \"column\": \"HADM_ID\",\n      \"properties\": {\n        \"dtype\": \"number\",\n        \"std\": 28911.778716394863,\n        \"min\": 100001.0,\n        \"max\": 199999.0,\n        \"num_unique_values\": 41536,\n        \"samples\": [\n          150148.0,\n          127248.0,\n          152774.0\n        ],\n        \"semantic_type\": \"\",\n        \"description\": \"\"\n      }\n    },\n    {\n      \"column\": \"ICD9-CODE\",\n      \"properties\": {\n        \"dtype\": \"object\",\n        \"semantic_type\": \"\",\n        \"description\": \"\"\n      }\n    },\n    {\n      \"column\": \"MED_SYMPTOMS\",\n      \"properties\": {\n        \"dtype\": \"object\",\n        \"semantic_type\": \"\",\n        \"description\": \"\"\n      }\n    },\n    {\n      \"column\": \"NUM_NOTES\",\n      \"properties\": {\n        \"dtype\": \"number\",\n        \"std\": 51,\n        \"min\": 1,\n        \"max\": 1233,\n        \"num_unique_values\": 479,\n        \"samples\": [\n          64,\n          655,\n          112\n        ],\n        \"semantic_type\": \"\",\n        \"description\": \"\"\n      }\n    }\n  ]\n}"
            }
          },
          "metadata": {},
          "execution_count": 307
        }
      ]
    },
    {
      "cell_type": "code",
      "source": [
        "names = ['Overall', 'IDs', 'Subject IDs', 'Hadm IDs']\n",
        "heights = [len(df),\n",
        "          len(np.unique(df['Unnamed: 0'])),\n",
        "          len(np.unique(df['SUBJECT_ID'])),\n",
        "          len(np.unique(df['HADM_ID']))]\n",
        "\n",
        "plt.title(\"Counts of Unique Values for Columns\")\n",
        "plt.bar(names, heights)\n",
        "plt.show()"
      ],
      "metadata": {
        "colab": {
          "base_uri": "https://localhost:8080/"
        },
        "id": "9OnkuezVK-tB",
        "outputId": "0e2e5f06-2dde-4995-b1a7-c8df1f3da459"
      },
      "execution_count": null,
      "outputs": [
        {
          "output_type": "display_data",
          "data": {
            "text/plain": [
              "<Figure size 640x480 with 1 Axes>"
            ],
            "image/png": "[encoded data removed]"
          },
          "metadata": {}
        }
      ]
    },
    {
      "cell_type": "markdown",
      "source": [
        "We can see that for these colums all or almost all values are unique, so we should drop them for stability"
      ],
      "metadata": {
        "id": "x83wQt1tL1eY"
      }
    },
    {
      "cell_type": "code",
      "source": [
        "df = df.drop(columns=['Unnamed: 0', 'SUBJECT_ID', 'HADM_ID'])\n",
        "df.head()"
      ],
      "metadata": {
        "colab": {
          "base_uri": "https://localhost:8080/"
        },
        "id": "4S9UaruKNYRa",
        "outputId": "8a4c10d1-7074-41e3-9009-1c482ffded2c"
      },
      "execution_count": null,
      "outputs": [
        {
          "output_type": "execute_result",
          "data": {
            "text/plain": [
              "                   ICD9-CODE  \\\n",
              "0                    [42731]   \n",
              "1                    [51881]   \n",
              "2  [5849, 41401, 2724, 4019]   \n",
              "3              [4280, 42731]   \n",
              "4                    [53081]   \n",
              "\n",
              "                                        MED_SYMPTOMS  NUM_NOTES  \n",
              "0  [Cardiac chamber structure, Body of vertebra, ...         32  \n",
              "1  [Cor pulmonale, Brain, Lung diseases, Angina P...         47  \n",
              "2  [Cardiac chamber structure, Anterior descendin...         26  \n",
              "3  [Benign Prostatic Hyperplasia, Sleep Apnea Syn...         39  \n",
              "4  [Syndrome, capillaries lung, Symptoms, Left ve...          7  "
            ],
            "text/html": [
              "\n",
              "  <div id=\"df-783cb47d-43aa-4e36-9686-0d8c4114d1a7\" class=\"colab-df-container\">\n",
              "    <div>\n",
              "<style scoped>\n",
              "    .dataframe tbody tr th:only-of-type {\n",
              "        vertical-align: middle;\n",
              "    }\n",
              "\n",
              "    .dataframe tbody tr th {\n",
              "        vertical-align: top;\n",
              "    }\n",
              "\n",
              "    .dataframe thead th {\n",
              "        text-align: right;\n",
              "    }\n",
              "</style>\n",
              "<table border=\"1\" class=\"dataframe\">\n",
              "  <thead>\n",
              "    <tr style=\"text-align: right;\">\n",
              "      <th></th>\n",
              "      <th>ICD9-CODE</th>\n",
              "      <th>MED_SYMPTOMS</th>\n",
              "      <th>NUM_NOTES</th>\n",
              "    </tr>\n",
              "  </thead>\n",
              "  <tbody>\n",
              "    <tr>\n",
              "      <th>0</th>\n",
              "      <td>[42731]</td>\n",
              "      <td>[Cardiac chamber structure, Body of vertebra, ...</td>\n",
              "      <td>32</td>\n",
              "    </tr>\n",
              "    <tr>\n",
              "      <th>1</th>\n",
              "      <td>[51881]</td>\n",
              "      <td>[Cor pulmonale, Brain, Lung diseases, Angina P...</td>\n",
              "      <td>47</td>\n",
              "    </tr>\n",
              "    <tr>\n",
              "      <th>2</th>\n",
              "      <td>[5849, 41401, 2724, 4019]</td>\n",
              "      <td>[Cardiac chamber structure, Anterior descendin...</td>\n",
              "      <td>26</td>\n",
              "    </tr>\n",
              "    <tr>\n",
              "      <th>3</th>\n",
              "      <td>[4280, 42731]</td>\n",
              "      <td>[Benign Prostatic Hyperplasia, Sleep Apnea Syn...</td>\n",
              "      <td>39</td>\n",
              "    </tr>\n",
              "    <tr>\n",
              "      <th>4</th>\n",
              "      <td>[53081]</td>\n",
              "      <td>[Syndrome, capillaries lung, Symptoms, Left ve...</td>\n",
              "      <td>7</td>\n",
              "    </tr>\n",
              "  </tbody>\n",
              "</table>\n",
              "</div>\n",
              "    <div class=\"colab-df-buttons\">\n",
              "\n",
              "  <div class=\"colab-df-container\">\n",
              "    <button class=\"colab-df-convert\" onclick=\"convertToInteractive('df-783cb47d-43aa-4e36-9686-0d8c4114d1a7')\"\n",
              "            title=\"Convert this dataframe to an interactive table.\"\n",
              "            style=\"display:none;\">\n",
              "\n",
              "  <svg xmlns=\"http://www.w3.org/2000/svg\" height=\"24px\" viewBox=\"0 -960 960 960\">\n",
              "    <path d=\"M120-120v-720h720v720H120Zm60-500h600v-160H180v160Zm220 220h160v-160H400v160Zm0 220h160v-160H400v160ZM180-400h160v-160H180v160Zm440 0h160v-160H620v160ZM180-180h160v-160H180v160Zm440 0h160v-160H620v160Z\"/>\n",
              "  </svg>\n",
              "    </button>\n",
              "\n",
              "  <style>\n",
              "    .colab-df-container {\n",
              "      display:flex;\n",
              "      gap: 12px;\n",
              "    }\n",
              "\n",
              "    .colab-df-convert {\n",
              "      background-color: #E8F0FE;\n",
              "      border: none;\n",
              "      border-radius: 50%;\n",
              "      cursor: pointer;\n",
              "      display: none;\n",
              "      fill: #1967D2;\n",
              "      height: 32px;\n",
              "      padding: 0 0 0 0;\n",
              "      width: 32px;\n",
              "    }\n",
              "\n",
              "    .colab-df-convert:hover {\n",
              "      background-color: #E2EBFA;\n",
              "      box-shadow: 0px 1px 2px rgba(60, 64, 67, 0.3), 0px 1px 3px 1px rgba(60, 64, 67, 0.15);\n",
              "      fill: #174EA6;\n",
              "    }\n",
              "\n",
              "    .colab-df-buttons div {\n",
              "      margin-bottom: 4px;\n",
              "    }\n",
              "\n",
              "    [theme=dark] .colab-df-convert {\n",
              "      background-color: #3B4455;\n",
              "      fill: #D2E3FC;\n",
              "    }\n",
              "\n",
              "    [theme=dark] .colab-df-convert:hover {\n",
              "      background-color: #434B5C;\n",
              "      box-shadow: 0px 1px 3px 1px rgba(0, 0, 0, 0.15);\n",
              "      filter: drop-shadow(0px 1px 2px rgba(0, 0, 0, 0.3));\n",
              "      fill: #FFFFFF;\n",
              "    }\n",
              "  </style>\n",
              "\n",
              "    <script>\n",
              "      const buttonEl =\n",
              "        document.querySelector('#df-783cb47d-43aa-4e36-9686-0d8c4114d1a7 button.colab-df-convert');\n",
              "      buttonEl.style.display =\n",
              "        google.colab.kernel.accessAllowed ? 'block' : 'none';\n",
              "\n",
              "      async function convertToInteractive(key) {\n",
              "        const element = document.querySelector('#df-783cb47d-43aa-4e36-9686-0d8c4114d1a7');\n",
              "        const dataTable =\n",
              "          await google.colab.kernel.invokeFunction('convertToInteractive',\n",
              "                                                    [key], {});\n",
              "        if (!dataTable) return;\n",
              "\n",
              "        const docLinkHtml = 'Like what you see? Visit the ' +\n",
              "          '<a target=\"_blank\" href=https://colab.research.google.com/notebooks/data_table.ipynb>data table notebook</a>'\n",
              "          + ' to learn more about interactive tables.';\n",
              "        element.innerHTML = '';\n",
              "        dataTable['output_type'] = 'display_data';\n",
              "        await google.colab.output.renderOutput(dataTable, element);\n",
              "        const docLink = document.createElement('div');\n",
              "        docLink.innerHTML = docLinkHtml;\n",
              "        element.appendChild(docLink);\n",
              "      }\n",
              "    </script>\n",
              "  </div>\n",
              "\n",
              "\n",
              "<div id=\"df-c8d3bad8-d48f-4f64-9649-2c6d7411582f\">\n",
              "  <button class=\"colab-df-quickchart\" onclick=\"quickchart('df-c8d3bad8-d48f-4f64-9649-2c6d7411582f')\"\n",
              "            title=\"Suggest charts\"\n",
              "            style=\"display:none;\">\n",
              "\n",
              "<svg xmlns=\"http://www.w3.org/2000/svg\" height=\"24px\"viewBox=\"0 0 24 24\"\n",
              "     width=\"24px\">\n",
              "    <g>\n",
              "        <path d=\"M19 3H5c-1.1 0-2 .9-2 2v14c0 1.1.9 2 2 2h14c1.1 0 2-.9 2-2V5c0-1.1-.9-2-2-2zM9 17H7v-7h2v7zm4 0h-2V7h2v10zm4 0h-2v-4h2v4z\"/>\n",
              "    </g>\n",
              "</svg>\n",
              "  </button>\n",
              "\n",
              "<style>\n",
              "  .colab-df-quickchart {\n",
              "      --bg-color: #E8F0FE;\n",
              "      --fill-color: #1967D2;\n",
              "      --hover-bg-color: #E2EBFA;\n",
              "      --hover-fill-color: #174EA6;\n",
              "      --disabled-fill-color: #AAA;\n",
              "      --disabled-bg-color: #DDD;\n",
              "  }\n",
              "\n",
              "  [theme=dark] .colab-df-quickchart {\n",
              "      --bg-color: #3B4455;\n",
              "      --fill-color: #D2E3FC;\n",
              "      --hover-bg-color: #434B5C;\n",
              "      --hover-fill-color: #FFFFFF;\n",
              "      --disabled-bg-color: #3B4455;\n",
              "      --disabled-fill-color: #666;\n",
              "  }\n",
              "\n",
              "  .colab-df-quickchart {\n",
              "    background-color: var(--bg-color);\n",
              "    border: none;\n",
              "    border-radius: 50%;\n",
              "    cursor: pointer;\n",
              "    display: none;\n",
              "    fill: var(--fill-color);\n",
              "    height: 32px;\n",
              "    padding: 0;\n",
              "    width: 32px;\n",
              "  }\n",
              "\n",
              "  .colab-df-quickchart:hover {\n",
              "    background-color: var(--hover-bg-color);\n",
              "    box-shadow: 0 1px 2px rgba(60, 64, 67, 0.3), 0 1px 3px 1px rgba(60, 64, 67, 0.15);\n",
              "    fill: var(--button-hover-fill-color);\n",
              "  }\n",
              "\n",
              "  .colab-df-quickchart-complete:disabled,\n",
              "  .colab-df-quickchart-complete:disabled:hover {\n",
              "    background-color: var(--disabled-bg-color);\n",
              "    fill: var(--disabled-fill-color);\n",
              "    box-shadow: none;\n",
              "  }\n",
              "\n",
              "  .colab-df-spinner {\n",
              "    border: 2px solid var(--fill-color);\n",
              "    border-color: transparent;\n",
              "    border-bottom-color: var(--fill-color);\n",
              "    animation:\n",
              "      spin 1s steps(1) infinite;\n",
              "  }\n",
              "\n",
              "  @keyframes spin {\n",
              "    0% {\n",
              "      border-color: transparent;\n",
              "      border-bottom-color: var(--fill-color);\n",
              "      border-left-color: var(--fill-color);\n",
              "    }\n",
              "    20% {\n",
              "      border-color: transparent;\n",
              "      border-left-color: var(--fill-color);\n",
              "      border-top-color: var(--fill-color);\n",
              "    }\n",
              "    30% {\n",
              "      border-color: transparent;\n",
              "      border-left-color: var(--fill-color);\n",
              "      border-top-color: var(--fill-color);\n",
              "      border-right-color: var(--fill-color);\n",
              "    }\n",
              "    40% {\n",
              "      border-color: transparent;\n",
              "      border-right-color: var(--fill-color);\n",
              "      border-top-color: var(--fill-color);\n",
              "    }\n",
              "    60% {\n",
              "      border-color: transparent;\n",
              "      border-right-color: var(--fill-color);\n",
              "    }\n",
              "    80% {\n",
              "      border-color: transparent;\n",
              "      border-right-color: var(--fill-color);\n",
              "      border-bottom-color: var(--fill-color);\n",
              "    }\n",
              "    90% {\n",
              "      border-color: transparent;\n",
              "      border-bottom-color: var(--fill-color);\n",
              "    }\n",
              "  }\n",
              "</style>\n",
              "\n",
              "  <script>\n",
              "    async function quickchart(key) {\n",
              "      const quickchartButtonEl =\n",
              "        document.querySelector('#' + key + ' button');\n",
              "      quickchartButtonEl.disabled = true;  // To prevent multiple clicks.\n",
              "      quickchartButtonEl.classList.add('colab-df-spinner');\n",
              "      try {\n",
              "        const charts = await google.colab.kernel.invokeFunction(\n",
              "            'suggestCharts', [key], {});\n",
              "      } catch (error) {\n",
              "        console.error('Error during call to suggestCharts:', error);\n",
              "      }\n",
              "      quickchartButtonEl.classList.remove('colab-df-spinner');\n",
              "      quickchartButtonEl.classList.add('colab-df-quickchart-complete');\n",
              "    }\n",
              "    (() => {\n",
              "      let quickchartButtonEl =\n",
              "        document.querySelector('#df-c8d3bad8-d48f-4f64-9649-2c6d7411582f button');\n",
              "      quickchartButtonEl.style.display =\n",
              "        google.colab.kernel.accessAllowed ? 'block' : 'none';\n",
              "    })();\n",
              "  </script>\n",
              "</div>\n",
              "\n",
              "    </div>\n",
              "  </div>\n"
            ],
            "application/vnd.google.colaboratory.intrinsic+json": {
              "type": "dataframe",
              "variable_name": "df",
              "summary": "{\n  \"name\": \"df\",\n  \"rows\": 41536,\n  \"fields\": [\n    {\n      \"column\": \"ICD9-CODE\",\n      \"properties\": {\n        \"dtype\": \"object\",\n        \"semantic_type\": \"\",\n        \"description\": \"\"\n      }\n    },\n    {\n      \"column\": \"MED_SYMPTOMS\",\n      \"properties\": {\n        \"dtype\": \"object\",\n        \"semantic_type\": \"\",\n        \"description\": \"\"\n      }\n    },\n    {\n      \"column\": \"NUM_NOTES\",\n      \"properties\": {\n        \"dtype\": \"number\",\n        \"std\": 51,\n        \"min\": 1,\n        \"max\": 1233,\n        \"num_unique_values\": 479,\n        \"samples\": [\n          64,\n          655,\n          112\n        ],\n        \"semantic_type\": \"\",\n        \"description\": \"\"\n      }\n    }\n  ]\n}"
            }
          },
          "metadata": {},
          "execution_count": 309
        }
      ]
    },
    {
      "source": [
        "df['NUM_NOTES'].plot(kind='hist', bins=100, title='Number of Notes Distribution')\n",
        "plt.show()"
      ],
      "cell_type": "code",
      "execution_count": null,
      "outputs": [
        {
          "output_type": "display_data",
          "data": {
            "text/plain": [
              "<Figure size 640x480 with 1 Axes>"
            ],
            "image/png": "[encoded data removed]"
          },
          "metadata": {}
        }
      ],
      "metadata": {
        "colab": {
          "base_uri": "https://localhost:8080/"
        },
        "id": "e_Ci5GNpNjQQ",
        "outputId": "b2454a0e-6f57-491c-8811-ab5f2edeaa7c"
      }
    },
    {
      "cell_type": "code",
      "source": [
        "mlb = MultiLabelBinarizer(sparse_output=True)\n",
        "\n",
        "dfonehot = df.join(\n",
        "            pd.DataFrame.sparse.from_spmatrix(\n",
        "                mlb.fit_transform(df['MED_SYMPTOMS']),\n",
        "                index=df.index,\n",
        "                columns=mlb.classes_)).drop(columns=['MED_SYMPTOMS'])\n",
        "\n",
        "dfonehot.head()"
      ],
      "metadata": {
        "colab": {
          "base_uri": "https://localhost:8080/"
        },
        "id": "FGAcPBfGFtu_",
        "outputId": "9f6f6a19-8168-4460-cf5e-71bcbd6bbe98"
      },
      "execution_count": null,
      "outputs": [
        {
          "output_type": "execute_result",
          "data": {
            "text/plain": [
              "                   ICD9-CODE  NUM_NOTES  ABRASION DENT  \\\n",
              "0                    [42731]         32              0   \n",
              "1                    [51881]         47              0   \n",
              "2  [5849, 41401, 2724, 4019]         26              0   \n",
              "3              [4280, 42731]         39              1   \n",
              "4                    [53081]          7              0   \n",
              "\n",
              "   ACD - Allergic contact dermatitis  ACS - Acute coronary syndrome  \\\n",
              "0                                  0                              0   \n",
              "1                                  0                              0   \n",
              "2                                  0                              0   \n",
              "3                                  0                              0   \n",
              "4                                  0                              0   \n",
              "\n",
              "   ACUTE DIS  ADPK  AG - Atrophic gastritis  AIDS HIV infection  AKU  ...  \\\n",
              "0          0     0                        0                   0    0  ...   \n",
              "1          0     0                        0                   0    0  ...   \n",
              "2          0     0                        0                   0    0  ...   \n",
              "3          0     0                        0                   0    0  ...   \n",
              "4          0     0                        0                   0    0  ...   \n",
              "\n",
              "   strain symptom  sustained tachycardia ventricular  systolic dysfunction  \\\n",
              "0               0                                  0                     0   \n",
              "1               0                                  0                     0   \n",
              "2               0                                  0                     0   \n",
              "3               0                                  0                     0   \n",
              "4               0                                  0                     0   \n",
              "\n",
              "   tract  transient ischaemia  vagal nerve fibers  venous hypertension  \\\n",
              "0      0                    0                   0                    0   \n",
              "1      0                    0                   0                    0   \n",
              "2      0                    0                   0                    0   \n",
              "3      0                    0                   0                    0   \n",
              "4      0                    0                   0                    0   \n",
              "\n",
              "   ventricles wall  von Willebrand Disease  wing  \n",
              "0                0                       0     0  \n",
              "1                0                       0     0  \n",
              "2                0                       0     0  \n",
              "3                0                       0     0  \n",
              "4                0                       0     0  \n",
              "\n",
              "[5 rows x 2280 columns]"
            ],
            "text/html": [
              "\n",
              "  <div id=\"df-b78e4350-5ef2-483c-a17a-88109c6962cf\" class=\"colab-df-container\">\n",
              "    <div>\n",
              "<style scoped>\n",
              "    .dataframe tbody tr th:only-of-type {\n",
              "        vertical-align: middle;\n",
              "    }\n",
              "\n",
              "    .dataframe tbody tr th {\n",
              "        vertical-align: top;\n",
              "    }\n",
              "\n",
              "    .dataframe thead th {\n",
              "        text-align: right;\n",
              "    }\n",
              "</style>\n",
              "<table border=\"1\" class=\"dataframe\">\n",
              "  <thead>\n",
              "    <tr style=\"text-align: right;\">\n",
              "      <th></th>\n",
              "      <th>ICD9-CODE</th>\n",
              "      <th>NUM_NOTES</th>\n",
              "      <th>ABRASION DENT</th>\n",
              "      <th>ACD - Allergic contact dermatitis</th>\n",
              "      <th>ACS - Acute coronary syndrome</th>\n",
              "      <th>ACUTE DIS</th>\n",
              "      <th>ADPK</th>\n",
              "      <th>AG - Atrophic gastritis</th>\n",
              "      <th>AIDS HIV infection</th>\n",
              "      <th>AKU</th>\n",
              "      <th>...</th>\n",
              "      <th>strain symptom</th>\n",
              "      <th>sustained tachycardia ventricular</th>\n",
              "      <th>systolic dysfunction</th>\n",
              "      <th>tract</th>\n",
              "      <th>transient ischaemia</th>\n",
              "      <th>vagal nerve fibers</th>\n",
              "      <th>venous hypertension</th>\n",
              "      <th>ventricles wall</th>\n",
              "      <th>von Willebrand Disease</th>\n",
              "      <th>wing</th>\n",
              "    </tr>\n",
              "  </thead>\n",
              "  <tbody>\n",
              "    <tr>\n",
              "      <th>0</th>\n",
              "      <td>[42731]</td>\n",
              "      <td>32</td>\n",
              "      <td>0</td>\n",
              "      <td>0</td>\n",
              "      <td>0</td>\n",
              "      <td>0</td>\n",
              "      <td>0</td>\n",
              "      <td>0</td>\n",
              "      <td>0</td>\n",
              "      <td>0</td>\n",
              "      <td>...</td>\n",
              "      <td>0</td>\n",
              "      <td>0</td>\n",
              "      <td>0</td>\n",
              "      <td>0</td>\n",
              "      <td>0</td>\n",
              "      <td>0</td>\n",
              "      <td>0</td>\n",
              "      <td>0</td>\n",
              "      <td>0</td>\n",
              "      <td>0</td>\n",
              "    </tr>\n",
              "    <tr>\n",
              "      <th>1</th>\n",
              "      <td>[51881]</td>\n",
              "      <td>47</td>\n",
              "      <td>0</td>\n",
              "      <td>0</td>\n",
              "      <td>0</td>\n",
              "      <td>0</td>\n",
              "      <td>0</td>\n",
              "      <td>0</td>\n",
              "      <td>0</td>\n",
              "      <td>0</td>\n",
              "      <td>...</td>\n",
              "      <td>0</td>\n",
              "      <td>0</td>\n",
              "      <td>0</td>\n",
              "      <td>0</td>\n",
              "      <td>0</td>\n",
              "      <td>0</td>\n",
              "      <td>0</td>\n",
              "      <td>0</td>\n",
              "      <td>0</td>\n",
              "      <td>0</td>\n",
              "    </tr>\n",
              "    <tr>\n",
              "      <th>2</th>\n",
              "      <td>[5849, 41401, 2724, 4019]</td>\n",
              "      <td>26</td>\n",
              "      <td>0</td>\n",
              "      <td>0</td>\n",
              "      <td>0</td>\n",
              "      <td>0</td>\n",
              "      <td>0</td>\n",
              "      <td>0</td>\n",
              "      <td>0</td>\n",
              "      <td>0</td>\n",
              "      <td>...</td>\n",
              "      <td>0</td>\n",
              "      <td>0</td>\n",
              "      <td>0</td>\n",
              "      <td>0</td>\n",
              "      <td>0</td>\n",
              "      <td>0</td>\n",
              "      <td>0</td>\n",
              "      <td>0</td>\n",
              "      <td>0</td>\n",
              "      <td>0</td>\n",
              "    </tr>\n",
              "    <tr>\n",
              "      <th>3</th>\n",
              "      <td>[4280, 42731]</td>\n",
              "      <td>39</td>\n",
              "      <td>1</td>\n",
              "      <td>0</td>\n",
              "      <td>0</td>\n",
              "      <td>0</td>\n",
              "      <td>0</td>\n",
              "      <td>0</td>\n",
              "      <td>0</td>\n",
              "      <td>0</td>\n",
              "      <td>...</td>\n",
              "      <td>0</td>\n",
              "      <td>0</td>\n",
              "      <td>0</td>\n",
              "      <td>0</td>\n",
              "      <td>0</td>\n",
              "      <td>0</td>\n",
              "      <td>0</td>\n",
              "      <td>0</td>\n",
              "      <td>0</td>\n",
              "      <td>0</td>\n",
              "    </tr>\n",
              "    <tr>\n",
              "      <th>4</th>\n",
              "      <td>[53081]</td>\n",
              "      <td>7</td>\n",
              "      <td>0</td>\n",
              "      <td>0</td>\n",
              "      <td>0</td>\n",
              "      <td>0</td>\n",
              "      <td>0</td>\n",
              "      <td>0</td>\n",
              "      <td>0</td>\n",
              "      <td>0</td>\n",
              "      <td>...</td>\n",
              "      <td>0</td>\n",
              "      <td>0</td>\n",
              "      <td>0</td>\n",
              "      <td>0</td>\n",
              "      <td>0</td>\n",
              "      <td>0</td>\n",
              "      <td>0</td>\n",
              "      <td>0</td>\n",
              "      <td>0</td>\n",
              "      <td>0</td>\n",
              "    </tr>\n",
              "  </tbody>\n",
              "</table>\n",
              "<p>5 rows × 2280 columns</p>\n",
              "</div>\n",
              "    <div class=\"colab-df-buttons\">\n",
              "\n",
              "  <div class=\"colab-df-container\">\n",
              "    <button class=\"colab-df-convert\" onclick=\"convertToInteractive('df-b78e4350-5ef2-483c-a17a-88109c6962cf')\"\n",
              "            title=\"Convert this dataframe to an interactive table.\"\n",
              "            style=\"display:none;\">\n",
              "\n",
              "  <svg xmlns=\"http://www.w3.org/2000/svg\" height=\"24px\" viewBox=\"0 -960 960 960\">\n",
              "    <path d=\"M120-120v-720h720v720H120Zm60-500h600v-160H180v160Zm220 220h160v-160H400v160Zm0 220h160v-160H400v160ZM180-400h160v-160H180v160Zm440 0h160v-160H620v160ZM180-180h160v-160H180v160Zm440 0h160v-160H620v160Z\"/>\n",
              "  </svg>\n",
              "    </button>\n",
              "\n",
              "  <style>\n",
              "    .colab-df-container {\n",
              "      display:flex;\n",
              "      gap: 12px;\n",
              "    }\n",
              "\n",
              "    .colab-df-convert {\n",
              "      background-color: #E8F0FE;\n",
              "      border: none;\n",
              "      border-radius: 50%;\n",
              "      cursor: pointer;\n",
              "      display: none;\n",
              "      fill: #1967D2;\n",
              "      height: 32px;\n",
              "      padding: 0 0 0 0;\n",
              "      width: 32px;\n",
              "    }\n",
              "\n",
              "    .colab-df-convert:hover {\n",
              "      background-color: #E2EBFA;\n",
              "      box-shadow: 0px 1px 2px rgba(60, 64, 67, 0.3), 0px 1px 3px 1px rgba(60, 64, 67, 0.15);\n",
              "      fill: #174EA6;\n",
              "    }\n",
              "\n",
              "    .colab-df-buttons div {\n",
              "      margin-bottom: 4px;\n",
              "    }\n",
              "\n",
              "    [theme=dark] .colab-df-convert {\n",
              "      background-color: #3B4455;\n",
              "      fill: #D2E3FC;\n",
              "    }\n",
              "\n",
              "    [theme=dark] .colab-df-convert:hover {\n",
              "      background-color: #434B5C;\n",
              "      box-shadow: 0px 1px 3px 1px rgba(0, 0, 0, 0.15);\n",
              "      filter: drop-shadow(0px 1px 2px rgba(0, 0, 0, 0.3));\n",
              "      fill: #FFFFFF;\n",
              "    }\n",
              "  </style>\n",
              "\n",
              "    <script>\n",
              "      const buttonEl =\n",
              "        document.querySelector('#df-b78e4350-5ef2-483c-a17a-88109c6962cf button.colab-df-convert');\n",
              "      buttonEl.style.display =\n",
              "        google.colab.kernel.accessAllowed ? 'block' : 'none';\n",
              "\n",
              "      async function convertToInteractive(key) {\n",
              "        const element = document.querySelector('#df-b78e4350-5ef2-483c-a17a-88109c6962cf');\n",
              "        const dataTable =\n",
              "          await google.colab.kernel.invokeFunction('convertToInteractive',\n",
              "                                                    [key], {});\n",
              "        if (!dataTable) return;\n",
              "\n",
              "        const docLinkHtml = 'Like what you see? Visit the ' +\n",
              "          '<a target=\"_blank\" href=https://colab.research.google.com/notebooks/data_table.ipynb>data table notebook</a>'\n",
              "          + ' to learn more about interactive tables.';\n",
              "        element.innerHTML = '';\n",
              "        dataTable['output_type'] = 'display_data';\n",
              "        await google.colab.output.renderOutput(dataTable, element);\n",
              "        const docLink = document.createElement('div');\n",
              "        docLink.innerHTML = docLinkHtml;\n",
              "        element.appendChild(docLink);\n",
              "      }\n",
              "    </script>\n",
              "  </div>\n",
              "\n",
              "\n",
              "<div id=\"df-2a92f30a-4c58-4d9a-a104-67ed1a0eb74d\">\n",
              "  <button class=\"colab-df-quickchart\" onclick=\"quickchart('df-2a92f30a-4c58-4d9a-a104-67ed1a0eb74d')\"\n",
              "            title=\"Suggest charts\"\n",
              "            style=\"display:none;\">\n",
              "\n",
              "<svg xmlns=\"http://www.w3.org/2000/svg\" height=\"24px\"viewBox=\"0 0 24 24\"\n",
              "     width=\"24px\">\n",
              "    <g>\n",
              "        <path d=\"M19 3H5c-1.1 0-2 .9-2 2v14c0 1.1.9 2 2 2h14c1.1 0 2-.9 2-2V5c0-1.1-.9-2-2-2zM9 17H7v-7h2v7zm4 0h-2V7h2v10zm4 0h-2v-4h2v4z\"/>\n",
              "    </g>\n",
              "</svg>\n",
              "  </button>\n",
              "\n",
              "<style>\n",
              "  .colab-df-quickchart {\n",
              "      --bg-color: #E8F0FE;\n",
              "      --fill-color: #1967D2;\n",
              "      --hover-bg-color: #E2EBFA;\n",
              "      --hover-fill-color: #174EA6;\n",
              "      --disabled-fill-color: #AAA;\n",
              "      --disabled-bg-color: #DDD;\n",
              "  }\n",
              "\n",
              "  [theme=dark] .colab-df-quickchart {\n",
              "      --bg-color: #3B4455;\n",
              "      --fill-color: #D2E3FC;\n",
              "      --hover-bg-color: #434B5C;\n",
              "      --hover-fill-color: #FFFFFF;\n",
              "      --disabled-bg-color: #3B4455;\n",
              "      --disabled-fill-color: #666;\n",
              "  }\n",
              "\n",
              "  .colab-df-quickchart {\n",
              "    background-color: var(--bg-color);\n",
              "    border: none;\n",
              "    border-radius: 50%;\n",
              "    cursor: pointer;\n",
              "    display: none;\n",
              "    fill: var(--fill-color);\n",
              "    height: 32px;\n",
              "    padding: 0;\n",
              "    width: 32px;\n",
              "  }\n",
              "\n",
              "  .colab-df-quickchart:hover {\n",
              "    background-color: var(--hover-bg-color);\n",
              "    box-shadow: 0 1px 2px rgba(60, 64, 67, 0.3), 0 1px 3px 1px rgba(60, 64, 67, 0.15);\n",
              "    fill: var(--button-hover-fill-color);\n",
              "  }\n",
              "\n",
              "  .colab-df-quickchart-complete:disabled,\n",
              "  .colab-df-quickchart-complete:disabled:hover {\n",
              "    background-color: var(--disabled-bg-color);\n",
              "    fill: var(--disabled-fill-color);\n",
              "    box-shadow: none;\n",
              "  }\n",
              "\n",
              "  .colab-df-spinner {\n",
              "    border: 2px solid var(--fill-color);\n",
              "    border-color: transparent;\n",
              "    border-bottom-color: var(--fill-color);\n",
              "    animation:\n",
              "      spin 1s steps(1) infinite;\n",
              "  }\n",
              "\n",
              "  @keyframes spin {\n",
              "    0% {\n",
              "      border-color: transparent;\n",
              "      border-bottom-color: var(--fill-color);\n",
              "      border-left-color: var(--fill-color);\n",
              "    }\n",
              "    20% {\n",
              "      border-color: transparent;\n",
              "      border-left-color: var(--fill-color);\n",
              "      border-top-color: var(--fill-color);\n",
              "    }\n",
              "    30% {\n",
              "      border-color: transparent;\n",
              "      border-left-color: var(--fill-color);\n",
              "      border-top-color: var(--fill-color);\n",
              "      border-right-color: var(--fill-color);\n",
              "    }\n",
              "    40% {\n",
              "      border-color: transparent;\n",
              "      border-right-color: var(--fill-color);\n",
              "      border-top-color: var(--fill-color);\n",
              "    }\n",
              "    60% {\n",
              "      border-color: transparent;\n",
              "      border-right-color: var(--fill-color);\n",
              "    }\n",
              "    80% {\n",
              "      border-color: transparent;\n",
              "      border-right-color: var(--fill-color);\n",
              "      border-bottom-color: var(--fill-color);\n",
              "    }\n",
              "    90% {\n",
              "      border-color: transparent;\n",
              "      border-bottom-color: var(--fill-color);\n",
              "    }\n",
              "  }\n",
              "</style>\n",
              "\n",
              "  <script>\n",
              "    async function quickchart(key) {\n",
              "      const quickchartButtonEl =\n",
              "        document.querySelector('#' + key + ' button');\n",
              "      quickchartButtonEl.disabled = true;  // To prevent multiple clicks.\n",
              "      quickchartButtonEl.classList.add('colab-df-spinner');\n",
              "      try {\n",
              "        const charts = await google.colab.kernel.invokeFunction(\n",
              "            'suggestCharts', [key], {});\n",
              "      } catch (error) {\n",
              "        console.error('Error during call to suggestCharts:', error);\n",
              "      }\n",
              "      quickchartButtonEl.classList.remove('colab-df-spinner');\n",
              "      quickchartButtonEl.classList.add('colab-df-quickchart-complete');\n",
              "    }\n",
              "    (() => {\n",
              "      let quickchartButtonEl =\n",
              "        document.querySelector('#df-2a92f30a-4c58-4d9a-a104-67ed1a0eb74d button');\n",
              "      quickchartButtonEl.style.display =\n",
              "        google.colab.kernel.accessAllowed ? 'block' : 'none';\n",
              "    })();\n",
              "  </script>\n",
              "</div>\n",
              "\n",
              "    </div>\n",
              "  </div>\n"
            ],
            "application/vnd.google.colaboratory.intrinsic+json": {
              "type": "dataframe",
              "variable_name": "dfonehot"
            }
          },
          "metadata": {},
          "execution_count": 311
        }
      ]
    },
    {
      "cell_type": "code",
      "source": [
        "X = dfonehot.drop(columns=['ICD9-CODE'])\n",
        "y = pd.DataFrame.sparse.from_spmatrix(\n",
        "                mlb.fit_transform(dfonehot['ICD9-CODE']),\n",
        "                index=df.index,\n",
        "                columns=mlb.classes_).to_numpy()\n",
        "\n",
        "categorical = X.select_dtypes(exclude=['int64', 'float64']).columns.tolist()\n",
        "numerical = X.select_dtypes(include=['int64', 'float64']).columns.tolist()\n",
        "\n",
        "X_train, X_val, y_train, y_val = train_test_split(\n",
        "    X, y, test_size=0.3, random_state=42)\n",
        "\n",
        "X_train.shape"
      ],
      "metadata": {
        "colab": {
          "base_uri": "https://localhost:8080/"
        },
        "id": "hPkTIPgnPMvx",
        "outputId": "ec9f3a9a-2604-4a79-add3-2e966ca4830e"
      },
      "execution_count": null,
      "outputs": [
        {
          "output_type": "execute_result",
          "data": {
            "text/plain": [
              "(29075, 2279)"
            ]
          },
          "metadata": {},
          "execution_count": 312
        }
      ]
    },
    {
      "cell_type": "markdown",
      "source": [
        "### Dummy Baseline"
      ],
      "metadata": {
        "id": "kE5RPpDIQsE2"
      }
    },
    {
      "cell_type": "code",
      "source": [
        "clf = DummyClassifier(strategy='stratified')\n",
        "\n",
        "start = time.time()\n",
        "clf.fit(X_train, y_train)\n",
        "y_guess = clf.predict(X_val)\n",
        "\n",
        "results.append(score_model(y_val, y_guess, 'Dummy'))\n",
        "print('Elapsed time: %s' %(string_time(time.time() - start)))"
      ],
      "metadata": {
        "colab": {
          "base_uri": "https://localhost:8080/"
        },
        "id": "sRCEftdQQiNk",
        "outputId": "fe9d42ff-c776-4a71-fd84-9dbcfb26d794"
      },
      "execution_count": null,
      "outputs": [
        {
          "output_type": "stream",
          "name": "stdout",
          "text": [
            "              precision    recall  f1-score   support\n",
            "\n",
            "           0       0.23      0.24      0.23      2639\n",
            "           1       0.20      0.20      0.20      2625\n",
            "           2       0.49      0.50      0.49      6106\n",
            "           3       0.31      0.31      0.31      3746\n",
            "           4       0.32      0.32      0.32      3844\n",
            "           5       0.32      0.31      0.32      3998\n",
            "           6       0.18      0.18      0.18      2239\n",
            "           7       0.16      0.15      0.15      1912\n",
            "           8       0.22      0.22      0.22      2758\n",
            "           9       0.14      0.15      0.14      1919\n",
            "\n",
            "   micro avg       0.30      0.30      0.30     31786\n",
            "   macro avg       0.26      0.26      0.26     31786\n",
            "weighted avg       0.29      0.30      0.29     31786\n",
            " samples avg       0.29      0.30      0.26     31786\n",
            "\n",
            "Elapsed time: 0m 0s\n"
          ]
        }
      ]
    },
    {
      "cell_type": "markdown",
      "source": [
        "### K Nearest Neighbors"
      ],
      "metadata": {
        "id": "QvXtFnpuS6Li"
      }
    },
    {
      "cell_type": "code",
      "source": [
        "clf = KNeighborsClassifier()\n",
        "\n",
        "start = time.time()\n",
        "clf.fit(X_train, y_train)\n",
        "y_guess = clf.predict(X_val)\n",
        "\n",
        "results.append(score_model(y_val, y_guess, 'KNN'))\n",
        "print('Elapsed time: %s' %(string_time(time.time() - start)))"
      ],
      "metadata": {
        "colab": {
          "base_uri": "https://localhost:8080/"
        },
        "id": "_p8fArbaS86J",
        "outputId": "c2d87b3d-c5a4-4a8a-f170-dad57a659dbf"
      },
      "execution_count": null,
      "outputs": [
        {
          "output_type": "stream",
          "name": "stdout",
          "text": [
            "              precision    recall  f1-score   support\n",
            "\n",
            "           0       0.36      0.10      0.16      2639\n",
            "           1       0.52      0.21      0.30      2625\n",
            "           2       0.55      0.69      0.61      6106\n",
            "           3       0.72      0.60      0.65      3746\n",
            "           4       0.56      0.38      0.46      3844\n",
            "           5       0.62      0.29      0.40      3998\n",
            "           6       0.52      0.31      0.39      2239\n",
            "           7       0.42      0.09      0.14      1912\n",
            "           8       0.47      0.10      0.17      2758\n",
            "           9       0.39      0.05      0.09      1919\n",
            "\n",
            "   micro avg       0.57      0.35      0.43     31786\n",
            "   macro avg       0.51      0.28      0.34     31786\n",
            "weighted avg       0.53      0.35      0.39     31786\n",
            " samples avg       0.49      0.36      0.39     31786\n",
            "\n",
            "Elapsed time: 0m 46s\n"
          ]
        }
      ]
    },
    {
      "cell_type": "markdown",
      "source": [
        "### Random Forest"
      ],
      "metadata": {
        "id": "MsMyfOIlT7S3"
      }
    },
    {
      "cell_type": "code",
      "source": [
        "clf = RandomForestClassifier()\n",
        "\n",
        "start = time.time()\n",
        "clf.fit(X_train, y_train)\n",
        "y_guess = clf.predict(X_val)\n",
        "\n",
        "results.append(score_model(y_val, y_guess, 'Random Forest'))\n",
        "print('Elapsed time: %s' %(string_time(time.time() - start)))"
      ],
      "metadata": {
        "colab": {
          "base_uri": "https://localhost:8080/"
        },
        "id": "dtZvVE8HT1Fu",
        "outputId": "393332f1-0562-4b61-d340-d44c8a3b88a6"
      },
      "execution_count": null,
      "outputs": [
        {
          "output_type": "stream",
          "name": "stdout",
          "text": [
            "              precision    recall  f1-score   support\n",
            "\n",
            "           0       0.76      0.01      0.03      2639\n",
            "           1       0.83      0.12      0.22      2625\n",
            "           2       0.67      0.66      0.67      6106\n",
            "           3       0.87      0.60      0.71      3746\n",
            "           4       0.85      0.60      0.71      3844\n",
            "           5       0.78      0.42      0.55      3998\n",
            "           6       0.72      0.12      0.21      2239\n",
            "           7       0.87      0.07      0.13      1912\n",
            "           8       0.76      0.14      0.23      2758\n",
            "           9       0.65      0.01      0.01      1919\n",
            "\n",
            "   micro avg       0.77      0.36      0.49     31786\n",
            "   macro avg       0.78      0.28      0.35     31786\n",
            "weighted avg       0.77      0.36      0.43     31786\n",
            " samples avg       0.58      0.38      0.43     31786\n",
            "\n",
            "Elapsed time: 0m 44s\n"
          ]
        }
      ]
    },
    {
      "cell_type": "markdown",
      "source": [
        "### Catboost"
      ],
      "metadata": {
        "id": "E1TGfnPrUU8b"
      }
    },
    {
      "cell_type": "code",
      "source": [
        "clf = CatBoostClassifier(random_state=179,\n",
        "                         loss_function='MultiLogloss',\n",
        "                         task_type=\"GPU\",\n",
        "                         verbose=False,)\n",
        "\n",
        "start = time.time()\n",
        "clf.fit(X_train, y_train)\n",
        "y_guess = clf.predict(X_val)\n",
        "\n",
        "results.append(score_model(y_val, y_guess, 'Catboost'))\n",
        "print('Elapsed time: %s' %(string_time(time.time() - start)))"
      ],
      "metadata": {
        "colab": {
          "base_uri": "https://localhost:8080/"
        },
        "id": "N5belwKmUWhf",
        "outputId": "ffa97d91-8c1e-47df-dd5e-f3b1e12927b0"
      },
      "execution_count": null,
      "outputs": [
        {
          "output_type": "stream",
          "name": "stdout",
          "text": [
            "              precision    recall  f1-score   support\n",
            "\n",
            "           0       0.67      0.56      0.61      2639\n",
            "           1       0.71      0.67      0.69      2625\n",
            "           2       0.69      0.80      0.74      6106\n",
            "           3       0.82      0.68      0.74      3746\n",
            "           4       0.82      0.90      0.86      3844\n",
            "           5       0.74      0.69      0.71      3998\n",
            "           6       0.69      0.49      0.57      2239\n",
            "           7       0.72      0.77      0.74      1912\n",
            "           8       0.72      0.52      0.61      2758\n",
            "           9       0.63      0.73      0.68      1919\n",
            "\n",
            "   micro avg       0.73      0.70      0.71     31786\n",
            "   macro avg       0.72      0.68      0.70     31786\n",
            "weighted avg       0.73      0.70      0.71     31786\n",
            " samples avg       0.71      0.70      0.67     31786\n",
            "\n",
            "Elapsed time: 0m 27s\n"
          ]
        }
      ]
    },
    {
      "cell_type": "markdown",
      "source": [
        "### Catboost + Optuna"
      ],
      "metadata": {
        "id": "2OyA4JfTcUec"
      }
    },
    {
      "cell_type": "code",
      "source": [
        "def print_vals(d):\n",
        "    ans = ''\n",
        "    for key, val in d.items():\n",
        "        ans += key + '=' + str(val) + ', '\n",
        "    return ans[:-2]\n",
        "\n",
        "def objective(trial: Trial, X_train, y_train, X_val, y_val) -> float:\n",
        "\n",
        "    param = {\n",
        "        'loss_function': 'MultiLogloss',\n",
        "        'iterations' : trial.suggest_int('iterations', 100, 3000),\n",
        "        'depth' : trial.suggest_int('depth', 4, 8),\n",
        "        'bagging_temperature' :trial.suggest_float('bagging_temperature', 0.01, 5.00, log=True),\n",
        "        'learning_rate' :trial.suggest_float('learning_rate', 1e-3, 0.05, log=True),\n",
        "    }\n",
        "\n",
        "    mod = CatBoostClassifier(**param, random_state=179, task_type=\"GPU\")\n",
        "    mod.fit(X_train, y_train,\n",
        "            eval_set=((X_val, y_val)),\n",
        "            early_stopping_rounds=100,\n",
        "            logging_level='Silent',\n",
        "        )\n",
        "\n",
        "    y_guess = mod.predict(X_val)\n",
        "    res = classification_report(y_guess, y_val, output_dict=True)['weighted avg']['f1-score']\n",
        "\n",
        "    return res"
      ],
      "metadata": {
        "id": "xal0aRdicXiy"
      },
      "execution_count": null,
      "outputs": []
    },
    {
      "cell_type": "code",
      "source": [
        "start = time.time()\n",
        "study_catboost = optuna.create_study(direction='maximize', sampler=TPESampler())\n",
        "study_catboost.optimize(lambda trial : objective(trial, X_train, y_train, X_val, y_val), n_trials=50)\n",
        "\n",
        "print('Best trial: score {},\\nparams {}'.format(study_catboost.best_trial.value, study_catboost.best_trial.params))"
      ],
      "metadata": {
        "colab": {
          "base_uri": "https://localhost:8080/"
        },
        "id": "aKr8IPQVcZXD",
        "outputId": "090f8086-f878-488f-85cf-5b67665f7505"
      },
      "execution_count": null,
      "outputs": [
        {
          "output_type": "stream",
          "name": "stderr",
          "text": [
            "Warning: less than 75% gpu memory available for training. Free: 6249.0625 Total: 15102.0625\n",
            "Warning: less than 75% gpu memory available for training. Free: 6249.0625 Total: 15102.0625\n",
            "Warning: less than 75% gpu memory available for training. Free: 6249.0625 Total: 15102.0625\n",
            "Warning: less than 75% gpu memory available for training. Free: 6249.0625 Total: 15102.0625\n",
            "Warning: less than 75% gpu memory available for training. Free: 6249.0625 Total: 15102.0625\n",
            "Warning: less than 75% gpu memory available for training. Free: 6249.0625 Total: 15102.0625\n",
            "Warning: less than 75% gpu memory available for training. Free: 6249.0625 Total: 15102.0625\n",
            "Warning: less than 75% gpu memory available for training. Free: 6249.0625 Total: 15102.0625\n",
            "Warning: less than 75% gpu memory available for training. Free: 6249.0625 Total: 15102.0625\n",
            "Warning: less than 75% gpu memory available for training. Free: 6249.0625 Total: 15102.0625\n",
            "Warning: less than 75% gpu memory available for training. Free: 6249.0625 Total: 15102.0625\n"
          ]
        },
        {
          "output_type": "stream",
          "name": "stdout",
          "text": [
            "Best trial: score 0.7230617461722714,\n",
            "params {'iterations': 2636, 'depth': 6, 'bagging_temperature': 0.5559828573579936, 'learning_rate': 0.021489279054925623}\n"
          ]
        }
      ]
    },
    {
      "cell_type": "code",
      "source": [
        "clf = CatBoostClassifier(**study_catboost.best_trial.params,\n",
        "                         loss_function='MultiLogloss',\n",
        "                         random_state=179,\n",
        "                         logging_level='Silent',\n",
        "                         task_type=\"GPU\")\n",
        "\n",
        "start = time.time()\n",
        "clf.fit(X_train, y_train)\n",
        "y_guess = clf.predict(X_val)\n",
        "\n",
        "results.append(score_model(y_val, y_guess, 'CatBoost+Optuna'))\n",
        "print('Elapsed time: %s' %(string_time(time.time() - start)))"
      ],
      "metadata": {
        "colab": {
          "base_uri": "https://localhost:8080/"
        },
        "id": "YPZ2NW6fesGH",
        "outputId": "7b8ddeb1-93ac-4428-9572-9fa6bd137446"
      },
      "execution_count": null,
      "outputs": [
        {
          "output_type": "stream",
          "name": "stderr",
          "text": [
            "Warning: less than 75% gpu memory available for training. Free: 6249.0625 Total: 15102.0625\n"
          ]
        },
        {
          "output_type": "stream",
          "name": "stdout",
          "text": [
            "              precision    recall  f1-score   support\n",
            "\n",
            "           0       0.67      0.59      0.63      2639\n",
            "           1       0.72      0.68      0.70      2625\n",
            "           2       0.69      0.81      0.75      6106\n",
            "           3       0.82      0.68      0.75      3746\n",
            "           4       0.83      0.90      0.86      3844\n",
            "           5       0.75      0.69      0.72      3998\n",
            "           6       0.70      0.52      0.59      2239\n",
            "           7       0.72      0.76      0.74      1912\n",
            "           8       0.72      0.53      0.61      2758\n",
            "           9       0.64      0.72      0.68      1919\n",
            "\n",
            "   micro avg       0.73      0.71      0.72     31786\n",
            "   macro avg       0.73      0.69      0.70     31786\n",
            "weighted avg       0.73      0.71      0.72     31786\n",
            " samples avg       0.71      0.71      0.68     31786\n",
            "\n",
            "Elapsed time: 1m 10s\n"
          ]
        }
      ]
    },
    {
      "cell_type": "markdown",
      "source": [
        "### Text Catboost"
      ],
      "metadata": {
        "id": "IUcrZWqMlWHj"
      }
    },
    {
      "cell_type": "code",
      "source": [
        "X = df.drop(columns=['ICD9-CODE'])\n",
        "X['MED_SYMPTOMS'] = X['MED_SYMPTOMS'].apply(', '.join)\n",
        "y = pd.DataFrame.sparse.from_spmatrix(\n",
        "                mlb.fit_transform(dfonehot['ICD9-CODE']),\n",
        "                index=df.index,\n",
        "                columns=mlb.classes_).to_numpy()\n",
        "\n",
        "X_train, X_val, y_train, y_val = train_test_split(\n",
        "    X, y, test_size=0.3, random_state=42)\n",
        "\n",
        "X_train"
      ],
      "metadata": {
        "colab": {
          "base_uri": "https://localhost:8080/",
          "height": 423
        },
        "id": "CMcUX2brlelM",
        "outputId": "2cf6263c-1432-4cef-faba-83aed5870175"
      },
      "execution_count": null,
      "outputs": [
        {
          "output_type": "execute_result",
          "data": {
            "text/plain": [
              "                                            MED_SYMPTOMS  NUM_NOTES\n",
              "19077  Pneumothorax, Symptoms, Diabetes Mellitus, Ins...          9\n",
              "10982  Knee pain, Tricuspid Valve Insufficiency, Righ...         33\n",
              "30893  Sleep Apnea Syndromes, Symptoms, Hyperlipidemi...         10\n",
              "4097   Cardiac chamber structure, Anterior descending...         32\n",
              "7708   Pneumothorax, Disease Progression, Chest Pain,...          7\n",
              "...                                                  ...        ...\n",
              "6265   Cor pulmonale, Cardiac chamber structure, Tric...         14\n",
              "11284  Pneumothorax, Human Remains, Anterior descendi...         15\n",
              "38158  Pneumothorax, back discomfort, Chest Pain, Hyp...         18\n",
              "860    Cor pulmonale, Complication, infection, Cardia...        104\n",
              "15795  Cardiac chamber structure, Huntington Disease,...        119\n",
              "\n",
              "[29075 rows x 2 columns]"
            ],
            "text/html": [
              "\n",
              "  <div id=\"df-d1cb6a9f-751a-475a-ac42-21b7c4fbbe9f\" class=\"colab-df-container\">\n",
              "    <div>\n",
              "<style scoped>\n",
              "    .dataframe tbody tr th:only-of-type {\n",
              "        vertical-align: middle;\n",
              "    }\n",
              "\n",
              "    .dataframe tbody tr th {\n",
              "        vertical-align: top;\n",
              "    }\n",
              "\n",
              "    .dataframe thead th {\n",
              "        text-align: right;\n",
              "    }\n",
              "</style>\n",
              "<table border=\"1\" class=\"dataframe\">\n",
              "  <thead>\n",
              "    <tr style=\"text-align: right;\">\n",
              "      <th></th>\n",
              "      <th>MED_SYMPTOMS</th>\n",
              "      <th>NUM_NOTES</th>\n",
              "    </tr>\n",
              "  </thead>\n",
              "  <tbody>\n",
              "    <tr>\n",
              "      <th>19077</th>\n",
              "      <td>Pneumothorax, Symptoms, Diabetes Mellitus, Ins...</td>\n",
              "      <td>9</td>\n",
              "    </tr>\n",
              "    <tr>\n",
              "      <th>10982</th>\n",
              "      <td>Knee pain, Tricuspid Valve Insufficiency, Righ...</td>\n",
              "      <td>33</td>\n",
              "    </tr>\n",
              "    <tr>\n",
              "      <th>30893</th>\n",
              "      <td>Sleep Apnea Syndromes, Symptoms, Hyperlipidemi...</td>\n",
              "      <td>10</td>\n",
              "    </tr>\n",
              "    <tr>\n",
              "      <th>4097</th>\n",
              "      <td>Cardiac chamber structure, Anterior descending...</td>\n",
              "      <td>32</td>\n",
              "    </tr>\n",
              "    <tr>\n",
              "      <th>7708</th>\n",
              "      <td>Pneumothorax, Disease Progression, Chest Pain,...</td>\n",
              "      <td>7</td>\n",
              "    </tr>\n",
              "    <tr>\n",
              "      <th>...</th>\n",
              "      <td>...</td>\n",
              "      <td>...</td>\n",
              "    </tr>\n",
              "    <tr>\n",
              "      <th>6265</th>\n",
              "      <td>Cor pulmonale, Cardiac chamber structure, Tric...</td>\n",
              "      <td>14</td>\n",
              "    </tr>\n",
              "    <tr>\n",
              "      <th>11284</th>\n",
              "      <td>Pneumothorax, Human Remains, Anterior descendi...</td>\n",
              "      <td>15</td>\n",
              "    </tr>\n",
              "    <tr>\n",
              "      <th>38158</th>\n",
              "      <td>Pneumothorax, back discomfort, Chest Pain, Hyp...</td>\n",
              "      <td>18</td>\n",
              "    </tr>\n",
              "    <tr>\n",
              "      <th>860</th>\n",
              "      <td>Cor pulmonale, Complication, infection, Cardia...</td>\n",
              "      <td>104</td>\n",
              "    </tr>\n",
              "    <tr>\n",
              "      <th>15795</th>\n",
              "      <td>Cardiac chamber structure, Huntington Disease,...</td>\n",
              "      <td>119</td>\n",
              "    </tr>\n",
              "  </tbody>\n",
              "</table>\n",
              "<p>29075 rows × 2 columns</p>\n",
              "</div>\n",
              "    <div class=\"colab-df-buttons\">\n",
              "\n",
              "  <div class=\"colab-df-container\">\n",
              "    <button class=\"colab-df-convert\" onclick=\"convertToInteractive('df-d1cb6a9f-751a-475a-ac42-21b7c4fbbe9f')\"\n",
              "            title=\"Convert this dataframe to an interactive table.\"\n",
              "            style=\"display:none;\">\n",
              "\n",
              "  <svg xmlns=\"http://www.w3.org/2000/svg\" height=\"24px\" viewBox=\"0 -960 960 960\">\n",
              "    <path d=\"M120-120v-720h720v720H120Zm60-500h600v-160H180v160Zm220 220h160v-160H400v160Zm0 220h160v-160H400v160ZM180-400h160v-160H180v160Zm440 0h160v-160H620v160ZM180-180h160v-160H180v160Zm440 0h160v-160H620v160Z\"/>\n",
              "  </svg>\n",
              "    </button>\n",
              "\n",
              "  <style>\n",
              "    .colab-df-container {\n",
              "      display:flex;\n",
              "      gap: 12px;\n",
              "    }\n",
              "\n",
              "    .colab-df-convert {\n",
              "      background-color: #E8F0FE;\n",
              "      border: none;\n",
              "      border-radius: 50%;\n",
              "      cursor: pointer;\n",
              "      display: none;\n",
              "      fill: #1967D2;\n",
              "      height: 32px;\n",
              "      padding: 0 0 0 0;\n",
              "      width: 32px;\n",
              "    }\n",
              "\n",
              "    .colab-df-convert:hover {\n",
              "      background-color: #E2EBFA;\n",
              "      box-shadow: 0px 1px 2px rgba(60, 64, 67, 0.3), 0px 1px 3px 1px rgba(60, 64, 67, 0.15);\n",
              "      fill: #174EA6;\n",
              "    }\n",
              "\n",
              "    .colab-df-buttons div {\n",
              "      margin-bottom: 4px;\n",
              "    }\n",
              "\n",
              "    [theme=dark] .colab-df-convert {\n",
              "      background-color: #3B4455;\n",
              "      fill: #D2E3FC;\n",
              "    }\n",
              "\n",
              "    [theme=dark] .colab-df-convert:hover {\n",
              "      background-color: #434B5C;\n",
              "      box-shadow: 0px 1px 3px 1px rgba(0, 0, 0, 0.15);\n",
              "      filter: drop-shadow(0px 1px 2px rgba(0, 0, 0, 0.3));\n",
              "      fill: #FFFFFF;\n",
              "    }\n",
              "  </style>\n",
              "\n",
              "    <script>\n",
              "      const buttonEl =\n",
              "        document.querySelector('#df-d1cb6a9f-751a-475a-ac42-21b7c4fbbe9f button.colab-df-convert');\n",
              "      buttonEl.style.display =\n",
              "        google.colab.kernel.accessAllowed ? 'block' : 'none';\n",
              "\n",
              "      async function convertToInteractive(key) {\n",
              "        const element = document.querySelector('#df-d1cb6a9f-751a-475a-ac42-21b7c4fbbe9f');\n",
              "        const dataTable =\n",
              "          await google.colab.kernel.invokeFunction('convertToInteractive',\n",
              "                                                    [key], {});\n",
              "        if (!dataTable) return;\n",
              "\n",
              "        const docLinkHtml = 'Like what you see? Visit the ' +\n",
              "          '<a target=\"_blank\" href=https://colab.research.google.com/notebooks/data_table.ipynb>data table notebook</a>'\n",
              "          + ' to learn more about interactive tables.';\n",
              "        element.innerHTML = '';\n",
              "        dataTable['output_type'] = 'display_data';\n",
              "        await google.colab.output.renderOutput(dataTable, element);\n",
              "        const docLink = document.createElement('div');\n",
              "        docLink.innerHTML = docLinkHtml;\n",
              "        element.appendChild(docLink);\n",
              "      }\n",
              "    </script>\n",
              "  </div>\n",
              "\n",
              "\n",
              "<div id=\"df-567450e8-9799-4f73-9127-0867432f06fa\">\n",
              "  <button class=\"colab-df-quickchart\" onclick=\"quickchart('df-567450e8-9799-4f73-9127-0867432f06fa')\"\n",
              "            title=\"Suggest charts\"\n",
              "            style=\"display:none;\">\n",
              "\n",
              "<svg xmlns=\"http://www.w3.org/2000/svg\" height=\"24px\"viewBox=\"0 0 24 24\"\n",
              "     width=\"24px\">\n",
              "    <g>\n",
              "        <path d=\"M19 3H5c-1.1 0-2 .9-2 2v14c0 1.1.9 2 2 2h14c1.1 0 2-.9 2-2V5c0-1.1-.9-2-2-2zM9 17H7v-7h2v7zm4 0h-2V7h2v10zm4 0h-2v-4h2v4z\"/>\n",
              "    </g>\n",
              "</svg>\n",
              "  </button>\n",
              "\n",
              "<style>\n",
              "  .colab-df-quickchart {\n",
              "      --bg-color: #E8F0FE;\n",
              "      --fill-color: #1967D2;\n",
              "      --hover-bg-color: #E2EBFA;\n",
              "      --hover-fill-color: #174EA6;\n",
              "      --disabled-fill-color: #AAA;\n",
              "      --disabled-bg-color: #DDD;\n",
              "  }\n",
              "\n",
              "  [theme=dark] .colab-df-quickchart {\n",
              "      --bg-color: #3B4455;\n",
              "      --fill-color: #D2E3FC;\n",
              "      --hover-bg-color: #434B5C;\n",
              "      --hover-fill-color: #FFFFFF;\n",
              "      --disabled-bg-color: #3B4455;\n",
              "      --disabled-fill-color: #666;\n",
              "  }\n",
              "\n",
              "  .colab-df-quickchart {\n",
              "    background-color: var(--bg-color);\n",
              "    border: none;\n",
              "    border-radius: 50%;\n",
              "    cursor: pointer;\n",
              "    display: none;\n",
              "    fill: var(--fill-color);\n",
              "    height: 32px;\n",
              "    padding: 0;\n",
              "    width: 32px;\n",
              "  }\n",
              "\n",
              "  .colab-df-quickchart:hover {\n",
              "    background-color: var(--hover-bg-color);\n",
              "    box-shadow: 0 1px 2px rgba(60, 64, 67, 0.3), 0 1px 3px 1px rgba(60, 64, 67, 0.15);\n",
              "    fill: var(--button-hover-fill-color);\n",
              "  }\n",
              "\n",
              "  .colab-df-quickchart-complete:disabled,\n",
              "  .colab-df-quickchart-complete:disabled:hover {\n",
              "    background-color: var(--disabled-bg-color);\n",
              "    fill: var(--disabled-fill-color);\n",
              "    box-shadow: none;\n",
              "  }\n",
              "\n",
              "  .colab-df-spinner {\n",
              "    border: 2px solid var(--fill-color);\n",
              "    border-color: transparent;\n",
              "    border-bottom-color: var(--fill-color);\n",
              "    animation:\n",
              "      spin 1s steps(1) infinite;\n",
              "  }\n",
              "\n",
              "  @keyframes spin {\n",
              "    0% {\n",
              "      border-color: transparent;\n",
              "      border-bottom-color: var(--fill-color);\n",
              "      border-left-color: var(--fill-color);\n",
              "    }\n",
              "    20% {\n",
              "      border-color: transparent;\n",
              "      border-left-color: var(--fill-color);\n",
              "      border-top-color: var(--fill-color);\n",
              "    }\n",
              "    30% {\n",
              "      border-color: transparent;\n",
              "      border-left-color: var(--fill-color);\n",
              "      border-top-color: var(--fill-color);\n",
              "      border-right-color: var(--fill-color);\n",
              "    }\n",
              "    40% {\n",
              "      border-color: transparent;\n",
              "      border-right-color: var(--fill-color);\n",
              "      border-top-color: var(--fill-color);\n",
              "    }\n",
              "    60% {\n",
              "      border-color: transparent;\n",
              "      border-right-color: var(--fill-color);\n",
              "    }\n",
              "    80% {\n",
              "      border-color: transparent;\n",
              "      border-right-color: var(--fill-color);\n",
              "      border-bottom-color: var(--fill-color);\n",
              "    }\n",
              "    90% {\n",
              "      border-color: transparent;\n",
              "      border-bottom-color: var(--fill-color);\n",
              "    }\n",
              "  }\n",
              "</style>\n",
              "\n",
              "  <script>\n",
              "    async function quickchart(key) {\n",
              "      const quickchartButtonEl =\n",
              "        document.querySelector('#' + key + ' button');\n",
              "      quickchartButtonEl.disabled = true;  // To prevent multiple clicks.\n",
              "      quickchartButtonEl.classList.add('colab-df-spinner');\n",
              "      try {\n",
              "        const charts = await google.colab.kernel.invokeFunction(\n",
              "            'suggestCharts', [key], {});\n",
              "      } catch (error) {\n",
              "        console.error('Error during call to suggestCharts:', error);\n",
              "      }\n",
              "      quickchartButtonEl.classList.remove('colab-df-spinner');\n",
              "      quickchartButtonEl.classList.add('colab-df-quickchart-complete');\n",
              "    }\n",
              "    (() => {\n",
              "      let quickchartButtonEl =\n",
              "        document.querySelector('#df-567450e8-9799-4f73-9127-0867432f06fa button');\n",
              "      quickchartButtonEl.style.display =\n",
              "        google.colab.kernel.accessAllowed ? 'block' : 'none';\n",
              "    })();\n",
              "  </script>\n",
              "</div>\n",
              "\n",
              "  <div id=\"id_cd1c1ce5-667e-410a-b191-a12531016b58\">\n",
              "    <style>\n",
              "      .colab-df-generate {\n",
              "        background-color: #E8F0FE;\n",
              "        border: none;\n",
              "        border-radius: 50%;\n",
              "        cursor: pointer;\n",
              "        display: none;\n",
              "        fill: #1967D2;\n",
              "        height: 32px;\n",
              "        padding: 0 0 0 0;\n",
              "        width: 32px;\n",
              "      }\n",
              "\n",
              "      .colab-df-generate:hover {\n",
              "        background-color: #E2EBFA;\n",
              "        box-shadow: 0px 1px 2px rgba(60, 64, 67, 0.3), 0px 1px 3px 1px rgba(60, 64, 67, 0.15);\n",
              "        fill: #174EA6;\n",
              "      }\n",
              "\n",
              "      [theme=dark] .colab-df-generate {\n",
              "        background-color: #3B4455;\n",
              "        fill: #D2E3FC;\n",
              "      }\n",
              "\n",
              "      [theme=dark] .colab-df-generate:hover {\n",
              "        background-color: #434B5C;\n",
              "        box-shadow: 0px 1px 3px 1px rgba(0, 0, 0, 0.15);\n",
              "        filter: drop-shadow(0px 1px 2px rgba(0, 0, 0, 0.3));\n",
              "        fill: #FFFFFF;\n",
              "      }\n",
              "    </style>\n",
              "    <button class=\"colab-df-generate\" onclick=\"generateWithVariable('X_train')\"\n",
              "            title=\"Generate code using this dataframe.\"\n",
              "            style=\"display:none;\">\n",
              "\n",
              "  <svg xmlns=\"http://www.w3.org/2000/svg\" height=\"24px\"viewBox=\"0 0 24 24\"\n",
              "       width=\"24px\">\n",
              "    <path d=\"M7,19H8.4L18.45,9,17,7.55,7,17.6ZM5,21V16.75L18.45,3.32a2,2,0,0,1,2.83,0l1.4,1.43a1.91,1.91,0,0,1,.58,1.4,1.91,1.91,0,0,1-.58,1.4L9.25,21ZM18.45,9,17,7.55Zm-12,3A5.31,5.31,0,0,0,4.9,8.1,5.31,5.31,0,0,0,1,6.5,5.31,5.31,0,0,0,4.9,4.9,5.31,5.31,0,0,0,6.5,1,5.31,5.31,0,0,0,8.1,4.9,5.31,5.31,0,0,0,12,6.5,5.46,5.46,0,0,0,6.5,12Z\"/>\n",
              "  </svg>\n",
              "    </button>\n",
              "    <script>\n",
              "      (() => {\n",
              "      const buttonEl =\n",
              "        document.querySelector('#id_cd1c1ce5-667e-410a-b191-a12531016b58 button.colab-df-generate');\n",
              "      buttonEl.style.display =\n",
              "        google.colab.kernel.accessAllowed ? 'block' : 'none';\n",
              "\n",
              "      buttonEl.onclick = () => {\n",
              "        google.colab.notebook.generateWithVariable('X_train');\n",
              "      }\n",
              "      })();\n",
              "    </script>\n",
              "  </div>\n",
              "\n",
              "    </div>\n",
              "  </div>\n"
            ],
            "application/vnd.google.colaboratory.intrinsic+json": {
              "type": "dataframe",
              "variable_name": "X_train",
              "summary": "{\n  \"name\": \"X_train\",\n  \"rows\": 29075,\n  \"fields\": [\n    {\n      \"column\": \"MED_SYMPTOMS\",\n      \"properties\": {\n        \"dtype\": \"string\",\n        \"num_unique_values\": 29067,\n        \"samples\": [\n          \"Cardiac chamber structure, Tricuspid Valve Insufficiency, Blood Coagulation Disorders, Right ventricular segment, Blood Clot, Myasthenia Gravis, Rectum, Right temporal lobe structure, Heart, Aorta, Mitral Valve Insufficiency, Fever, Neck Pain, Constipation, Diabetes Mellitus, [D]Dysuria, Organ, diaphragmatic excursion, Wheezing, Morbid Obesities, NASH - Nonalcoholic steatohepatitis, Seizures, Aortic Valve Insufficiency, Dentition, Headache, Pleural effusion disorder, Cervical spine, Pericardial sac structure, Peripheral Neuropathy, Obesity, Signs and Symptoms, Anemia, Esophagus, Pneumothorax, Thyroid Diseases, Shock, Lymphadenopathy, Gestational thyrotoxicosis, Pathological Dilatation, Hemophilia A, Shoulder Pain, conjunctiva, Hemorrhage, Bile duct structure, Tachycardia, Ventricular, Abnormality of subcortical white matter, Veins, Hyperglycemia, Gallbladder, Deep Vein Thrombosis, Left Ventricular Hypertrophy, Pulmonary aspiration, physical stress, Atelectasis, Chronic pain, Pylorus, Pneumonia, Lung, Jaundice, Obstructive, Hypertensive disease, Arteries, Complication, Diabetic Retinopathy, brain dead, Pulmonary artery structure, Tooth structure, Apical Periodontitides, Dizziness, Abdominal Pain, Intrahepatic bile duct, Dyspnea, Loose stool, Respiratory Diaphragm, Primary bacterial peritonitis, Spleen, Pericardial effusion, Fatigue, Symptoms, Chest Pain, Diabetes Mellitus, Insulin-Dependent, Bradycardia, Coughing, Physiological Stress, Corpus striatum structure, Disease, Stomach, Ear structure, Hypoxia, Fatty Liver, Nonalcoholic, Pneumonia, Ventilator Associated, Bleeding, Gastrointestinal, critical illness, Cardiovascular Diseases, Respiratory Failure, Inferior vena cava structure, Nose, Cyst, Blood Vessel, Exanthema, Duodenum, Illness (finding), Edema, Throat, Pupil, Hypersensitivity, Vomiting, bleeding varices, Liver diseases, Acute myocardial infarction during procedure, Hepatic artery, Numbness, Diarrhea, Cardiac Arrest, Daytime somnolence, Upper gastrointestinal hemorrhage, Cirrhosis, Left atrial structure, Haemodynamic instability, Nausea, Eye, Leukocytosis, Asthma, Liver, Structure of hepatic vein, All extremities, Hematoma, cardiovascular factor risk, Acidosis, Airway structure, joints tender, Pain, Muscular Atrophy, Right ventricular structure, Diabetes Mellitus, Non-Insulin-Dependent, Acute onset pain, incisional infection, Consumption, Pulmonary, Femoral vein, Myocardial Infarction, Liver Cirrhosis, Sore to touch, Sleep Apnea, Obstructive, Body part, Respiratory Distress Syndrome, Adult, Encephalopathies, Thrombocytopenia, Biliary tract structure, Fluid overload\",\n          \"Atheroma, Pneumothorax, Pericardial effusion, cardiac tamponade, Pulmonary veins, Cardiac chamber structure, Tricuspid Valve Insufficiency, Hypercholesterolemia, Right atrial structure, Coughing, Left ventricular structure, Adverse reactions, Gestational thyrotoxicosis, Left atrial structure, Right ventricular segment, Disease, Kidney Diseases, Nausea, Coronary artery, Coronary artery disease, premature, Aortic Aneurysm, Varicosity, Thoracic aorta, Hemorrhage, Asthma, Lower Extremity, Aortic Valve Stenosis, Hematoma, Left Ventricular Hypertrophy, Carotid Arteries, Persistent asthma, Hand, Atelectasis, Heart, Aorta, Neuropathy, Mitral Valve, Mitral Valve Insufficiency, Illness (finding), Edema, Signs and Symptoms, pathological disorder, Diabetes Mellitus, Congestive heart failure, Aortic arch structure, Lung, Pain, Rheumatoid Arthritis, Wheezing, Right ventricular structure, Hypertensive disease, Aortic Valve Insufficiency, Heart Septum, Complication, Infection, Structure of levator scapulae muscle, Left ventricle basal anterior segment, Lupus Erythematosus, Systemic, Diabetic Retinopathy, Pulmonary artery structure, Pleural effusion disorder, Apical Periodontitides, Body part, Dyspnea, Pericardial sac structure, Left lung, Respiratory Diaphragm, Obesity, Anemia, Primary bacterial peritonitis\",\n          \"Cardiac chamber structure, Tricuspid Valve Insufficiency, Right ventricular segment, Kidney Diseases, Myasthenia Gravis, Thoracic aorta, Left Ventricular Outflow Tract, Upper Extremity, Nail plate, SFA - Superficial femoral artery, Heart, Aorta, Mitral Valve Insufficiency, Fever, Atrial Fibrillation, Diabetes Mellitus, diaphragmatic excursion, Wheezing, Aortic Valve Insufficiency, Pleural effusion disorder, Diabetes, Aspiration Pneumonia, Pericardial sac structure, Peripheral Neuropathy, Patella, Osteomyelitis, Pneumothorax, Endocarditis, Chronic Kidney Diseases, Obstruction, Right Ventricular Hypertrophy, Hemorrhage, Abnormality of subcortical white matter, Veins, Urinary Bladder, Deep Vein Thrombosis, Left Ventricular Hypertrophy, Pulmonary aspiration, Lung, Abnormality of renal physiology, Hypertensive disease, Infection, Diabetic Retinopathy, Apical Periodontitides, Abdominal Pain, Disease Progression, Pericardial effusion, Diabetes Mellitus, Insulin-Dependent, Left ventricular structure, Disease, Aortic Aneurysm, Stomach, Vertebral column, Hypoxia, Hypothyroidism, Intestines, Small, Bleeding, Gastrointestinal, Structure of cortex of kidney, Respiratory Failure, Thrombus, Pseudomonas aeruginosa infection, Illness (finding), Edema, Pelvis, Hypersensitivity, Aortic valve disorder, Vomiting, Back Pain, Heart Septum, Heart valve disease, Pharyngeal structure, artery pulmonary, Acute myocardial infarction during procedure, Dens incisivus, Diarrhea, Flank Pain, Conn Syndrome, Kidney, Right atrial structure, Skeletal bone, Left atrial structure, Haemodynamic instability, Nausea and vomiting, Nausea, Intestines, Heart Block, Alveolar wall, Abscess, hydronephroses, Bacteremia, Myocardial Diseases, Secondary, Hematoma, Atherosclerosis artery, Congestive heart failure, Pain, Right ventricular structure, Limb structure, Forearm, Kidney Failure, Chronic, Actual Discomfort, Myocardial Infarction, Left Atrial Appendage, Communicable Diseases, Renal parenchyma\"\n        ],\n        \"semantic_type\": \"\",\n        \"description\": \"\"\n      }\n    },\n    {\n      \"column\": \"NUM_NOTES\",\n      \"properties\": {\n        \"dtype\": \"number\",\n        \"std\": 51,\n        \"min\": 1,\n        \"max\": 1233,\n        \"num_unique_values\": 424,\n        \"samples\": [\n          146,\n          232,\n          121\n        ],\n        \"semantic_type\": \"\",\n        \"description\": \"\"\n      }\n    }\n  ]\n}"
            }
          },
          "metadata": {},
          "execution_count": 304
        }
      ]
    },
    {
      "cell_type": "code",
      "source": [
        "clf = CatBoostClassifier(random_state=179,\n",
        "                         text_features=['MED_SYMPTOMS'],\n",
        "                         loss_function='MultiLogloss',\n",
        "                         task_type=\"GPU\",\n",
        "                         verbose=False,)\n",
        "\n",
        "start = time.time()\n",
        "clf.fit(X_train, y_train)\n",
        "y_guess = clf.predict(X_val)\n",
        "\n",
        "results.append(score_model(y_val, y_guess, 'Catboost, Text Feats'))\n",
        "print('Elapsed time: %s' %(string_time(time.time() - start)))"
      ],
      "metadata": {
        "colab": {
          "base_uri": "https://localhost:8080/"
        },
        "id": "owIn-4sOlXrN",
        "outputId": "b9bf4ea4-53ff-47bb-f56d-a1a34e62d893"
      },
      "execution_count": null,
      "outputs": [
        {
          "output_type": "stream",
          "name": "stderr",
          "text": [
            "Warning: less than 75% gpu memory available for training. Free: 6249.0625 Total: 15102.0625\n"
          ]
        },
        {
          "output_type": "stream",
          "name": "stdout",
          "text": [
            "              precision    recall  f1-score   support\n",
            "\n",
            "           0       0.68      0.45      0.54      2639\n",
            "           1       0.71      0.67      0.69      2625\n",
            "           2       0.70      0.78      0.74      6106\n",
            "           3       0.82      0.67      0.74      3746\n",
            "           4       0.83      0.90      0.86      3844\n",
            "           5       0.75      0.69      0.72      3998\n",
            "           6       0.67      0.51      0.58      2239\n",
            "           7       0.72      0.77      0.74      1912\n",
            "           8       0.72      0.53      0.61      2758\n",
            "           9       0.64      0.74      0.69      1919\n",
            "\n",
            "   micro avg       0.73      0.69      0.71     31786\n",
            "   macro avg       0.72      0.67      0.69     31786\n",
            "weighted avg       0.73      0.69      0.70     31786\n",
            " samples avg       0.71      0.70      0.67     31786\n",
            "\n",
            "Elapsed time: 1m 54s\n"
          ]
        }
      ]
    },
    {
      "cell_type": "markdown",
      "source": [
        "## DL Models"
      ],
      "metadata": {
        "id": "CMsf3BUdFhFY"
      }
    },
    {
      "cell_type": "markdown",
      "source": [
        "### Prepare Data for Training"
      ],
      "metadata": {
        "id": "nzf20JmiC-51"
      }
    },
    {
      "cell_type": "code",
      "execution_count": null,
      "metadata": {
        "colab": {
          "base_uri": "https://localhost:8080/",
          "height": 140
        },
        "id": "6gwFDCDsD4cA",
        "outputId": "6e9d34e6-2b51-44ce-c6f0-af94ec844c7c"
      },
      "outputs": [
        {
          "output_type": "execute_result",
          "data": {
            "text/plain": [
              "\"['Cardiac chamber structure', 'Body of vertebra', 'Tricuspid Valve Insufficiency', 'Brain', 'Right ventricular segment', 'Cardiomyopathies', 'Myasthenia Gravis', 'frontal lobe', 'Uterus', 'Hip structure', 'Malnutrition', 'Chronic constipation', 'Heart', 'Aorta', 'Corpus striatum ventrale', 'Mitral Valve Insufficiency', 'Fever', 'Constipation', 'Atrial Fibrillation', 'Wheezing', 'Dehydration', 'Aortic Valve Insufficiency', 'Peripheral Arterial Diseases', 'anatomical layer', 'Pleural effusion disorder', 'Bone structure of sacrum', 'Aspiration Pneumonia', 'Pericardial sac structure', 'Signs and Symptoms', 'Dermatitis', 'Anemia', 'lymph nodes', 'Malaise', 'Pneumothorax', 'Heart failure', 'Endocarditis', 'Lymphadenopathy', 'Cellulitis', 'Pulmonary Embolism', 'Hemorrhage', 'Thoracic spine structure', 'Gallbladder', 'Pancreas', 'Urinary Bladder', 'Deep Vein Thrombosis', 'Left Ventricular Hypertrophy', 'diseases granulomatous', 'Hand', 'Atelectasis', 'Infectious disease of lung', 'Mitral Valve', 'Pulmonary aspiration', 'lobe', 'Pneumonia', 'Lung', 'Cholelithiasis', 'Parietal Lobe', 'Right kidney', 'Hypertensive disease', 'Complication', 'Infection', 'Left kidney', 'Ischemia', 'Diabetic Retinopathy', 'Left temporal lobe structure', 'Pulmonary artery structure', 'Right colon', 'Apical Periodontitides', 'Dyspnea', 'Spleen', 'Pulmonary Hypertension', 'Pericardial effusion', 'Iron deficiency', 'Occipital lobe', 'Cortex of bone', 'meningitides', 'Chest Pain', 'Leg', 'Left ventricular structure', 'Coughing', 'Disease', 'Degenerative polyarthritis', 'Aortic Aneurysm', 'Ear structure', 'Vertebral column', 'Stomach', 'Structure of upper lobe of lung', 'Intestines, Small', 'Cardiovascular Diseases', 'Respiratory Failure', 'Chronic venous insufficiency', 'Nose', 'Myocardial Ischemia', 'Cyst', 'Blood Vessel', 'Multiple Sclerosis', 'Illness (finding)', 'Edema', 'Throat', 'Arthralgia (hip)', 'Osteoporosis', 'Pelvis', 'Pupil', 'Hypersensitivity', 'Aortic valve disorder', 'Infarction', 'Appendix', 'Tuberculosis, Spinal', 'Ulcerative Colitis', 'Heart Septum', 'Vasculitis', 'Thickening of pleura', 'artery pulmonary', 'Hypertension, systolic', 'Left lung', 'Kidney', 'Right atrial structure', 'Skeletal bone', 'Hypoventilation', 'Haemodynamic instability', 'Left atrial structure', 'Eye', 'Left Bundle-Branch Block', 'body upper', 'Structure of profunda femoris artery', 'Structure of lobe of lung', 'Alveolar wall', 'Abscess', 'Lower Extremity', 'Liver', 'CALCIUM BLOOD INCREASED', 'All extremities', 'Acidosis', 'Airway structure', 'Congestive heart failure', 'Adrenal Glands', 'Pain', 'Infective endocarditis', 'Right ventricular structure', 'parenchyma', 'Consumption, Pulmonary', 'Bronchioles', 'Myocardial Infarction', 'Sore to touch', 'Body part', 'Communicable Diseases', 'Bleeding, Intracranial', 'Cerebrovascular accident', 'Tuberculosis', 'acute infection']\""
            ],
            "application/vnd.google.colaboratory.intrinsic+json": {
              "type": "string"
            }
          },
          "metadata": {},
          "execution_count": 221
        }
      ],
      "source": [
        "# one example for input features\n",
        "mimic = pd.read_csv('mimiciii-top10.csv')\n",
        "mimic['MED_SYMPTOMS'][0]"
      ]
    },
    {
      "cell_type": "code",
      "source": [
        "results[0].keys()"
      ],
      "metadata": {
        "colab": {
          "base_uri": "https://localhost:8080/"
        },
        "id": "wiund2ChWZ86",
        "outputId": "73cf602e-3dce-4162-b044-c5ebedbbc9dc"
      },
      "execution_count": null,
      "outputs": [
        {
          "output_type": "execute_result",
          "data": {
            "text/plain": [
              "dict_keys(['0', '1', '2', '3', '4', '5', '6', '7', '8', '9', 'micro avg', 'macro avg', 'weighted avg', 'samples avg', 'correct', 'name'])"
            ]
          },
          "metadata": {},
          "execution_count": 222
        }
      ]
    },
    {
      "cell_type": "code",
      "execution_count": null,
      "metadata": {
        "id": "7AdS-6AXD4cB"
      },
      "outputs": [],
      "source": [
        "MED_SYMPTOMS = string2list(mimic, 'MED_SYMPTOMS')\n",
        "SYMPTOMS_unique = set([num for ppl in MED_SYMPTOMS for num in ppl])\n",
        "icd9 = string2list(mimic, 'ICD9-CODE')\n",
        "icd9_unique = set([num for ppl in icd9 for num in ppl])"
      ]
    },
    {
      "cell_type": "code",
      "execution_count": null,
      "metadata": {
        "id": "ZEjXaIEKD4cB"
      },
      "outputs": [],
      "source": [
        "vocabulary = list(SYMPTOMS_unique)"
      ]
    },
    {
      "cell_type": "code",
      "execution_count": null,
      "metadata": {
        "colab": {
          "base_uri": "https://localhost:8080/",
          "height": 49,
          "referenced_widgets": [
            "cd7b603e9d6c439fb4b4d8143461d810",
            "6de33bf917384b53a7f185bfa9800c3f",
            "7606dac6f252466c87d4b832a7653f0e",
            "bf50bdea10b14e719587641599c4ef57",
            "4b691183708c4d0f80fdc40e709c7c94",
            "2c9c5fae4fa648bebaf2cf89b3c526a5",
            "412c3265e1104b699c2268d4cfdd7d49",
            "28ea1131ecb848929b2ef5622647cbe6",
            "c2bd33dfaf6944cfba41d83284bb48e6",
            "3cc3297f93974b77afa37609cdfe2c6e",
            "590a711ed7fa4adb8921d1921de07652"
          ]
        },
        "id": "U9XDEUnjD4cB",
        "outputId": "a9f26ba1-0772-44ad-887f-049cd9bac3d3"
      },
      "outputs": [
        {
          "output_type": "display_data",
          "data": {
            "text/plain": [
              "  0%|          | 0/41536 [00:00<?, ?it/s]"
            ],
            "application/vnd.jupyter.widget-view+json": {
              "version_major": 2,
              "version_minor": 0,
              "model_id": "cd7b603e9d6c439fb4b4d8143461d810"
            }
          },
          "metadata": {}
        }
      ],
      "source": [
        "for i in tqdm(range(0, len(MED_SYMPTOMS))):\n",
        "    for x in range(0, len(MED_SYMPTOMS[i])):\n",
        "        index = vocabulary.index(MED_SYMPTOMS[i][x])\n",
        "        MED_SYMPTOMS[i][x] = index"
      ]
    },
    {
      "cell_type": "code",
      "execution_count": null,
      "metadata": {
        "id": "5xAINAMHD4cB"
      },
      "outputs": [],
      "source": [
        "terms = tf.ragged.constant(icd9)\n",
        "lookup = tf.keras.layers.StringLookup(output_mode=\"multi_hot\")\n",
        "lookup.adapt(terms)\n",
        "vocab = lookup.get_vocabulary()"
      ]
    },
    {
      "cell_type": "code",
      "execution_count": null,
      "metadata": {
        "colab": {
          "base_uri": "https://localhost:8080/"
        },
        "id": "hLLrAOkcD4cB",
        "outputId": "93b3fd26-81ea-4955-c5d0-f431004c6525"
      },
      "outputs": [
        {
          "output_type": "stream",
          "name": "stdout",
          "text": [
            "Vocabulary:\n",
            "\n",
            "['[UNK]', '4019', '4280', '42731', '41401', '5849', '25000', '2724', '51881', '5990', '53081']\n"
          ]
        }
      ],
      "source": [
        "def invert_multi_hot(encoded_labels):\n",
        "    \"\"\"Reverse a single multi-hot encoded label to a tuple of vocab terms.\"\"\"\n",
        "    hot_indices = np.argwhere(encoded_labels == 1.0)[..., 0]\n",
        "    return np.take(vocab, hot_indices)\n",
        "\n",
        "print(\"Vocabulary:\\n\")\n",
        "print(vocab)"
      ]
    },
    {
      "cell_type": "code",
      "execution_count": null,
      "metadata": {
        "colab": {
          "base_uri": "https://localhost:8080/"
        },
        "id": "BS-oE8wRD4cB",
        "outputId": "2086365a-032a-43b7-a028-c5968851e6fd"
      },
      "outputs": [
        {
          "output_type": "stream",
          "name": "stdout",
          "text": [
            "Label-binarized representation: (41536, 10)\n"
          ]
        }
      ],
      "source": [
        "label_binarized = lookup(terms)[:, 1:]\n",
        "print(f\"Label-binarized representation: {label_binarized.shape}\")"
      ]
    },
    {
      "cell_type": "code",
      "execution_count": null,
      "metadata": {
        "colab": {
          "base_uri": "https://localhost:8080/"
        },
        "id": "_H1PLLe1D4cF",
        "outputId": "6385b5cc-8418-48cf-9324-cb499713b4af"
      },
      "outputs": [
        {
          "output_type": "execute_result",
          "data": {
            "text/plain": [
              "(29075, 29075, 12461, 12461)"
            ]
          },
          "metadata": {},
          "execution_count": 229
        }
      ],
      "source": [
        "X_train, X_test, y_train, y_test = train_test_split(\n",
        "    MED_SYMPTOMS, label_binarized.numpy(),\n",
        "    test_size=0.3, random_state=42)\n",
        "\n",
        "len(X_train),len(y_train),len(X_test),len(y_test)"
      ]
    },
    {
      "cell_type": "code",
      "execution_count": null,
      "metadata": {
        "colab": {
          "base_uri": "https://localhost:8080/"
        },
        "id": "lEOFrIMYD4cF",
        "outputId": "e8bb06f2-b858-4d3a-cb39-b7ba5f971e8f"
      },
      "outputs": [
        {
          "output_type": "execute_result",
          "data": {
            "text/plain": [
              "(94.22734307824591, 396, 87.0)"
            ]
          },
          "metadata": {},
          "execution_count": 230
        }
      ],
      "source": [
        "length = [len(i) for i in X_train]\n",
        "np.mean(length), np.max(length), np.median(length)"
      ]
    },
    {
      "cell_type": "code",
      "execution_count": null,
      "metadata": {
        "id": "hQoAW7gpD4cF"
      },
      "outputs": [],
      "source": [
        "X_train = tf.keras.utils.pad_sequences(\n",
        "    X_train,\n",
        "    maxlen=150,\n",
        "    dtype='int32',\n",
        "    padding='post',\n",
        "    truncating='post',\n",
        "    value=0.0\n",
        ")\n",
        "X_test = tf.keras.utils.pad_sequences(\n",
        "    X_test,\n",
        "    maxlen=150,\n",
        "    dtype='int32',\n",
        "    padding='post',\n",
        "    truncating='post',\n",
        "    value=0.0\n",
        ")"
      ]
    },
    {
      "cell_type": "markdown",
      "metadata": {
        "id": "EEa1IA3UD4cG"
      },
      "source": [
        "### Attention-based Model"
      ]
    },
    {
      "cell_type": "code",
      "execution_count": null,
      "metadata": {
        "id": "o9LzNPs8D4cG"
      },
      "outputs": [],
      "source": [
        "def attention_m(query, key, value):\n",
        "        score = tf.matmul(query, key, transpose_b=True)\n",
        "        dim_key = tf.cast(tf.shape(key)[-1], tf.float32)\n",
        "        scaled_score = score / tf.math.sqrt(dim_key)\n",
        "        weights = tf.nn.softmax(scaled_score, axis=-1)\n",
        "        output = tf.matmul(weights, value)\n",
        "        return output, weights"
      ]
    },
    {
      "cell_type": "code",
      "execution_count": null,
      "metadata": {
        "id": "9bkMFVNaD4cG"
      },
      "outputs": [],
      "source": [
        "def attention_model():\n",
        "\n",
        "  int_sequences_input = tf.keras.Input(shape=(150,), dtype=\"int64\")\n",
        "  embedded_sequences = tf.keras.layers.Embedding(\n",
        "                                                    20000,\n",
        "                                                    128,\n",
        "                                                    trainable=True,\n",
        "                                                )(int_sequences_input)\n",
        "  #flatten = tf.keras.layers.Flatten()(embedded_sequences)\n",
        "  query = tf.keras.layers.Dense(128)(embedded_sequences)  # (batch_size, seq_len, embed_dim)\n",
        "  key = tf.keras.layers.Dense(128)(embedded_sequences)  # (batch_size, seq_len, embed_dim)\n",
        "  value = tf.keras.layers.Dense(128)(embedded_sequences)\n",
        "  attention, weights = attention_m(query, key, value)\n",
        "  pool = tf.keras.layers.GlobalMaxPooling1D()(attention)\n",
        "  # dense = tf.keras.layers.Dense(386, activation=\"relu\")(pool)\n",
        "  # dense = tf.keras.layers.Dense(128, activation=\"relu\")(pool)\n",
        "  preds = tf.keras.layers.Dense(lookup.vocabulary_size()-1, activation=\"sigmoid\")(pool)\n",
        "  model = tf.keras.Model(int_sequences_input, preds)\n",
        "  return model"
      ]
    },
    {
      "cell_type": "code",
      "execution_count": null,
      "metadata": {
        "colab": {
          "base_uri": "https://localhost:8080/"
        },
        "id": "heyMTBRlD4cG",
        "outputId": "43ee4a64-693d-4d75-9e72-931913814a83"
      },
      "outputs": [
        {
          "output_type": "stream",
          "name": "stdout",
          "text": [
            "Epoch 1/10\n",
            "909/909 [==============================] - 25s 26ms/step - loss: 0.4200 - binary_accuracy: 0.8091 - val_loss: 0.3637 - val_binary_accuracy: 0.8373\n",
            "Epoch 2/10\n",
            "909/909 [==============================] - 9s 9ms/step - loss: 0.3490 - binary_accuracy: 0.8422 - val_loss: 0.3437 - val_binary_accuracy: 0.8459\n",
            "Epoch 3/10\n",
            "909/909 [==============================] - 9s 10ms/step - loss: 0.3332 - binary_accuracy: 0.8523 - val_loss: 0.3434 - val_binary_accuracy: 0.8501\n",
            "Epoch 4/10\n",
            "909/909 [==============================] - 7s 8ms/step - loss: 0.3225 - binary_accuracy: 0.8575 - val_loss: 0.3395 - val_binary_accuracy: 0.8464\n",
            "Epoch 5/10\n",
            "909/909 [==============================] - 8s 9ms/step - loss: 0.3151 - binary_accuracy: 0.8617 - val_loss: 0.3399 - val_binary_accuracy: 0.8504\n",
            "Epoch 6/10\n",
            "909/909 [==============================] - 7s 8ms/step - loss: 0.3098 - binary_accuracy: 0.8646 - val_loss: 0.3411 - val_binary_accuracy: 0.8472\n",
            "Epoch 7/10\n",
            "909/909 [==============================] - 8s 8ms/step - loss: 0.3053 - binary_accuracy: 0.8668 - val_loss: 0.3481 - val_binary_accuracy: 0.8468\n",
            "Epoch 8/10\n",
            "909/909 [==============================] - 7s 7ms/step - loss: 0.3021 - binary_accuracy: 0.8679 - val_loss: 0.3450 - val_binary_accuracy: 0.8475\n",
            "Epoch 9/10\n",
            "909/909 [==============================] - 8s 9ms/step - loss: 0.2989 - binary_accuracy: 0.8696 - val_loss: 0.3484 - val_binary_accuracy: 0.8448\n",
            "Epoch 10/10\n",
            "909/909 [==============================] - 8s 9ms/step - loss: 0.2965 - binary_accuracy: 0.8704 - val_loss: 0.3499 - val_binary_accuracy: 0.8442\n",
            "\n"
          ]
        }
      ],
      "source": [
        "attention_model = attention_model()\n",
        "attention_model.compile(\n",
        "    loss=\"binary_crossentropy\", optimizer=\"adam\", metrics=[tf.keras.metrics.BinaryAccuracy(name=\"binary_accuracy\", dtype=None, threshold=0.5)]\n",
        ")\n",
        "\n",
        "attention_model.fit(X_train, y_train, batch_size=32, epochs=10, validation_data=(X_test, y_test))\n",
        "print()"
      ]
    },
    {
      "cell_type": "code",
      "execution_count": null,
      "metadata": {
        "colab": {
          "base_uri": "https://localhost:8080/"
        },
        "id": "7SdEU3oJD4cG",
        "outputId": "3597ee61-2964-45e1-e36b-482026b5dca6"
      },
      "outputs": [
        {
          "output_type": "stream",
          "name": "stdout",
          "text": [
            "390/390 [==============================] - 1s 3ms/step\n"
          ]
        }
      ],
      "source": [
        "attention_model_y_scores = attention_model.predict(X_test)"
      ]
    },
    {
      "cell_type": "code",
      "execution_count": null,
      "metadata": {
        "colab": {
          "base_uri": "https://localhost:8080/"
        },
        "id": "or4YKvY6D4cG",
        "outputId": "0a6c803f-cc4e-495c-e1bd-1b5f63528000"
      },
      "outputs": [
        {
          "output_type": "execute_result",
          "data": {
            "text/plain": [
              "array([[1, 1, 1, ..., 0, 0, 0],\n",
              "       [1, 1, 1, ..., 0, 0, 1],\n",
              "       [1, 0, 1, ..., 0, 1, 1],\n",
              "       ...,\n",
              "       [1, 0, 0, ..., 0, 0, 0],\n",
              "       [1, 0, 0, ..., 0, 1, 1],\n",
              "       [0, 0, 0, ..., 0, 0, 0]])"
            ]
          },
          "metadata": {},
          "execution_count": 242
        }
      ],
      "source": [
        "attention_model_y_pred=[]\n",
        "threshold = 0.3\n",
        "for sample in  attention_model_y_scores:\n",
        "  attention_model_y_pred.append([1 if i>=threshold else 0 for i in sample ] )\n",
        "attention_model_y_pred = np.array(attention_model_y_pred)\n",
        "attention_model_y_pred"
      ]
    },
    {
      "cell_type": "code",
      "execution_count": null,
      "metadata": {
        "colab": {
          "base_uri": "https://localhost:8080/"
        },
        "id": "-WTWCH6SD4cG",
        "outputId": "55ecc65b-2cf3-4ad5-e308-caf5c13ca0ab"
      },
      "outputs": [
        {
          "output_type": "stream",
          "name": "stdout",
          "text": [
            "              precision    recall  f1-score   support\n",
            "\n",
            "           0       0.63      0.90      0.74      6105\n",
            "           1       0.67      0.78      0.72      3997\n",
            "           2       0.82      0.90      0.86      3843\n",
            "           3       0.69      0.82      0.75      3746\n",
            "           4       0.57      0.72      0.63      2758\n",
            "           5       0.62      0.62      0.62      2639\n",
            "           6       0.62      0.76      0.68      2625\n",
            "           7       0.54      0.72      0.62      2239\n",
            "           8       0.62      0.70      0.65      1919\n",
            "           9       0.70      0.74      0.72      1912\n",
            "\n",
            "   micro avg       0.65      0.79      0.71     31783\n",
            "   macro avg       0.65      0.76      0.70     31783\n",
            "weighted avg       0.65      0.79      0.71     31783\n",
            " samples avg       0.65      0.79      0.68     31783\n",
            "\n"
          ]
        }
      ],
      "source": [
        "results.append(score_model(y_test[1::], attention_model_y_pred[1::], 'Attention NN'))"
      ]
    },
    {
      "cell_type": "markdown",
      "metadata": {
        "id": "je5huiCmD4cH"
      },
      "source": [
        "### Attention + CNN"
      ]
    },
    {
      "cell_type": "code",
      "execution_count": null,
      "metadata": {
        "id": "VJ3QpQaJD4cH"
      },
      "outputs": [],
      "source": [
        "def attention_CNN_model():\n",
        "    int_sequences_input = tf.keras.Input(shape=(150,), dtype=\"int64\")\n",
        "    embedded_sequences = tf.keras.layers.Embedding(\n",
        "        input_dim=20000,\n",
        "        output_dim=128,\n",
        "        trainable=True,\n",
        "    )(int_sequences_input)\n",
        "\n",
        "    # Dense layers for attention mechanism\n",
        "    query = tf.keras.layers.Dense(128, activation='relu')(embedded_sequences)\n",
        "    key = tf.keras.layers.Dense(128, activation='relu')(embedded_sequences)\n",
        "    value = tf.keras.layers.Dense(128, activation='relu')(embedded_sequences)\n",
        "\n",
        "    # Using built-in Attention layer\n",
        "    attention, weights = attention_m(query, key, value)\n",
        "    # Convolutional layers after attention\n",
        "    conv1 = tf.keras.layers.Conv1D(filters=64, kernel_size=3, activation='relu')(attention)\n",
        "    conv2 = tf.keras.layers.Conv1D(filters=64, kernel_size=3, activation='relu')(conv1)\n",
        "    pool = tf.keras.layers.GlobalMaxPooling1D()(conv2)\n",
        "\n",
        "    preds = tf.keras.layers.Dense(lookup.vocabulary_size()-1, activation=\"sigmoid\")(pool)\n",
        "    model = tf.keras.Model(inputs=int_sequences_input, outputs=preds)\n",
        "    return model"
      ]
    },
    {
      "cell_type": "code",
      "execution_count": null,
      "metadata": {
        "colab": {
          "base_uri": "https://localhost:8080/"
        },
        "id": "FF9SGKGkD4cH",
        "outputId": "b7e1f26a-3eb6-42c9-ce73-6e54eebbc4d1"
      },
      "outputs": [
        {
          "output_type": "stream",
          "name": "stdout",
          "text": [
            "Epoch 1/10\n",
            "909/909 [==============================] - 36s 33ms/step - loss: 0.4563 - binary_accuracy: 0.7917 - val_loss: 0.4003 - val_binary_accuracy: 0.8188\n",
            "Epoch 2/10\n",
            "909/909 [==============================] - 9s 10ms/step - loss: 0.3795 - binary_accuracy: 0.8279 - val_loss: 0.3687 - val_binary_accuracy: 0.8329\n",
            "Epoch 3/10\n",
            "909/909 [==============================] - 9s 10ms/step - loss: 0.3581 - binary_accuracy: 0.8383 - val_loss: 0.3589 - val_binary_accuracy: 0.8378\n",
            "Epoch 4/10\n",
            "909/909 [==============================] - 9s 10ms/step - loss: 0.3451 - binary_accuracy: 0.8446 - val_loss: 0.3493 - val_binary_accuracy: 0.8439\n",
            "Epoch 5/10\n",
            "909/909 [==============================] - 8s 9ms/step - loss: 0.3351 - binary_accuracy: 0.8501 - val_loss: 0.3467 - val_binary_accuracy: 0.8434\n",
            "Epoch 6/10\n",
            "909/909 [==============================] - 13s 15ms/step - loss: 0.3283 - binary_accuracy: 0.8541 - val_loss: 0.3462 - val_binary_accuracy: 0.8466\n",
            "Epoch 7/10\n",
            "909/909 [==============================] - 18s 20ms/step - loss: 0.3234 - binary_accuracy: 0.8571 - val_loss: 0.3417 - val_binary_accuracy: 0.8474\n",
            "Epoch 8/10\n",
            "909/909 [==============================] - 9s 10ms/step - loss: 0.3186 - binary_accuracy: 0.8595 - val_loss: 0.3433 - val_binary_accuracy: 0.8481\n",
            "Epoch 9/10\n",
            "909/909 [==============================] - 9s 10ms/step - loss: 0.3152 - binary_accuracy: 0.8615 - val_loss: 0.3414 - val_binary_accuracy: 0.8468\n",
            "Epoch 10/10\n",
            "909/909 [==============================] - 13s 15ms/step - loss: 0.3122 - binary_accuracy: 0.8628 - val_loss: 0.3461 - val_binary_accuracy: 0.8442\n"
          ]
        },
        {
          "output_type": "execute_result",
          "data": {
            "text/plain": [
              "<keras.src.callbacks.History at 0x780fd05acc40>"
            ]
          },
          "metadata": {},
          "execution_count": 245
        }
      ],
      "source": [
        "attention_CNN_model = attention_CNN_model()\n",
        "attention_CNN_model.compile(\n",
        "    loss=\"binary_crossentropy\", optimizer=\"adam\", metrics=[tf.keras.metrics.BinaryAccuracy(name=\"binary_accuracy\", dtype=None, threshold=0.5)]\n",
        ")\n",
        "\n",
        "attention_CNN_model.fit(X_train, y_train, batch_size=32, epochs=10, validation_data=(X_test, y_test))"
      ]
    },
    {
      "cell_type": "code",
      "execution_count": null,
      "metadata": {
        "colab": {
          "base_uri": "https://localhost:8080/"
        },
        "id": "JnWJillVD4cH",
        "outputId": "502da639-c4f7-4737-80c9-91a5b5eb2ae2"
      },
      "outputs": [
        {
          "output_type": "stream",
          "name": "stdout",
          "text": [
            "390/390 [==============================] - 2s 4ms/step\n"
          ]
        }
      ],
      "source": [
        "attention_CNN_y_scores = attention_CNN_model.predict(X_test)\n",
        "attention_CNN_y_pred=[]\n",
        "threshold = 0.3\n",
        "for sample in  attention_CNN_y_scores:\n",
        "  attention_CNN_y_pred.append([1 if i>=threshold else 0 for i in sample ] )\n",
        "attention_CNN_y_pred = np.array(attention_CNN_y_pred)\n"
      ]
    },
    {
      "cell_type": "code",
      "execution_count": null,
      "metadata": {
        "colab": {
          "base_uri": "https://localhost:8080/"
        },
        "id": "Qu1jykA9D4cH",
        "outputId": "e054784e-edc7-4b31-aa39-3fd81be69176"
      },
      "outputs": [
        {
          "output_type": "stream",
          "name": "stdout",
          "text": [
            "              precision    recall  f1-score   support\n",
            "\n",
            "           0       0.63      0.87      0.73      6105\n",
            "           1       0.60      0.87      0.71      3997\n",
            "           2       0.82      0.90      0.86      3843\n",
            "           3       0.73      0.77      0.75      3746\n",
            "           4       0.52      0.76      0.62      2758\n",
            "           5       0.66      0.55      0.60      2639\n",
            "           6       0.66      0.70      0.68      2625\n",
            "           7       0.55      0.70      0.62      2239\n",
            "           8       0.63      0.79      0.70      1919\n",
            "           9       0.68      0.84      0.75      1912\n",
            "\n",
            "   micro avg       0.65      0.79      0.71     31783\n",
            "   macro avg       0.65      0.78      0.70     31783\n",
            "weighted avg       0.65      0.79      0.71     31783\n",
            " samples avg       0.66      0.80      0.69     31783\n",
            "\n"
          ]
        }
      ],
      "source": [
        "results.append(score_model(y_test[1::], attention_CNN_y_pred[1::], 'Attention+CNN'))"
      ]
    },
    {
      "cell_type": "markdown",
      "metadata": {
        "id": "Vh3PrTyDD4cH"
      },
      "source": [
        "### Attention + BiLSTM"
      ]
    },
    {
      "cell_type": "code",
      "execution_count": null,
      "metadata": {
        "id": "Sjk1vLOrD4cH"
      },
      "outputs": [],
      "source": [
        "def attention_BiLSTM_create_model():\n",
        "    int_sequences_input = tf.keras.Input(shape=(150,), dtype=\"int64\")\n",
        "    embedded_sequences = tf.keras.layers.Embedding(\n",
        "        input_dim=20000,\n",
        "        output_dim=128,\n",
        "        trainable=True,\n",
        "    )(int_sequences_input)\n",
        "\n",
        "    # Dense layers for attention mechanism preparation\n",
        "    query = tf.keras.layers.Dense(128, activation='relu')(embedded_sequences)\n",
        "    key = tf.keras.layers.Dense(128, activation='relu')(embedded_sequences)\n",
        "    value = tf.keras.layers.Dense(128, activation='relu')(embedded_sequences)\n",
        "\n",
        "    # Using built-in Attention layer\n",
        "    attention, weights = attention_m(query, key, value)\n",
        "    # BiLSTM layer after attention mechanism\n",
        "    bi_lstm = tf.keras.layers.Bidirectional(\n",
        "        tf.keras.layers.LSTM(64, return_sequences=True)\n",
        "    )(attention)\n",
        "    # You could add more BiLSTM layers or adjust the LSTM units based on your needs\n",
        "\n",
        "    # A pooling layer or you could use tf.keras.layers.GlobalAveragePooling1D() as well\n",
        "    pool = tf.keras.layers.GlobalMaxPooling1D()(bi_lstm)\n",
        "\n",
        "    # Prediction layer\n",
        "    preds = tf.keras.layers.Dense(lookup.vocabulary_size()-1, activation=\"sigmoid\")(pool)\n",
        "    model = tf.keras.Model(inputs=int_sequences_input, outputs=preds)\n",
        "    return model"
      ]
    },
    {
      "cell_type": "code",
      "execution_count": null,
      "metadata": {
        "colab": {
          "base_uri": "https://localhost:8080/"
        },
        "id": "NxkuS6JmD4cH",
        "outputId": "45c1d4aa-d81f-4191-da18-2827250c065e"
      },
      "outputs": [
        {
          "output_type": "stream",
          "name": "stdout",
          "text": [
            "Epoch 1/10\n",
            "909/909 [==============================] - 41s 40ms/step - loss: 0.4451 - binary_accuracy: 0.7995 - val_loss: 0.3878 - val_binary_accuracy: 0.8239\n",
            "Epoch 2/10\n",
            "909/909 [==============================] - 20s 22ms/step - loss: 0.3639 - binary_accuracy: 0.8369 - val_loss: 0.3633 - val_binary_accuracy: 0.8348\n",
            "Epoch 3/10\n",
            "909/909 [==============================] - 20s 22ms/step - loss: 0.3491 - binary_accuracy: 0.8435 - val_loss: 0.3495 - val_binary_accuracy: 0.8413\n",
            "Epoch 4/10\n",
            "909/909 [==============================] - 23s 25ms/step - loss: 0.3365 - binary_accuracy: 0.8489 - val_loss: 0.3399 - val_binary_accuracy: 0.8473\n",
            "Epoch 5/10\n",
            "909/909 [==============================] - 21s 23ms/step - loss: 0.3274 - binary_accuracy: 0.8541 - val_loss: 0.3358 - val_binary_accuracy: 0.8475\n",
            "Epoch 6/10\n",
            "909/909 [==============================] - 31s 34ms/step - loss: 0.3221 - binary_accuracy: 0.8574 - val_loss: 0.3362 - val_binary_accuracy: 0.8502\n",
            "Epoch 7/10\n",
            "909/909 [==============================] - 30s 33ms/step - loss: 0.3174 - binary_accuracy: 0.8595 - val_loss: 0.3318 - val_binary_accuracy: 0.8515\n",
            "Epoch 8/10\n",
            "909/909 [==============================] - 36s 39ms/step - loss: 0.3142 - binary_accuracy: 0.8616 - val_loss: 0.3317 - val_binary_accuracy: 0.8518\n",
            "Epoch 9/10\n",
            "909/909 [==============================] - 29s 32ms/step - loss: 0.3106 - binary_accuracy: 0.8636 - val_loss: 0.3337 - val_binary_accuracy: 0.8502\n",
            "Epoch 10/10\n",
            "909/909 [==============================] - 25s 28ms/step - loss: 0.3085 - binary_accuracy: 0.8650 - val_loss: 0.3340 - val_binary_accuracy: 0.8509\n"
          ]
        },
        {
          "output_type": "execute_result",
          "data": {
            "text/plain": [
              "<keras.src.callbacks.History at 0x780fd06d3af0>"
            ]
          },
          "metadata": {},
          "execution_count": 249
        }
      ],
      "source": [
        "attention_BiLSTM_model = attention_BiLSTM_create_model()\n",
        "attention_BiLSTM_model .compile(\n",
        "    loss=\"binary_crossentropy\", optimizer=\"adam\", metrics=[tf.keras.metrics.BinaryAccuracy(name=\"binary_accuracy\", dtype=None, threshold=0.5)]\n",
        ")\n",
        "\n",
        "attention_BiLSTM_model .fit(X_train, y_train, batch_size=32, epochs=10, validation_data=(X_test, y_test))"
      ]
    },
    {
      "cell_type": "code",
      "execution_count": null,
      "metadata": {
        "colab": {
          "base_uri": "https://localhost:8080/"
        },
        "id": "A90yJId2D4cI",
        "outputId": "def3c108-81d0-4eaa-9266-e4c01a28a913"
      },
      "outputs": [
        {
          "output_type": "stream",
          "name": "stdout",
          "text": [
            "390/390 [==============================] - 6s 10ms/step\n"
          ]
        }
      ],
      "source": [
        "attention_BiLSTM_y_scores = attention_BiLSTM_model.predict(X_test)\n",
        "attention_BiLSTM_y_pred=[]\n",
        "threshold = 0.3\n",
        "for sample in  attention_BiLSTM_y_scores:\n",
        "  attention_BiLSTM_y_pred.append([1 if i>=threshold else 0 for i in sample ] )\n",
        "attention_BiLSTM_y_pred = np.array(attention_BiLSTM_y_pred)"
      ]
    },
    {
      "cell_type": "code",
      "execution_count": null,
      "metadata": {
        "colab": {
          "base_uri": "https://localhost:8080/"
        },
        "id": "bsP6IHuID4cI",
        "outputId": "d7ab8f9b-2b55-46fd-951d-e8751cd11312"
      },
      "outputs": [
        {
          "output_type": "stream",
          "name": "stdout",
          "text": [
            "              precision    recall  f1-score   support\n",
            "\n",
            "           0       0.62      0.93      0.74      6105\n",
            "           1       0.63      0.84      0.72      3997\n",
            "           2       0.82      0.90      0.86      3843\n",
            "           3       0.63      0.90      0.74      3746\n",
            "           4       0.59      0.70      0.64      2758\n",
            "           5       0.54      0.84      0.66      2639\n",
            "           6       0.59      0.82      0.69      2625\n",
            "           7       0.54      0.73      0.62      2239\n",
            "           8       0.62      0.81      0.71      1919\n",
            "           9       0.67      0.86      0.75      1912\n",
            "\n",
            "   micro avg       0.63      0.85      0.72     31783\n",
            "   macro avg       0.63      0.83      0.71     31783\n",
            "weighted avg       0.63      0.85      0.72     31783\n",
            " samples avg       0.64      0.85      0.70     31783\n",
            "\n"
          ]
        }
      ],
      "source": [
        "results.append(score_model(y_test[1::], attention_BiLSTM_y_pred[1::], 'Attention+BiLSTM'))"
      ]
    },
    {
      "cell_type": "markdown",
      "source": [
        "## Result Analysis"
      ],
      "metadata": {
        "id": "OIY79wjMZkfK"
      }
    },
    {
      "cell_type": "code",
      "source": [
        "logdata = pd.DataFrame()\n",
        "logdata['Name'] = [x['name'] for x in results]\n",
        "logdata['Weighted Avg F1'] = [x['weighted avg']['f1-score'] for x in results]\n",
        "logdata['Weighted Avg Precision'] = [x['weighted avg']['precision'] for x in results]\n",
        "logdata['Weighted Avg Recall'] = [x['weighted avg']['recall'] for x in results]\n",
        "logdata['Correct Fraction'] = [x['correct'] for x in results]\n",
        "logdata['Macro Avg F1'] = [x['macro avg']['f1-score'] for x in results]\n",
        "logdata['Micro Avg F1'] = [x['micro avg']['f1-score'] for x in results]\n",
        "logdata['Color'] = np.array(sns.color_palette(\"hls\", len(results)).as_hex())"
      ],
      "metadata": {
        "id": "_0yFUVpKZm9G"
      },
      "execution_count": null,
      "outputs": []
    },
    {
      "cell_type": "code",
      "source": [
        "logdata"
      ],
      "metadata": {
        "colab": {
          "base_uri": "https://localhost:8080/",
          "height": 363
        },
        "id": "Drd2gJiJdODL",
        "outputId": "6748afcc-1bd4-4b5f-ee20-150917b375de"
      },
      "execution_count": null,
      "outputs": [
        {
          "output_type": "execute_result",
          "data": {
            "text/plain": [
              "                Name  Weighted Avg F1  Weighted Avg Precision  \\\n",
              "0                KNN         0.393512                0.534637   \n",
              "1      Random Forest         0.430012                0.773810   \n",
              "2           Catboost         0.709143                0.728365   \n",
              "3          Attention         0.712990                0.653874   \n",
              "4      Attention+CNN         0.713660                0.654709   \n",
              "5   Attention+BiLSTM         0.722770                0.632273   \n",
              "6  Catboost, as Text         0.704471                0.730937   \n",
              "7              Dummy         0.294930                0.294926   \n",
              "8    CatBoost+Optuna         0.715914                0.732517   \n",
              "9    CatBoost+Optuna         0.715914                0.732517   \n",
              "\n",
              "   Weighted Avg Recall  Correct Fraction  Macro Avg F1  Micro Avg F1    Color  \n",
              "0             0.351538          0.765886      0.336710      0.433765  #db5f57  \n",
              "1             0.360379          0.808860      0.346127      0.490284  #dbae57  \n",
              "2             0.700277          0.856448      0.695347      0.713361  #b9db57  \n",
              "3             0.789007          0.837825      0.698703      0.712810  #69db57  \n",
              "4             0.794827          0.837103      0.702669      0.713404  #57db94  \n",
              "5             0.849542          0.832512      0.712637      0.721267  #57d3db  \n",
              "6             0.689989          0.856095      0.690137      0.709819  #5784db  \n",
              "7             0.295036          0.641201      0.256733      0.295528  #7957db  \n",
              "8             0.708079          0.859128      0.702228      0.719441  #c957db  \n",
              "9             0.708079          0.859128      0.702228      0.719441  #db579e  "
            ],
            "text/html": [
              "\n",
              "  <div id=\"df-f1eaddcc-b0f4-489d-ab6c-73322a99f70e\" class=\"colab-df-container\">\n",
              "    <div>\n",
              "<style scoped>\n",
              "    .dataframe tbody tr th:only-of-type {\n",
              "        vertical-align: middle;\n",
              "    }\n",
              "\n",
              "    .dataframe tbody tr th {\n",
              "        vertical-align: top;\n",
              "    }\n",
              "\n",
              "    .dataframe thead th {\n",
              "        text-align: right;\n",
              "    }\n",
              "</style>\n",
              "<table border=\"1\" class=\"dataframe\">\n",
              "  <thead>\n",
              "    <tr style=\"text-align: right;\">\n",
              "      <th></th>\n",
              "      <th>Name</th>\n",
              "      <th>Weighted Avg F1</th>\n",
              "      <th>Weighted Avg Precision</th>\n",
              "      <th>Weighted Avg Recall</th>\n",
              "      <th>Correct Fraction</th>\n",
              "      <th>Macro Avg F1</th>\n",
              "      <th>Micro Avg F1</th>\n",
              "      <th>Color</th>\n",
              "    </tr>\n",
              "  </thead>\n",
              "  <tbody>\n",
              "    <tr>\n",
              "      <th>0</th>\n",
              "      <td>KNN</td>\n",
              "      <td>0.393512</td>\n",
              "      <td>0.534637</td>\n",
              "      <td>0.351538</td>\n",
              "      <td>0.765886</td>\n",
              "      <td>0.336710</td>\n",
              "      <td>0.433765</td>\n",
              "      <td>#db5f57</td>\n",
              "    </tr>\n",
              "    <tr>\n",
              "      <th>1</th>\n",
              "      <td>Random Forest</td>\n",
              "      <td>0.430012</td>\n",
              "      <td>0.773810</td>\n",
              "      <td>0.360379</td>\n",
              "      <td>0.808860</td>\n",
              "      <td>0.346127</td>\n",
              "      <td>0.490284</td>\n",
              "      <td>#dbae57</td>\n",
              "    </tr>\n",
              "    <tr>\n",
              "      <th>2</th>\n",
              "      <td>Catboost</td>\n",
              "      <td>0.709143</td>\n",
              "      <td>0.728365</td>\n",
              "      <td>0.700277</td>\n",
              "      <td>0.856448</td>\n",
              "      <td>0.695347</td>\n",
              "      <td>0.713361</td>\n",
              "      <td>#b9db57</td>\n",
              "    </tr>\n",
              "    <tr>\n",
              "      <th>3</th>\n",
              "      <td>Attention</td>\n",
              "      <td>0.712990</td>\n",
              "      <td>0.653874</td>\n",
              "      <td>0.789007</td>\n",
              "      <td>0.837825</td>\n",
              "      <td>0.698703</td>\n",
              "      <td>0.712810</td>\n",
              "      <td>#69db57</td>\n",
              "    </tr>\n",
              "    <tr>\n",
              "      <th>4</th>\n",
              "      <td>Attention+CNN</td>\n",
              "      <td>0.713660</td>\n",
              "      <td>0.654709</td>\n",
              "      <td>0.794827</td>\n",
              "      <td>0.837103</td>\n",
              "      <td>0.702669</td>\n",
              "      <td>0.713404</td>\n",
              "      <td>#57db94</td>\n",
              "    </tr>\n",
              "    <tr>\n",
              "      <th>5</th>\n",
              "      <td>Attention+BiLSTM</td>\n",
              "      <td>0.722770</td>\n",
              "      <td>0.632273</td>\n",
              "      <td>0.849542</td>\n",
              "      <td>0.832512</td>\n",
              "      <td>0.712637</td>\n",
              "      <td>0.721267</td>\n",
              "      <td>#57d3db</td>\n",
              "    </tr>\n",
              "    <tr>\n",
              "      <th>6</th>\n",
              "      <td>Catboost, as Text</td>\n",
              "      <td>0.704471</td>\n",
              "      <td>0.730937</td>\n",
              "      <td>0.689989</td>\n",
              "      <td>0.856095</td>\n",
              "      <td>0.690137</td>\n",
              "      <td>0.709819</td>\n",
              "      <td>#5784db</td>\n",
              "    </tr>\n",
              "    <tr>\n",
              "      <th>7</th>\n",
              "      <td>Dummy</td>\n",
              "      <td>0.294930</td>\n",
              "      <td>0.294926</td>\n",
              "      <td>0.295036</td>\n",
              "      <td>0.641201</td>\n",
              "      <td>0.256733</td>\n",
              "      <td>0.295528</td>\n",
              "      <td>#7957db</td>\n",
              "    </tr>\n",
              "    <tr>\n",
              "      <th>8</th>\n",
              "      <td>CatBoost+Optuna</td>\n",
              "      <td>0.715914</td>\n",
              "      <td>0.732517</td>\n",
              "      <td>0.708079</td>\n",
              "      <td>0.859128</td>\n",
              "      <td>0.702228</td>\n",
              "      <td>0.719441</td>\n",
              "      <td>#c957db</td>\n",
              "    </tr>\n",
              "    <tr>\n",
              "      <th>9</th>\n",
              "      <td>CatBoost+Optuna</td>\n",
              "      <td>0.715914</td>\n",
              "      <td>0.732517</td>\n",
              "      <td>0.708079</td>\n",
              "      <td>0.859128</td>\n",
              "      <td>0.702228</td>\n",
              "      <td>0.719441</td>\n",
              "      <td>#db579e</td>\n",
              "    </tr>\n",
              "  </tbody>\n",
              "</table>\n",
              "</div>\n",
              "    <div class=\"colab-df-buttons\">\n",
              "\n",
              "  <div class=\"colab-df-container\">\n",
              "    <button class=\"colab-df-convert\" onclick=\"convertToInteractive('df-f1eaddcc-b0f4-489d-ab6c-73322a99f70e')\"\n",
              "            title=\"Convert this dataframe to an interactive table.\"\n",
              "            style=\"display:none;\">\n",
              "\n",
              "  <svg xmlns=\"http://www.w3.org/2000/svg\" height=\"24px\" viewBox=\"0 -960 960 960\">\n",
              "    <path d=\"M120-120v-720h720v720H120Zm60-500h600v-160H180v160Zm220 220h160v-160H400v160Zm0 220h160v-160H400v160ZM180-400h160v-160H180v160Zm440 0h160v-160H620v160ZM180-180h160v-160H180v160Zm440 0h160v-160H620v160Z\"/>\n",
              "  </svg>\n",
              "    </button>\n",
              "\n",
              "  <style>\n",
              "    .colab-df-container {\n",
              "      display:flex;\n",
              "      gap: 12px;\n",
              "    }\n",
              "\n",
              "    .colab-df-convert {\n",
              "      background-color: #E8F0FE;\n",
              "      border: none;\n",
              "      border-radius: 50%;\n",
              "      cursor: pointer;\n",
              "      display: none;\n",
              "      fill: #1967D2;\n",
              "      height: 32px;\n",
              "      padding: 0 0 0 0;\n",
              "      width: 32px;\n",
              "    }\n",
              "\n",
              "    .colab-df-convert:hover {\n",
              "      background-color: #E2EBFA;\n",
              "      box-shadow: 0px 1px 2px rgba(60, 64, 67, 0.3), 0px 1px 3px 1px rgba(60, 64, 67, 0.15);\n",
              "      fill: #174EA6;\n",
              "    }\n",
              "\n",
              "    .colab-df-buttons div {\n",
              "      margin-bottom: 4px;\n",
              "    }\n",
              "\n",
              "    [theme=dark] .colab-df-convert {\n",
              "      background-color: #3B4455;\n",
              "      fill: #D2E3FC;\n",
              "    }\n",
              "\n",
              "    [theme=dark] .colab-df-convert:hover {\n",
              "      background-color: #434B5C;\n",
              "      box-shadow: 0px 1px 3px 1px rgba(0, 0, 0, 0.15);\n",
              "      filter: drop-shadow(0px 1px 2px rgba(0, 0, 0, 0.3));\n",
              "      fill: #FFFFFF;\n",
              "    }\n",
              "  </style>\n",
              "\n",
              "    <script>\n",
              "      const buttonEl =\n",
              "        document.querySelector('#df-f1eaddcc-b0f4-489d-ab6c-73322a99f70e button.colab-df-convert');\n",
              "      buttonEl.style.display =\n",
              "        google.colab.kernel.accessAllowed ? 'block' : 'none';\n",
              "\n",
              "      async function convertToInteractive(key) {\n",
              "        const element = document.querySelector('#df-f1eaddcc-b0f4-489d-ab6c-73322a99f70e');\n",
              "        const dataTable =\n",
              "          await google.colab.kernel.invokeFunction('convertToInteractive',\n",
              "                                                    [key], {});\n",
              "        if (!dataTable) return;\n",
              "\n",
              "        const docLinkHtml = 'Like what you see? Visit the ' +\n",
              "          '<a target=\"_blank\" href=https://colab.research.google.com/notebooks/data_table.ipynb>data table notebook</a>'\n",
              "          + ' to learn more about interactive tables.';\n",
              "        element.innerHTML = '';\n",
              "        dataTable['output_type'] = 'display_data';\n",
              "        await google.colab.output.renderOutput(dataTable, element);\n",
              "        const docLink = document.createElement('div');\n",
              "        docLink.innerHTML = docLinkHtml;\n",
              "        element.appendChild(docLink);\n",
              "      }\n",
              "    </script>\n",
              "  </div>\n",
              "\n",
              "\n",
              "<div id=\"df-94b09572-ce0b-4731-b61a-8440c4391015\">\n",
              "  <button class=\"colab-df-quickchart\" onclick=\"quickchart('df-94b09572-ce0b-4731-b61a-8440c4391015')\"\n",
              "            title=\"Suggest charts\"\n",
              "            style=\"display:none;\">\n",
              "\n",
              "<svg xmlns=\"http://www.w3.org/2000/svg\" height=\"24px\"viewBox=\"0 0 24 24\"\n",
              "     width=\"24px\">\n",
              "    <g>\n",
              "        <path d=\"M19 3H5c-1.1 0-2 .9-2 2v14c0 1.1.9 2 2 2h14c1.1 0 2-.9 2-2V5c0-1.1-.9-2-2-2zM9 17H7v-7h2v7zm4 0h-2V7h2v10zm4 0h-2v-4h2v4z\"/>\n",
              "    </g>\n",
              "</svg>\n",
              "  </button>\n",
              "\n",
              "<style>\n",
              "  .colab-df-quickchart {\n",
              "      --bg-color: #E8F0FE;\n",
              "      --fill-color: #1967D2;\n",
              "      --hover-bg-color: #E2EBFA;\n",
              "      --hover-fill-color: #174EA6;\n",
              "      --disabled-fill-color: #AAA;\n",
              "      --disabled-bg-color: #DDD;\n",
              "  }\n",
              "\n",
              "  [theme=dark] .colab-df-quickchart {\n",
              "      --bg-color: #3B4455;\n",
              "      --fill-color: #D2E3FC;\n",
              "      --hover-bg-color: #434B5C;\n",
              "      --hover-fill-color: #FFFFFF;\n",
              "      --disabled-bg-color: #3B4455;\n",
              "      --disabled-fill-color: #666;\n",
              "  }\n",
              "\n",
              "  .colab-df-quickchart {\n",
              "    background-color: var(--bg-color);\n",
              "    border: none;\n",
              "    border-radius: 50%;\n",
              "    cursor: pointer;\n",
              "    display: none;\n",
              "    fill: var(--fill-color);\n",
              "    height: 32px;\n",
              "    padding: 0;\n",
              "    width: 32px;\n",
              "  }\n",
              "\n",
              "  .colab-df-quickchart:hover {\n",
              "    background-color: var(--hover-bg-color);\n",
              "    box-shadow: 0 1px 2px rgba(60, 64, 67, 0.3), 0 1px 3px 1px rgba(60, 64, 67, 0.15);\n",
              "    fill: var(--button-hover-fill-color);\n",
              "  }\n",
              "\n",
              "  .colab-df-quickchart-complete:disabled,\n",
              "  .colab-df-quickchart-complete:disabled:hover {\n",
              "    background-color: var(--disabled-bg-color);\n",
              "    fill: var(--disabled-fill-color);\n",
              "    box-shadow: none;\n",
              "  }\n",
              "\n",
              "  .colab-df-spinner {\n",
              "    border: 2px solid var(--fill-color);\n",
              "    border-color: transparent;\n",
              "    border-bottom-color: var(--fill-color);\n",
              "    animation:\n",
              "      spin 1s steps(1) infinite;\n",
              "  }\n",
              "\n",
              "  @keyframes spin {\n",
              "    0% {\n",
              "      border-color: transparent;\n",
              "      border-bottom-color: var(--fill-color);\n",
              "      border-left-color: var(--fill-color);\n",
              "    }\n",
              "    20% {\n",
              "      border-color: transparent;\n",
              "      border-left-color: var(--fill-color);\n",
              "      border-top-color: var(--fill-color);\n",
              "    }\n",
              "    30% {\n",
              "      border-color: transparent;\n",
              "      border-left-color: var(--fill-color);\n",
              "      border-top-color: var(--fill-color);\n",
              "      border-right-color: var(--fill-color);\n",
              "    }\n",
              "    40% {\n",
              "      border-color: transparent;\n",
              "      border-right-color: var(--fill-color);\n",
              "      border-top-color: var(--fill-color);\n",
              "    }\n",
              "    60% {\n",
              "      border-color: transparent;\n",
              "      border-right-color: var(--fill-color);\n",
              "    }\n",
              "    80% {\n",
              "      border-color: transparent;\n",
              "      border-right-color: var(--fill-color);\n",
              "      border-bottom-color: var(--fill-color);\n",
              "    }\n",
              "    90% {\n",
              "      border-color: transparent;\n",
              "      border-bottom-color: var(--fill-color);\n",
              "    }\n",
              "  }\n",
              "</style>\n",
              "\n",
              "  <script>\n",
              "    async function quickchart(key) {\n",
              "      const quickchartButtonEl =\n",
              "        document.querySelector('#' + key + ' button');\n",
              "      quickchartButtonEl.disabled = true;  // To prevent multiple clicks.\n",
              "      quickchartButtonEl.classList.add('colab-df-spinner');\n",
              "      try {\n",
              "        const charts = await google.colab.kernel.invokeFunction(\n",
              "            'suggestCharts', [key], {});\n",
              "      } catch (error) {\n",
              "        console.error('Error during call to suggestCharts:', error);\n",
              "      }\n",
              "      quickchartButtonEl.classList.remove('colab-df-spinner');\n",
              "      quickchartButtonEl.classList.add('colab-df-quickchart-complete');\n",
              "    }\n",
              "    (() => {\n",
              "      let quickchartButtonEl =\n",
              "        document.querySelector('#df-94b09572-ce0b-4731-b61a-8440c4391015 button');\n",
              "      quickchartButtonEl.style.display =\n",
              "        google.colab.kernel.accessAllowed ? 'block' : 'none';\n",
              "    })();\n",
              "  </script>\n",
              "</div>\n",
              "\n",
              "  <div id=\"id_dd7aa12e-16e8-45fe-8db6-05fb12c53bf3\">\n",
              "    <style>\n",
              "      .colab-df-generate {\n",
              "        background-color: #E8F0FE;\n",
              "        border: none;\n",
              "        border-radius: 50%;\n",
              "        cursor: pointer;\n",
              "        display: none;\n",
              "        fill: #1967D2;\n",
              "        height: 32px;\n",
              "        padding: 0 0 0 0;\n",
              "        width: 32px;\n",
              "      }\n",
              "\n",
              "      .colab-df-generate:hover {\n",
              "        background-color: #E2EBFA;\n",
              "        box-shadow: 0px 1px 2px rgba(60, 64, 67, 0.3), 0px 1px 3px 1px rgba(60, 64, 67, 0.15);\n",
              "        fill: #174EA6;\n",
              "      }\n",
              "\n",
              "      [theme=dark] .colab-df-generate {\n",
              "        background-color: #3B4455;\n",
              "        fill: #D2E3FC;\n",
              "      }\n",
              "\n",
              "      [theme=dark] .colab-df-generate:hover {\n",
              "        background-color: #434B5C;\n",
              "        box-shadow: 0px 1px 3px 1px rgba(0, 0, 0, 0.15);\n",
              "        filter: drop-shadow(0px 1px 2px rgba(0, 0, 0, 0.3));\n",
              "        fill: #FFFFFF;\n",
              "      }\n",
              "    </style>\n",
              "    <button class=\"colab-df-generate\" onclick=\"generateWithVariable('logdata')\"\n",
              "            title=\"Generate code using this dataframe.\"\n",
              "            style=\"display:none;\">\n",
              "\n",
              "  <svg xmlns=\"http://www.w3.org/2000/svg\" height=\"24px\"viewBox=\"0 0 24 24\"\n",
              "       width=\"24px\">\n",
              "    <path d=\"M7,19H8.4L18.45,9,17,7.55,7,17.6ZM5,21V16.75L18.45,3.32a2,2,0,0,1,2.83,0l1.4,1.43a1.91,1.91,0,0,1,.58,1.4,1.91,1.91,0,0,1-.58,1.4L9.25,21ZM18.45,9,17,7.55Zm-12,3A5.31,5.31,0,0,0,4.9,8.1,5.31,5.31,0,0,0,1,6.5,5.31,5.31,0,0,0,4.9,4.9,5.31,5.31,0,0,0,6.5,1,5.31,5.31,0,0,0,8.1,4.9,5.31,5.31,0,0,0,12,6.5,5.46,5.46,0,0,0,6.5,12Z\"/>\n",
              "  </svg>\n",
              "    </button>\n",
              "    <script>\n",
              "      (() => {\n",
              "      const buttonEl =\n",
              "        document.querySelector('#id_dd7aa12e-16e8-45fe-8db6-05fb12c53bf3 button.colab-df-generate');\n",
              "      buttonEl.style.display =\n",
              "        google.colab.kernel.accessAllowed ? 'block' : 'none';\n",
              "\n",
              "      buttonEl.onclick = () => {\n",
              "        google.colab.notebook.generateWithVariable('logdata');\n",
              "      }\n",
              "      })();\n",
              "    </script>\n",
              "  </div>\n",
              "\n",
              "    </div>\n",
              "  </div>\n"
            ],
            "application/vnd.google.colaboratory.intrinsic+json": {
              "type": "dataframe",
              "variable_name": "logdata",
              "summary": "{\n  \"name\": \"logdata\",\n  \"rows\": 10,\n  \"fields\": [\n    {\n      \"column\": \"Name\",\n      \"properties\": {\n        \"dtype\": \"string\",\n        \"num_unique_values\": 9,\n        \"samples\": [\n          \"Dummy\",\n          \"Random Forest\",\n          \"Attention+BiLSTM\"\n        ],\n        \"semantic_type\": \"\",\n        \"description\": \"\"\n      }\n    },\n    {\n      \"column\": \"Weighted Avg F1\",\n      \"properties\": {\n        \"dtype\": \"number\",\n        \"std\": 0.1679197088949791,\n        \"min\": 0.2949302490373168,\n        \"max\": 0.7227696109978456,\n        \"num_unique_values\": 9,\n        \"samples\": [\n          0.2949302490373168,\n          0.43001175222897436,\n          0.7227696109978456\n        ],\n        \"semantic_type\": \"\",\n        \"description\": \"\"\n      }\n    },\n    {\n      \"column\": \"Weighted Avg Precision\",\n      \"properties\": {\n        \"dtype\": \"number\",\n        \"std\": 0.141922401754936,\n        \"min\": 0.294925681723423,\n        \"max\": 0.7738100002609088,\n        \"num_unique_values\": 9,\n        \"samples\": [\n          0.294925681723423,\n          0.7738100002609088,\n          0.632272936694732\n        ],\n        \"semantic_type\": \"\",\n        \"description\": \"\"\n      }\n    },\n    {\n      \"column\": \"Weighted Avg Recall\",\n      \"properties\": {\n        \"dtype\": \"number\",\n        \"std\": 0.20643382877684585,\n        \"min\": 0.29503555024224504,\n        \"max\": 0.8495422080986691,\n        \"num_unique_values\": 9,\n        \"samples\": [\n          0.29503555024224504,\n          0.3603787831120619,\n          0.8495422080986691\n        ],\n        \"semantic_type\": \"\",\n        \"description\": \"\"\n      }\n    },\n    {\n      \"column\": \"Correct Fraction\",\n      \"properties\": {\n        \"dtype\": \"number\",\n        \"std\": 0.06771837708262446,\n        \"min\": 0.6412005457025921,\n        \"max\": 0.859128480860284,\n        \"num_unique_values\": 9,\n        \"samples\": [\n          0.6412005457025921,\n          0.8088596420832999,\n          0.8325120385232745\n        ],\n        \"semantic_type\": \"\",\n        \"description\": \"\"\n      }\n    },\n    {\n      \"column\": \"Macro Avg F1\",\n      \"properties\": {\n        \"dtype\": \"number\",\n        \"std\": 0.18863364904759847,\n        \"min\": 0.2567325810670838,\n        \"max\": 0.7126366487918592,\n        \"num_unique_values\": 9,\n        \"samples\": [\n          0.2567325810670838,\n          0.34612668811269875,\n          0.7126366487918592\n        ],\n        \"semantic_type\": \"\",\n        \"description\": \"\"\n      }\n    },\n    {\n      \"column\": \"Micro Avg F1\",\n      \"properties\": {\n        \"dtype\": \"number\",\n        \"std\": 0.156652737744223,\n        \"min\": 0.2955283143730501,\n        \"max\": 0.7212672463303549,\n        \"num_unique_values\": 9,\n        \"samples\": [\n          0.2955283143730501,\n          0.49028419791131655,\n          0.7212672463303549\n        ],\n        \"semantic_type\": \"\",\n        \"description\": \"\"\n      }\n    },\n    {\n      \"column\": \"Color\",\n      \"properties\": {\n        \"dtype\": \"string\",\n        \"num_unique_values\": 10,\n        \"samples\": [\n          \"#c957db\",\n          \"#dbae57\",\n          \"#57d3db\"\n        ],\n        \"semantic_type\": \"\",\n        \"description\": \"\"\n      }\n    }\n  ]\n}"
            }
          },
          "metadata": {},
          "execution_count": 327
        }
      ]
    },
    {
      "cell_type": "code",
      "source": [
        "def build_analysis(log_data, feat):\n",
        "    plt.figure(figsize=(24, 7))\n",
        "    log_sorted = log_data.sort_values(by=[feat], ascending=False)\n",
        "    splot = sns.barplot(x='Name', y=feat, data=log_sorted,\n",
        "                        palette=list(log_sorted['Color']))\n",
        "\n",
        "    for p in splot.patches:\n",
        "        splot.annotate(format(p.get_height(), '.3f'),\n",
        "                    (p.get_x() + p.get_width() / 2., p.get_height()),\n",
        "                    ha = 'center', va = 'center',\n",
        "                    xytext = (0, 9),\n",
        "                    textcoords = 'offset points')\n",
        "\n",
        "    plt.show()"
      ],
      "metadata": {
        "id": "p2SvP0TMdms7"
      },
      "execution_count": null,
      "outputs": []
    },
    {
      "cell_type": "code",
      "source": [
        "build_analysis(logdata, 'Weighted Avg F1')"
      ],
      "metadata": {
        "colab": {
          "base_uri": "https://localhost:8080/",
          "height": 364
        },
        "id": "6zG8k2pabzKI",
        "outputId": "11c3c81b-50c6-45dd-9c76-0687ee9f63c8"
      },
      "execution_count": null,
      "outputs": [
        {
          "output_type": "display_data",
          "data": {
            "text/plain": [
              "<Figure size 2400x700 with 1 Axes>"
            ],
            "image/png": "[encoded data removed]"
          },
          "metadata": {}
        }
      ]
    },
    {
      "cell_type": "code",
      "source": [
        "build_analysis(logdata, 'Weighted Avg Precision')"
      ],
      "metadata": {
        "colab": {
          "base_uri": "https://localhost:8080/",
          "height": 364
        },
        "id": "A_zQQiq30Zg6",
        "outputId": "f2bb022e-a2ec-47c1-93ec-4c184d89dd2f"
      },
      "execution_count": null,
      "outputs": [
        {
          "output_type": "display_data",
          "data": {
            "text/plain": [
              "<Figure size 2400x700 with 1 Axes>"
            ],
            "image/png": "[encoded data removed]"
          },
          "metadata": {}
        }
      ]
    },
    {
      "cell_type": "code",
      "source": [
        "build_analysis(logdata, 'Weighted Avg Recall')"
      ],
      "metadata": {
        "colab": {
          "base_uri": "https://localhost:8080/",
          "height": 364
        },
        "id": "rAYmz9UG0cUj",
        "outputId": "b1a51e74-6f65-41d8-8b53-64f95e62fd1f"
      },
      "execution_count": null,
      "outputs": [
        {
          "output_type": "display_data",
          "data": {
            "text/plain": [
              "<Figure size 2400x700 with 1 Axes>"
            ],
            "image/png": "[encoded data removed]"
          },
          "metadata": {}
        }
      ]
    },
    {
      "cell_type": "code",
      "source": [
        "build_analysis(logdata, 'Correct Fraction')"
      ],
      "metadata": {
        "colab": {
          "base_uri": "https://localhost:8080/",
          "height": 364
        },
        "id": "wZ-6QoSh0WGf",
        "outputId": "64968fce-6ee9-45a9-8501-a91d6c3d7f36"
      },
      "execution_count": null,
      "outputs": [
        {
          "output_type": "display_data",
          "data": {
            "text/plain": [
              "<Figure size 2400x700 with 1 Axes>"
            ],
            "image/png": "[encoded data removed]"
          },
          "metadata": {}
        }
      ]
    }
  ],
  "metadata": {
    "kernelspec": {
      "display_name": "Python 3",
      "name": "python3"
    },
    "language_info": {
      "codemirror_mode": {
        "name": "ipython",
        "version": 3
      },
      "file_extension": ".py",
      "mimetype": "text/x-python",
      "name": "python",
      "nbconvert_exporter": "python",
      "pygments_lexer": "ipython3",
      "version": "3.11.5"
    },
    "colab": {
      "provenance": [],
      "toc_visible": true,
      "gpuType": "T4"
    },
    "accelerator": "GPU",
    "widgets": {
      "application/vnd.jupyter.widget-state+json": {
        "cd7b603e9d6c439fb4b4d8143461d810": {
          "model_module": "@jupyter-widgets/controls",
          "model_name": "HBoxModel",
          "model_module_version": "1.5.0",
          "state": {
            "_dom_classes": [],
            "_model_module": "@jupyter-widgets/controls",
            "_model_module_version": "1.5.0",
            "_model_name": "HBoxModel",
            "_view_count": null,
            "_view_module": "@jupyter-widgets/controls",
            "_view_module_version": "1.5.0",
            "_view_name": "HBoxView",
            "box_style": "",
            "children": [
              "IPY_MODEL_6de33bf917384b53a7f185bfa9800c3f",
              "IPY_MODEL_7606dac6f252466c87d4b832a7653f0e",
              "IPY_MODEL_bf50bdea10b14e719587641599c4ef57"
            ],
            "layout": "IPY_MODEL_4b691183708c4d0f80fdc40e709c7c94"
          }
        },
        "6de33bf917384b53a7f185bfa9800c3f": {
          "model_module": "@jupyter-widgets/controls",
          "model_name": "HTMLModel",
          "model_module_version": "1.5.0",
          "state": {
            "_dom_classes": [],
            "_model_module": "@jupyter-widgets/controls",
            "_model_module_version": "1.5.0",
            "_model_name": "HTMLModel",
            "_view_count": null,
            "_view_module": "@jupyter-widgets/controls",
            "_view_module_version": "1.5.0",
            "_view_name": "HTMLView",
            "description": "",
            "description_tooltip": null,
            "layout": "IPY_MODEL_2c9c5fae4fa648bebaf2cf89b3c526a5",
            "placeholder": "​",
            "style": "IPY_MODEL_412c3265e1104b699c2268d4cfdd7d49",
            "value": "100%"
          }
        },
        "7606dac6f252466c87d4b832a7653f0e": {
          "model_module": "@jupyter-widgets/controls",
          "model_name": "FloatProgressModel",
          "model_module_version": "1.5.0",
          "state": {
            "_dom_classes": [],
            "_model_module": "@jupyter-widgets/controls",
            "_model_module_version": "1.5.0",
            "_model_name": "FloatProgressModel",
            "_view_count": null,
            "_view_module": "@jupyter-widgets/controls",
            "_view_module_version": "1.5.0",
            "_view_name": "ProgressView",
            "bar_style": "success",
            "description": "",
            "description_tooltip": null,
            "layout": "IPY_MODEL_28ea1131ecb848929b2ef5622647cbe6",
            "max": 41536,
            "min": 0,
            "orientation": "horizontal",
            "style": "IPY_MODEL_c2bd33dfaf6944cfba41d83284bb48e6",
            "value": 41536
          }
        },
        "bf50bdea10b14e719587641599c4ef57": {
          "model_module": "@jupyter-widgets/controls",
          "model_name": "HTMLModel",
          "model_module_version": "1.5.0",
          "state": {
            "_dom_classes": [],
            "_model_module": "@jupyter-widgets/controls",
            "_model_module_version": "1.5.0",
            "_model_name": "HTMLModel",
            "_view_count": null,
            "_view_module": "@jupyter-widgets/controls",
            "_view_module_version": "1.5.0",
            "_view_name": "HTMLView",
            "description": "",
            "description_tooltip": null,
            "layout": "IPY_MODEL_3cc3297f93974b77afa37609cdfe2c6e",
            "placeholder": "​",
            "style": "IPY_MODEL_590a711ed7fa4adb8921d1921de07652",
            "value": " 41536/41536 [01:13&lt;00:00, 1270.63it/s]"
          }
        },
        "4b691183708c4d0f80fdc40e709c7c94": {
          "model_module": "@jupyter-widgets/base",
          "model_name": "LayoutModel",
          "model_module_version": "1.2.0",
          "state": {
            "_model_module": "@jupyter-widgets/base",
            "_model_module_version": "1.2.0",
            "_model_name": "LayoutModel",
            "_view_count": null,
            "_view_module": "@jupyter-widgets/base",
            "_view_module_version": "1.2.0",
            "_view_name": "LayoutView",
            "align_content": null,
            "align_items": null,
            "align_self": null,
            "border": null,
            "bottom": null,
            "display": null,
            "flex": null,
            "flex_flow": null,
            "grid_area": null,
            "grid_auto_columns": null,
            "grid_auto_flow": null,
            "grid_auto_rows": null,
            "grid_column": null,
            "grid_gap": null,
            "grid_row": null,
            "grid_template_areas": null,
            "grid_template_columns": null,
            "grid_template_rows": null,
            "height": null,
            "justify_content": null,
            "justify_items": null,
            "left": null,
            "margin": null,
            "max_height": null,
            "max_width": null,
            "min_height": null,
            "min_width": null,
            "object_fit": null,
            "object_position": null,
            "order": null,
            "overflow": null,
            "overflow_x": null,
            "overflow_y": null,
            "padding": null,
            "right": null,
            "top": null,
            "visibility": null,
            "width": null
          }
        },
        "2c9c5fae4fa648bebaf2cf89b3c526a5": {
          "model_module": "@jupyter-widgets/base",
          "model_name": "LayoutModel",
          "model_module_version": "1.2.0",
          "state": {
            "_model_module": "@jupyter-widgets/base",
            "_model_module_version": "1.2.0",
            "_model_name": "LayoutModel",
            "_view_count": null,
            "_view_module": "@jupyter-widgets/base",
            "_view_module_version": "1.2.0",
            "_view_name": "LayoutView",
            "align_content": null,
            "align_items": null,
            "align_self": null,
            "border": null,
            "bottom": null,
            "display": null,
            "flex": null,
            "flex_flow": null,
            "grid_area": null,
            "grid_auto_columns": null,
            "grid_auto_flow": null,
            "grid_auto_rows": null,
            "grid_column": null,
            "grid_gap": null,
            "grid_row": null,
            "grid_template_areas": null,
            "grid_template_columns": null,
            "grid_template_rows": null,
            "height": null,
            "justify_content": null,
            "justify_items": null,
            "left": null,
            "margin": null,
            "max_height": null,
            "max_width": null,
            "min_height": null,
            "min_width": null,
            "object_fit": null,
            "object_position": null,
            "order": null,
            "overflow": null,
            "overflow_x": null,
            "overflow_y": null,
            "padding": null,
            "right": null,
            "top": null,
            "visibility": null,
            "width": null
          }
        },
        "412c3265e1104b699c2268d4cfdd7d49": {
          "model_module": "@jupyter-widgets/controls",
          "model_name": "DescriptionStyleModel",
          "model_module_version": "1.5.0",
          "state": {
            "_model_module": "@jupyter-widgets/controls",
            "_model_module_version": "1.5.0",
            "_model_name": "DescriptionStyleModel",
            "_view_count": null,
            "_view_module": "@jupyter-widgets/base",
            "_view_module_version": "1.2.0",
            "_view_name": "StyleView",
            "description_width": ""
          }
        },
        "28ea1131ecb848929b2ef5622647cbe6": {
          "model_module": "@jupyter-widgets/base",
          "model_name": "LayoutModel",
          "model_module_version": "1.2.0",
          "state": {
            "_model_module": "@jupyter-widgets/base",
            "_model_module_version": "1.2.0",
            "_model_name": "LayoutModel",
            "_view_count": null,
            "_view_module": "@jupyter-widgets/base",
            "_view_module_version": "1.2.0",
            "_view_name": "LayoutView",
            "align_content": null,
            "align_items": null,
            "align_self": null,
            "border": null,
            "bottom": null,
            "display": null,
            "flex": null,
            "flex_flow": null,
            "grid_area": null,
            "grid_auto_columns": null,
            "grid_auto_flow": null,
            "grid_auto_rows": null,
            "grid_column": null,
            "grid_gap": null,
            "grid_row": null,
            "grid_template_areas": null,
            "grid_template_columns": null,
            "grid_template_rows": null,
            "height": null,
            "justify_content": null,
            "justify_items": null,
            "left": null,
            "margin": null,
            "max_height": null,
            "max_width": null,
            "min_height": null,
            "min_width": null,
            "object_fit": null,
            "object_position": null,
            "order": null,
            "overflow": null,
            "overflow_x": null,
            "overflow_y": null,
            "padding": null,
            "right": null,
            "top": null,
            "visibility": null,
            "width": null
          }
        },
        "c2bd33dfaf6944cfba41d83284bb48e6": {
          "model_module": "@jupyter-widgets/controls",
          "model_name": "ProgressStyleModel",
          "model_module_version": "1.5.0",
          "state": {
            "_model_module": "@jupyter-widgets/controls",
            "_model_module_version": "1.5.0",
            "_model_name": "ProgressStyleModel",
            "_view_count": null,
            "_view_module": "@jupyter-widgets/base",
            "_view_module_version": "1.2.0",
            "_view_name": "StyleView",
            "bar_color": null,
            "description_width": ""
          }
        },
        "3cc3297f93974b77afa37609cdfe2c6e": {
          "model_module": "@jupyter-widgets/base",
          "model_name": "LayoutModel",
          "model_module_version": "1.2.0",
          "state": {
            "_model_module": "@jupyter-widgets/base",
            "_model_module_version": "1.2.0",
            "_model_name": "LayoutModel",
            "_view_count": null,
            "_view_module": "@jupyter-widgets/base",
            "_view_module_version": "1.2.0",
            "_view_name": "LayoutView",
            "align_content": null,
            "align_items": null,
            "align_self": null,
            "border": null,
            "bottom": null,
            "display": null,
            "flex": null,
            "flex_flow": null,
            "grid_area": null,
            "grid_auto_columns": null,
            "grid_auto_flow": null,
            "grid_auto_rows": null,
            "grid_column": null,
            "grid_gap": null,
            "grid_row": null,
            "grid_template_areas": null,
            "grid_template_columns": null,
            "grid_template_rows": null,
            "height": null,
            "justify_content": null,
            "justify_items": null,
            "left": null,
            "margin": null,
            "max_height": null,
            "max_width": null,
            "min_height": null,
            "min_width": null,
            "object_fit": null,
            "object_position": null,
            "order": null,
            "overflow": null,
            "overflow_x": null,
            "overflow_y": null,
            "padding": null,
            "right": null,
            "top": null,
            "visibility": null,
            "width": null
          }
        },
        "590a711ed7fa4adb8921d1921de07652": {
          "model_module": "@jupyter-widgets/controls",
          "model_name": "DescriptionStyleModel",
          "model_module_version": "1.5.0",
          "state": {
            "_model_module": "@jupyter-widgets/controls",
            "_model_module_version": "1.5.0",
            "_model_name": "DescriptionStyleModel",
            "_view_count": null,
            "_view_module": "@jupyter-widgets/base",
            "_view_module_version": "1.2.0",
            "_view_name": "StyleView",
            "description_width": ""
          }
        }
      }
    }
  },
  "nbformat": 4,
  "nbformat_minor": 0
}